{
 "cells": [
  {
   "cell_type": "markdown",
   "metadata": {},
   "source": [
    "# Lead Scoring Case Study"
   ]
  },
  {
   "cell_type": "markdown",
   "metadata": {},
   "source": [
    "**Problem: Identifying promising(HOT) leads, i.e. the leads that are most likely to convert into paying customers**\n",
    "\n",
    "Terminology:\n",
    "**Leads**: People who land on the Company website and fill Email and Phone Number for enquiry of the Course.\n",
    "**Hot Leads**:The leads that are most likely to convert into paying customers.\n",
    "\n",
    "**Objective** : To Build a Regression model which assign a score to each lead such that the customers with higher lead score have a higher conversion chance and the customers with lower lead score have a lower conversion chance.\n"
   ]
  },
  {
   "cell_type": "markdown",
   "metadata": {},
   "source": [
    "### Step 1: Importing necessary Libraries"
   ]
  },
  {
   "cell_type": "code",
   "execution_count": 1034,
   "metadata": {},
   "outputs": [],
   "source": [
    "# Importing  required packages\n",
    "import numpy as np\n",
    "import pandas as pd\n",
    "#from datetime import datetime as dt\n",
    "\n",
    "# For Visualisation\n",
    "import matplotlib.pyplot as plt\n",
    "import seaborn as sns\n",
    "%matplotlib inline\n",
    "\n",
    "# To Scale our data\n",
    "from sklearn.preprocessing import scale\n",
    "from sklearn.datasets import fetch_mldata\n",
    "from sklearn.decomposition import PCA\n",
    "from sklearn.preprocessing import StandardScaler\n",
    "from sklearn import metrics\n",
    "from sklearn.model_selection import train_test_split\n",
    "import pandas as pd\n",
    "\n",
    "# Supress Warnings\n",
    "import warnings\n",
    "warnings.filterwarnings('ignore')"
   ]
  },
  {
   "cell_type": "markdown",
   "metadata": {},
   "source": [
    "### Step 2:Read the DataSet"
   ]
  },
  {
   "cell_type": "code",
   "execution_count": 1035,
   "metadata": {},
   "outputs": [
    {
     "data": {
      "text/html": [
       "<div>\n",
       "<style scoped>\n",
       "    .dataframe tbody tr th:only-of-type {\n",
       "        vertical-align: middle;\n",
       "    }\n",
       "\n",
       "    .dataframe tbody tr th {\n",
       "        vertical-align: top;\n",
       "    }\n",
       "\n",
       "    .dataframe thead th {\n",
       "        text-align: right;\n",
       "    }\n",
       "</style>\n",
       "<table border=\"1\" class=\"dataframe\">\n",
       "  <thead>\n",
       "    <tr style=\"text-align: right;\">\n",
       "      <th></th>\n",
       "      <th>Prospect ID</th>\n",
       "      <th>Lead Number</th>\n",
       "      <th>Lead Origin</th>\n",
       "      <th>Lead Source</th>\n",
       "      <th>Do Not Email</th>\n",
       "      <th>Do Not Call</th>\n",
       "      <th>Converted</th>\n",
       "      <th>TotalVisits</th>\n",
       "      <th>Total Time Spent on Website</th>\n",
       "      <th>Page Views Per Visit</th>\n",
       "      <th>...</th>\n",
       "      <th>Get updates on DM Content</th>\n",
       "      <th>Lead Profile</th>\n",
       "      <th>City</th>\n",
       "      <th>Asymmetrique Activity Index</th>\n",
       "      <th>Asymmetrique Profile Index</th>\n",
       "      <th>Asymmetrique Activity Score</th>\n",
       "      <th>Asymmetrique Profile Score</th>\n",
       "      <th>I agree to pay the amount through cheque</th>\n",
       "      <th>A free copy of Mastering The Interview</th>\n",
       "      <th>Last Notable Activity</th>\n",
       "    </tr>\n",
       "  </thead>\n",
       "  <tbody>\n",
       "    <tr>\n",
       "      <th>0</th>\n",
       "      <td>7927b2df-8bba-4d29-b9a2-b6e0beafe620</td>\n",
       "      <td>660737</td>\n",
       "      <td>API</td>\n",
       "      <td>Olark Chat</td>\n",
       "      <td>No</td>\n",
       "      <td>No</td>\n",
       "      <td>0</td>\n",
       "      <td>0.00</td>\n",
       "      <td>0</td>\n",
       "      <td>0.00</td>\n",
       "      <td>...</td>\n",
       "      <td>No</td>\n",
       "      <td>Select</td>\n",
       "      <td>Select</td>\n",
       "      <td>02.Medium</td>\n",
       "      <td>02.Medium</td>\n",
       "      <td>15.00</td>\n",
       "      <td>15.00</td>\n",
       "      <td>No</td>\n",
       "      <td>No</td>\n",
       "      <td>Modified</td>\n",
       "    </tr>\n",
       "    <tr>\n",
       "      <th>1</th>\n",
       "      <td>2a272436-5132-4136-86fa-dcc88c88f482</td>\n",
       "      <td>660728</td>\n",
       "      <td>API</td>\n",
       "      <td>Organic Search</td>\n",
       "      <td>No</td>\n",
       "      <td>No</td>\n",
       "      <td>0</td>\n",
       "      <td>5.00</td>\n",
       "      <td>674</td>\n",
       "      <td>2.50</td>\n",
       "      <td>...</td>\n",
       "      <td>No</td>\n",
       "      <td>Select</td>\n",
       "      <td>Select</td>\n",
       "      <td>02.Medium</td>\n",
       "      <td>02.Medium</td>\n",
       "      <td>15.00</td>\n",
       "      <td>15.00</td>\n",
       "      <td>No</td>\n",
       "      <td>No</td>\n",
       "      <td>Email Opened</td>\n",
       "    </tr>\n",
       "    <tr>\n",
       "      <th>2</th>\n",
       "      <td>8cc8c611-a219-4f35-ad23-fdfd2656bd8a</td>\n",
       "      <td>660727</td>\n",
       "      <td>Landing Page Submission</td>\n",
       "      <td>Direct Traffic</td>\n",
       "      <td>No</td>\n",
       "      <td>No</td>\n",
       "      <td>1</td>\n",
       "      <td>2.00</td>\n",
       "      <td>1532</td>\n",
       "      <td>2.00</td>\n",
       "      <td>...</td>\n",
       "      <td>No</td>\n",
       "      <td>Potential Lead</td>\n",
       "      <td>Mumbai</td>\n",
       "      <td>02.Medium</td>\n",
       "      <td>01.High</td>\n",
       "      <td>14.00</td>\n",
       "      <td>20.00</td>\n",
       "      <td>No</td>\n",
       "      <td>Yes</td>\n",
       "      <td>Email Opened</td>\n",
       "    </tr>\n",
       "    <tr>\n",
       "      <th>3</th>\n",
       "      <td>0cc2df48-7cf4-4e39-9de9-19797f9b38cc</td>\n",
       "      <td>660719</td>\n",
       "      <td>Landing Page Submission</td>\n",
       "      <td>Direct Traffic</td>\n",
       "      <td>No</td>\n",
       "      <td>No</td>\n",
       "      <td>0</td>\n",
       "      <td>1.00</td>\n",
       "      <td>305</td>\n",
       "      <td>1.00</td>\n",
       "      <td>...</td>\n",
       "      <td>No</td>\n",
       "      <td>Select</td>\n",
       "      <td>Mumbai</td>\n",
       "      <td>02.Medium</td>\n",
       "      <td>01.High</td>\n",
       "      <td>13.00</td>\n",
       "      <td>17.00</td>\n",
       "      <td>No</td>\n",
       "      <td>No</td>\n",
       "      <td>Modified</td>\n",
       "    </tr>\n",
       "    <tr>\n",
       "      <th>4</th>\n",
       "      <td>3256f628-e534-4826-9d63-4a8b88782852</td>\n",
       "      <td>660681</td>\n",
       "      <td>Landing Page Submission</td>\n",
       "      <td>Google</td>\n",
       "      <td>No</td>\n",
       "      <td>No</td>\n",
       "      <td>1</td>\n",
       "      <td>2.00</td>\n",
       "      <td>1428</td>\n",
       "      <td>1.00</td>\n",
       "      <td>...</td>\n",
       "      <td>No</td>\n",
       "      <td>Select</td>\n",
       "      <td>Mumbai</td>\n",
       "      <td>02.Medium</td>\n",
       "      <td>01.High</td>\n",
       "      <td>15.00</td>\n",
       "      <td>18.00</td>\n",
       "      <td>No</td>\n",
       "      <td>No</td>\n",
       "      <td>Modified</td>\n",
       "    </tr>\n",
       "  </tbody>\n",
       "</table>\n",
       "<p>5 rows × 37 columns</p>\n",
       "</div>"
      ],
      "text/plain": [
       "                            Prospect ID  Lead Number              Lead Origin  \\\n",
       "0  7927b2df-8bba-4d29-b9a2-b6e0beafe620       660737                      API   \n",
       "1  2a272436-5132-4136-86fa-dcc88c88f482       660728                      API   \n",
       "2  8cc8c611-a219-4f35-ad23-fdfd2656bd8a       660727  Landing Page Submission   \n",
       "3  0cc2df48-7cf4-4e39-9de9-19797f9b38cc       660719  Landing Page Submission   \n",
       "4  3256f628-e534-4826-9d63-4a8b88782852       660681  Landing Page Submission   \n",
       "\n",
       "      Lead Source Do Not Email Do Not Call  Converted  TotalVisits  \\\n",
       "0      Olark Chat           No          No          0         0.00   \n",
       "1  Organic Search           No          No          0         5.00   \n",
       "2  Direct Traffic           No          No          1         2.00   \n",
       "3  Direct Traffic           No          No          0         1.00   \n",
       "4          Google           No          No          1         2.00   \n",
       "\n",
       "   Total Time Spent on Website  Page Views Per Visit          ...           \\\n",
       "0                            0                  0.00          ...            \n",
       "1                          674                  2.50          ...            \n",
       "2                         1532                  2.00          ...            \n",
       "3                          305                  1.00          ...            \n",
       "4                         1428                  1.00          ...            \n",
       "\n",
       "  Get updates on DM Content    Lead Profile    City  \\\n",
       "0                        No          Select  Select   \n",
       "1                        No          Select  Select   \n",
       "2                        No  Potential Lead  Mumbai   \n",
       "3                        No          Select  Mumbai   \n",
       "4                        No          Select  Mumbai   \n",
       "\n",
       "  Asymmetrique Activity Index Asymmetrique Profile Index  \\\n",
       "0                   02.Medium                  02.Medium   \n",
       "1                   02.Medium                  02.Medium   \n",
       "2                   02.Medium                    01.High   \n",
       "3                   02.Medium                    01.High   \n",
       "4                   02.Medium                    01.High   \n",
       "\n",
       "  Asymmetrique Activity Score Asymmetrique Profile Score  \\\n",
       "0                       15.00                      15.00   \n",
       "1                       15.00                      15.00   \n",
       "2                       14.00                      20.00   \n",
       "3                       13.00                      17.00   \n",
       "4                       15.00                      18.00   \n",
       "\n",
       "  I agree to pay the amount through cheque  \\\n",
       "0                                       No   \n",
       "1                                       No   \n",
       "2                                       No   \n",
       "3                                       No   \n",
       "4                                       No   \n",
       "\n",
       "  A free copy of Mastering The Interview Last Notable Activity  \n",
       "0                                     No              Modified  \n",
       "1                                     No          Email Opened  \n",
       "2                                    Yes          Email Opened  \n",
       "3                                     No              Modified  \n",
       "4                                     No              Modified  \n",
       "\n",
       "[5 rows x 37 columns]"
      ]
     },
     "execution_count": 1035,
     "metadata": {},
     "output_type": "execute_result"
    }
   ],
   "source": [
    "#reading Dataset\n",
    "leads_df = pd.read_csv(r\"C:\\Users\\Aelgani\\Desktop\\Project\\Leads.csv\",encoding = \"ISO-8859-1\")\n",
    "leads_df.head()"
   ]
  },
  {
   "cell_type": "code",
   "execution_count": 1036,
   "metadata": {},
   "outputs": [],
   "source": [
    "xl = pd.ExcelFile(r\"C:\\Users\\Aelgani\\Desktop\\Project\\Leads Data Dictionary.xlsx\")"
   ]
  },
  {
   "cell_type": "code",
   "execution_count": 1037,
   "metadata": {},
   "outputs": [
    {
     "name": "stdout",
     "output_type": "stream",
     "text": [
      "['Sheet1']\n"
     ]
    }
   ],
   "source": [
    "print(xl.sheet_names)"
   ]
  },
  {
   "cell_type": "code",
   "execution_count": 1038,
   "metadata": {},
   "outputs": [],
   "source": [
    "df1 = xl.parse('Sheet1')"
   ]
  },
  {
   "cell_type": "code",
   "execution_count": 1039,
   "metadata": {},
   "outputs": [],
   "source": [
    "df1.drop(['Unnamed: 0'],inplace=True,axis=1)"
   ]
  },
  {
   "cell_type": "code",
   "execution_count": 1040,
   "metadata": {},
   "outputs": [],
   "source": [
    "df1.rename(columns={'Unnamed: 1':'Variables','Unnamed: 2':'Description'},inplace=True)"
   ]
  },
  {
   "cell_type": "code",
   "execution_count": 1041,
   "metadata": {},
   "outputs": [],
   "source": [
    "df1=df1[1:]"
   ]
  },
  {
   "cell_type": "code",
   "execution_count": 1042,
   "metadata": {},
   "outputs": [
    {
     "data": {
      "text/html": [
       "<div>\n",
       "<style scoped>\n",
       "    .dataframe tbody tr th:only-of-type {\n",
       "        vertical-align: middle;\n",
       "    }\n",
       "\n",
       "    .dataframe tbody tr th {\n",
       "        vertical-align: top;\n",
       "    }\n",
       "\n",
       "    .dataframe thead th {\n",
       "        text-align: right;\n",
       "    }\n",
       "</style>\n",
       "<table border=\"1\" class=\"dataframe\">\n",
       "  <thead>\n",
       "    <tr style=\"text-align: right;\">\n",
       "      <th></th>\n",
       "      <th>Variables</th>\n",
       "      <th>Description</th>\n",
       "    </tr>\n",
       "  </thead>\n",
       "  <tbody>\n",
       "    <tr>\n",
       "      <th>1</th>\n",
       "      <td>Prospect ID</td>\n",
       "      <td>A unique ID with which the customer is identif...</td>\n",
       "    </tr>\n",
       "    <tr>\n",
       "      <th>2</th>\n",
       "      <td>Lead Number</td>\n",
       "      <td>A lead number assigned to each lead procured.</td>\n",
       "    </tr>\n",
       "    <tr>\n",
       "      <th>3</th>\n",
       "      <td>Lead Origin</td>\n",
       "      <td>The origin identifier with which the customer ...</td>\n",
       "    </tr>\n",
       "    <tr>\n",
       "      <th>4</th>\n",
       "      <td>Lead Source</td>\n",
       "      <td>The source of the lead. Includes Google, Organ...</td>\n",
       "    </tr>\n",
       "    <tr>\n",
       "      <th>5</th>\n",
       "      <td>Do Not Email</td>\n",
       "      <td>An indicator variable selected by the customer...</td>\n",
       "    </tr>\n",
       "  </tbody>\n",
       "</table>\n",
       "</div>"
      ],
      "text/plain": [
       "      Variables                                        Description\n",
       "1   Prospect ID  A unique ID with which the customer is identif...\n",
       "2   Lead Number      A lead number assigned to each lead procured.\n",
       "3   Lead Origin  The origin identifier with which the customer ...\n",
       "4   Lead Source  The source of the lead. Includes Google, Organ...\n",
       "5  Do Not Email  An indicator variable selected by the customer..."
      ]
     },
     "execution_count": 1042,
     "metadata": {},
     "output_type": "execute_result"
    }
   ],
   "source": [
    "df1.head()"
   ]
  },
  {
   "cell_type": "markdown",
   "metadata": {},
   "source": [
    "### Step 3: Inspecting the Leads Dataframe"
   ]
  },
  {
   "cell_type": "code",
   "execution_count": 1043,
   "metadata": {},
   "outputs": [
    {
     "data": {
      "text/plain": [
       "Prospect ID                                       object\n",
       "Lead Number                                        int64\n",
       "Lead Origin                                       object\n",
       "Lead Source                                       object\n",
       "Do Not Email                                      object\n",
       "Do Not Call                                       object\n",
       "Converted                                          int64\n",
       "TotalVisits                                      float64\n",
       "Total Time Spent on Website                        int64\n",
       "Page Views Per Visit                             float64\n",
       "Last Activity                                     object\n",
       "Country                                           object\n",
       "Specialization                                    object\n",
       "How did you hear about X Education                object\n",
       "What is your current occupation                   object\n",
       "What matters most to you in choosing a course     object\n",
       "Search                                            object\n",
       "Magazine                                          object\n",
       "Newspaper Article                                 object\n",
       "X Education Forums                                object\n",
       "Newspaper                                         object\n",
       "Digital Advertisement                             object\n",
       "Through Recommendations                           object\n",
       "Receive More Updates About Our Courses            object\n",
       "Tags                                              object\n",
       "Lead Quality                                      object\n",
       "Update me on Supply Chain Content                 object\n",
       "Get updates on DM Content                         object\n",
       "Lead Profile                                      object\n",
       "City                                              object\n",
       "Asymmetrique Activity Index                       object\n",
       "Asymmetrique Profile Index                        object\n",
       "Asymmetrique Activity Score                      float64\n",
       "Asymmetrique Profile Score                       float64\n",
       "I agree to pay the amount through cheque          object\n",
       "A free copy of Mastering The Interview            object\n",
       "Last Notable Activity                             object\n",
       "dtype: object"
      ]
     },
     "execution_count": 1043,
     "metadata": {},
     "output_type": "execute_result"
    }
   ],
   "source": [
    "leads_df.dtypes"
   ]
  },
  {
   "cell_type": "code",
   "execution_count": 1044,
   "metadata": {},
   "outputs": [
    {
     "data": {
      "text/plain": [
       "(9240, 37)"
      ]
     },
     "execution_count": 1044,
     "metadata": {},
     "output_type": "execute_result"
    }
   ],
   "source": [
    "leads_df.shape"
   ]
  },
  {
   "cell_type": "markdown",
   "metadata": {},
   "source": [
    "**The Data set has 9240 Rows and 37 Columns**"
   ]
  },
  {
   "cell_type": "markdown",
   "metadata": {},
   "source": [
    "### Step 4: Preparing  the Data"
   ]
  },
  {
   "cell_type": "markdown",
   "metadata": {},
   "source": [
    "**Step 4_1: Droping Duplicates** "
   ]
  },
  {
   "cell_type": "code",
   "execution_count": 1045,
   "metadata": {},
   "outputs": [
    {
     "data": {
      "text/plain": [
       "(9240, 37)"
      ]
     },
     "execution_count": 1045,
     "metadata": {},
     "output_type": "execute_result"
    }
   ],
   "source": [
    "#droping Duplicate Rows if any..\n",
    "leads_df.drop_duplicates(subset='Lead Number')\n",
    "leads_df.shape"
   ]
  },
  {
   "cell_type": "markdown",
   "metadata": {},
   "source": [
    "**The Dataset has no duplicate rows**"
   ]
  },
  {
   "cell_type": "markdown",
   "metadata": {},
   "source": [
    "**Step 4_2:Handling NULL Values**"
   ]
  },
  {
   "cell_type": "code",
   "execution_count": 1046,
   "metadata": {},
   "outputs": [
    {
     "data": {
      "text/html": [
       "<div>\n",
       "<style scoped>\n",
       "    .dataframe tbody tr th:only-of-type {\n",
       "        vertical-align: middle;\n",
       "    }\n",
       "\n",
       "    .dataframe tbody tr th {\n",
       "        vertical-align: top;\n",
       "    }\n",
       "\n",
       "    .dataframe thead th {\n",
       "        text-align: right;\n",
       "    }\n",
       "</style>\n",
       "<table border=\"1\" class=\"dataframe\">\n",
       "  <thead>\n",
       "    <tr style=\"text-align: right;\">\n",
       "      <th></th>\n",
       "      <th>Total</th>\n",
       "      <th>Percentage</th>\n",
       "    </tr>\n",
       "  </thead>\n",
       "  <tbody>\n",
       "    <tr>\n",
       "      <th>Lead Quality</th>\n",
       "      <td>4767</td>\n",
       "      <td>51.59</td>\n",
       "    </tr>\n",
       "    <tr>\n",
       "      <th>Asymmetrique Profile Score</th>\n",
       "      <td>4218</td>\n",
       "      <td>45.65</td>\n",
       "    </tr>\n",
       "    <tr>\n",
       "      <th>Asymmetrique Activity Score</th>\n",
       "      <td>4218</td>\n",
       "      <td>45.65</td>\n",
       "    </tr>\n",
       "    <tr>\n",
       "      <th>Asymmetrique Profile Index</th>\n",
       "      <td>4218</td>\n",
       "      <td>45.65</td>\n",
       "    </tr>\n",
       "    <tr>\n",
       "      <th>Asymmetrique Activity Index</th>\n",
       "      <td>4218</td>\n",
       "      <td>45.65</td>\n",
       "    </tr>\n",
       "    <tr>\n",
       "      <th>Tags</th>\n",
       "      <td>3353</td>\n",
       "      <td>36.29</td>\n",
       "    </tr>\n",
       "    <tr>\n",
       "      <th>What matters most to you in choosing a course</th>\n",
       "      <td>2709</td>\n",
       "      <td>29.32</td>\n",
       "    </tr>\n",
       "    <tr>\n",
       "      <th>Lead Profile</th>\n",
       "      <td>2709</td>\n",
       "      <td>29.32</td>\n",
       "    </tr>\n",
       "    <tr>\n",
       "      <th>What is your current occupation</th>\n",
       "      <td>2690</td>\n",
       "      <td>29.11</td>\n",
       "    </tr>\n",
       "    <tr>\n",
       "      <th>Country</th>\n",
       "      <td>2461</td>\n",
       "      <td>26.63</td>\n",
       "    </tr>\n",
       "    <tr>\n",
       "      <th>How did you hear about X Education</th>\n",
       "      <td>2207</td>\n",
       "      <td>23.89</td>\n",
       "    </tr>\n",
       "    <tr>\n",
       "      <th>Specialization</th>\n",
       "      <td>1438</td>\n",
       "      <td>15.56</td>\n",
       "    </tr>\n",
       "    <tr>\n",
       "      <th>City</th>\n",
       "      <td>1420</td>\n",
       "      <td>15.37</td>\n",
       "    </tr>\n",
       "    <tr>\n",
       "      <th>TotalVisits</th>\n",
       "      <td>137</td>\n",
       "      <td>1.48</td>\n",
       "    </tr>\n",
       "    <tr>\n",
       "      <th>Page Views Per Visit</th>\n",
       "      <td>137</td>\n",
       "      <td>1.48</td>\n",
       "    </tr>\n",
       "    <tr>\n",
       "      <th>Last Activity</th>\n",
       "      <td>103</td>\n",
       "      <td>1.11</td>\n",
       "    </tr>\n",
       "    <tr>\n",
       "      <th>Lead Source</th>\n",
       "      <td>36</td>\n",
       "      <td>0.39</td>\n",
       "    </tr>\n",
       "    <tr>\n",
       "      <th>Do Not Email</th>\n",
       "      <td>0</td>\n",
       "      <td>0.00</td>\n",
       "    </tr>\n",
       "    <tr>\n",
       "      <th>Do Not Call</th>\n",
       "      <td>0</td>\n",
       "      <td>0.00</td>\n",
       "    </tr>\n",
       "    <tr>\n",
       "      <th>Converted</th>\n",
       "      <td>0</td>\n",
       "      <td>0.00</td>\n",
       "    </tr>\n",
       "    <tr>\n",
       "      <th>Total Time Spent on Website</th>\n",
       "      <td>0</td>\n",
       "      <td>0.00</td>\n",
       "    </tr>\n",
       "    <tr>\n",
       "      <th>Lead Origin</th>\n",
       "      <td>0</td>\n",
       "      <td>0.00</td>\n",
       "    </tr>\n",
       "    <tr>\n",
       "      <th>Lead Number</th>\n",
       "      <td>0</td>\n",
       "      <td>0.00</td>\n",
       "    </tr>\n",
       "    <tr>\n",
       "      <th>Last Notable Activity</th>\n",
       "      <td>0</td>\n",
       "      <td>0.00</td>\n",
       "    </tr>\n",
       "    <tr>\n",
       "      <th>Newspaper Article</th>\n",
       "      <td>0</td>\n",
       "      <td>0.00</td>\n",
       "    </tr>\n",
       "    <tr>\n",
       "      <th>Search</th>\n",
       "      <td>0</td>\n",
       "      <td>0.00</td>\n",
       "    </tr>\n",
       "    <tr>\n",
       "      <th>Magazine</th>\n",
       "      <td>0</td>\n",
       "      <td>0.00</td>\n",
       "    </tr>\n",
       "    <tr>\n",
       "      <th>A free copy of Mastering The Interview</th>\n",
       "      <td>0</td>\n",
       "      <td>0.00</td>\n",
       "    </tr>\n",
       "    <tr>\n",
       "      <th>X Education Forums</th>\n",
       "      <td>0</td>\n",
       "      <td>0.00</td>\n",
       "    </tr>\n",
       "    <tr>\n",
       "      <th>Newspaper</th>\n",
       "      <td>0</td>\n",
       "      <td>0.00</td>\n",
       "    </tr>\n",
       "    <tr>\n",
       "      <th>Digital Advertisement</th>\n",
       "      <td>0</td>\n",
       "      <td>0.00</td>\n",
       "    </tr>\n",
       "    <tr>\n",
       "      <th>Through Recommendations</th>\n",
       "      <td>0</td>\n",
       "      <td>0.00</td>\n",
       "    </tr>\n",
       "    <tr>\n",
       "      <th>Receive More Updates About Our Courses</th>\n",
       "      <td>0</td>\n",
       "      <td>0.00</td>\n",
       "    </tr>\n",
       "    <tr>\n",
       "      <th>Update me on Supply Chain Content</th>\n",
       "      <td>0</td>\n",
       "      <td>0.00</td>\n",
       "    </tr>\n",
       "    <tr>\n",
       "      <th>Get updates on DM Content</th>\n",
       "      <td>0</td>\n",
       "      <td>0.00</td>\n",
       "    </tr>\n",
       "    <tr>\n",
       "      <th>I agree to pay the amount through cheque</th>\n",
       "      <td>0</td>\n",
       "      <td>0.00</td>\n",
       "    </tr>\n",
       "    <tr>\n",
       "      <th>Prospect ID</th>\n",
       "      <td>0</td>\n",
       "      <td>0.00</td>\n",
       "    </tr>\n",
       "  </tbody>\n",
       "</table>\n",
       "</div>"
      ],
      "text/plain": [
       "                                               Total  Percentage\n",
       "Lead Quality                                    4767       51.59\n",
       "Asymmetrique Profile Score                      4218       45.65\n",
       "Asymmetrique Activity Score                     4218       45.65\n",
       "Asymmetrique Profile Index                      4218       45.65\n",
       "Asymmetrique Activity Index                     4218       45.65\n",
       "Tags                                            3353       36.29\n",
       "What matters most to you in choosing a course   2709       29.32\n",
       "Lead Profile                                    2709       29.32\n",
       "What is your current occupation                 2690       29.11\n",
       "Country                                         2461       26.63\n",
       "How did you hear about X Education              2207       23.89\n",
       "Specialization                                  1438       15.56\n",
       "City                                            1420       15.37\n",
       "TotalVisits                                      137        1.48\n",
       "Page Views Per Visit                             137        1.48\n",
       "Last Activity                                    103        1.11\n",
       "Lead Source                                       36        0.39\n",
       "Do Not Email                                       0        0.00\n",
       "Do Not Call                                        0        0.00\n",
       "Converted                                          0        0.00\n",
       "Total Time Spent on Website                        0        0.00\n",
       "Lead Origin                                        0        0.00\n",
       "Lead Number                                        0        0.00\n",
       "Last Notable Activity                              0        0.00\n",
       "Newspaper Article                                  0        0.00\n",
       "Search                                             0        0.00\n",
       "Magazine                                           0        0.00\n",
       "A free copy of Mastering The Interview             0        0.00\n",
       "X Education Forums                                 0        0.00\n",
       "Newspaper                                          0        0.00\n",
       "Digital Advertisement                              0        0.00\n",
       "Through Recommendations                            0        0.00\n",
       "Receive More Updates About Our Courses             0        0.00\n",
       "Update me on Supply Chain Content                  0        0.00\n",
       "Get updates on DM Content                          0        0.00\n",
       "I agree to pay the amount through cheque           0        0.00\n",
       "Prospect ID                                        0        0.00"
      ]
     },
     "execution_count": 1046,
     "metadata": {},
     "output_type": "execute_result"
    }
   ],
   "source": [
    "# Checking for total count and percentage of null values in all columns of the dataframe.\n",
    "\n",
    "total = pd.DataFrame(leads_df.isnull().sum().sort_values(ascending=False), columns=['Total'])\n",
    "percentage = pd.DataFrame(round(100*(leads_df.isnull().sum()/leads_df.shape[0]),2).sort_values(ascending=False)\\\n",
    "                          ,columns=['Percentage'])\n",
    "pd.concat([total, percentage], axis = 1)"
   ]
  },
  {
   "cell_type": "markdown",
   "metadata": {},
   "source": [
    "##### Dropping Reduandent Columns NOT requiredd for Analysis"
   ]
  },
  {
   "cell_type": "code",
   "execution_count": 1047,
   "metadata": {},
   "outputs": [
    {
     "data": {
      "text/plain": [
       "False"
      ]
     },
     "execution_count": 1047,
     "metadata": {},
     "output_type": "execute_result"
    }
   ],
   "source": [
    "# Identifying if any column exists with only null values\n",
    "leads_df.isnull().all(axis=0).any()"
   ]
  },
  {
   "cell_type": "markdown",
   "metadata": {},
   "source": [
    "**There are no columns with NO Data**"
   ]
  },
  {
   "cell_type": "code",
   "execution_count": 1048,
   "metadata": {},
   "outputs": [
    {
     "data": {
      "text/plain": [
       "(9240, 37)"
      ]
     },
     "execution_count": 1048,
     "metadata": {},
     "output_type": "execute_result"
    }
   ],
   "source": [
    "# Dropping all columns with only 0 values\n",
    "leads_df.loc[:, (leads_df != 0).any(axis=0)]\n",
    "leads_df.shape"
   ]
  },
  {
   "cell_type": "markdown",
   "metadata": {},
   "source": [
    "**There are no  Zero filled Columns**"
   ]
  },
  {
   "cell_type": "markdown",
   "metadata": {},
   "source": [
    "In the Dataset the columns such as  \n",
    "Magazine\n",
    "Receive More Updates About Our Courses,\n",
    "Update me on Supply Chain Content,\n",
    "Update me on Supply Chain Content,\n",
    "I agree to pay the amount through cheque,..etc  have only one  Unique values \n",
    "<br/>\n",
    "Therefore they are not useful in classifying lead as Hot or Not.We can drop them"
   ]
  },
  {
   "cell_type": "code",
   "execution_count": 1049,
   "metadata": {},
   "outputs": [],
   "source": [
    "for col in leads_df.columns:\n",
    "    if len(leads_df[col].unique()) == 1:\n",
    "        leads_df.drop(col,inplace=True,axis=1)"
   ]
  },
  {
   "cell_type": "code",
   "execution_count": 1050,
   "metadata": {},
   "outputs": [
    {
     "data": {
      "text/plain": [
       "Index(['Prospect ID', 'Lead Number', 'Lead Origin', 'Lead Source',\n",
       "       'Do Not Email', 'Do Not Call', 'Converted', 'TotalVisits',\n",
       "       'Total Time Spent on Website', 'Page Views Per Visit', 'Last Activity',\n",
       "       'Country', 'Specialization', 'How did you hear about X Education',\n",
       "       'What is your current occupation',\n",
       "       'What matters most to you in choosing a course', 'Search',\n",
       "       'Newspaper Article', 'X Education Forums', 'Newspaper',\n",
       "       'Digital Advertisement', 'Through Recommendations', 'Tags',\n",
       "       'Lead Quality', 'Lead Profile', 'City', 'Asymmetrique Activity Index',\n",
       "       'Asymmetrique Profile Index', 'Asymmetrique Activity Score',\n",
       "       'Asymmetrique Profile Score', 'A free copy of Mastering The Interview',\n",
       "       'Last Notable Activity'],\n",
       "      dtype='object')"
      ]
     },
     "execution_count": 1050,
     "metadata": {},
     "output_type": "execute_result"
    }
   ],
   "source": [
    "leads_df.columns"
   ]
  },
  {
   "cell_type": "code",
   "execution_count": 1051,
   "metadata": {},
   "outputs": [
    {
     "data": {
      "text/plain": [
       "(9240, 32)"
      ]
     },
     "execution_count": 1051,
     "metadata": {},
     "output_type": "execute_result"
    }
   ],
   "source": [
    "leads_df.shape"
   ]
  },
  {
   "cell_type": "code",
   "execution_count": 1052,
   "metadata": {},
   "outputs": [],
   "source": [
    "# Droping the columns 'Asymmetrique Activity Score' and 'Asymmetrique Profile Score' \n",
    "# as they can be represented by their respective index columns"
   ]
  },
  {
   "cell_type": "code",
   "execution_count": 1053,
   "metadata": {},
   "outputs": [
    {
     "data": {
      "text/plain": [
       "(9240, 30)"
      ]
     },
     "execution_count": 1053,
     "metadata": {},
     "output_type": "execute_result"
    }
   ],
   "source": [
    "leads_df=leads_df.drop(['Asymmetrique Activity Score','Asymmetrique Profile Score'],axis=1)\n",
    "leads_df.shape"
   ]
  },
  {
   "cell_type": "code",
   "execution_count": 1054,
   "metadata": {},
   "outputs": [],
   "source": [
    "# Droping the columns 'Prospect ID' as it will not have any impact on the predicting model"
   ]
  },
  {
   "cell_type": "code",
   "execution_count": 1055,
   "metadata": {},
   "outputs": [],
   "source": [
    "leads_df = leads_df.drop('Prospect ID', axis=1)\n"
   ]
  },
  {
   "cell_type": "code",
   "execution_count": 1056,
   "metadata": {},
   "outputs": [
    {
     "data": {
      "text/plain": [
       "(9240, 29)"
      ]
     },
     "execution_count": 1056,
     "metadata": {},
     "output_type": "execute_result"
    }
   ],
   "source": [
    "leads_df.shape"
   ]
  },
  {
   "cell_type": "code",
   "execution_count": 1057,
   "metadata": {},
   "outputs": [
    {
     "data": {
      "text/plain": [
       "(9240, 28)"
      ]
     },
     "execution_count": 1057,
     "metadata": {},
     "output_type": "execute_result"
    }
   ],
   "source": [
    "#droping the columns 'What matters most to you in choosing a course' as it mostly has unique values and few  null values.\n",
    "leads_df = leads_df.drop('What matters most to you in choosing a course', axis=1)\n",
    "leads_df.shape"
   ]
  },
  {
   "cell_type": "code",
   "execution_count": 1058,
   "metadata": {},
   "outputs": [
    {
     "data": {
      "text/plain": [
       "(9240, 27)"
      ]
     },
     "execution_count": 1058,
     "metadata": {},
     "output_type": "execute_result"
    }
   ],
   "source": [
    "# Droping the columns 'How did you hear about X Education' as it mostly has null values or 'Select' values \n",
    "# that  doesnt contribute to the 'Converted' percentage.\n",
    "leads_df = leads_df.drop('How did you hear about X Education', axis=1)\n",
    "leads_df.shape"
   ]
  },
  {
   "cell_type": "code",
   "execution_count": 1059,
   "metadata": {},
   "outputs": [],
   "source": [
    "#Eliminating rows where a particular column has high missing values"
   ]
  },
  {
   "cell_type": "code",
   "execution_count": 1060,
   "metadata": {},
   "outputs": [
    {
     "data": {
      "text/plain": [
       "36"
      ]
     },
     "execution_count": 1060,
     "metadata": {},
     "output_type": "execute_result"
    }
   ],
   "source": [
    "leads_df['Lead Source'].isnull().sum()"
   ]
  },
  {
   "cell_type": "code",
   "execution_count": 1061,
   "metadata": {},
   "outputs": [
    {
     "data": {
      "text/plain": [
       "(9204, 27)"
      ]
     },
     "execution_count": 1061,
     "metadata": {},
     "output_type": "execute_result"
    }
   ],
   "source": [
    "# Eliminating rows where a particular column has high missing values as  the column cannot be removed because of its importance\n",
    "leads_df = leads_df[~pd.isnull(leads_df['Lead Source'])]\n",
    "leads_df.shape"
   ]
  },
  {
   "cell_type": "markdown",
   "metadata": {},
   "source": [
    "### Step 5 Imputing the Missing Values"
   ]
  },
  {
   "cell_type": "markdown",
   "metadata": {},
   "source": [
    "**Imputing the continuous variables with Median values**"
   ]
  },
  {
   "cell_type": "code",
   "execution_count": 1062,
   "metadata": {},
   "outputs": [],
   "source": [
    "  \n",
    "leads_df['TotalVisits'].replace(np.NaN, leads_df['TotalVisits'].median(), inplace =True)"
   ]
  },
  {
   "cell_type": "code",
   "execution_count": 1063,
   "metadata": {},
   "outputs": [],
   "source": [
    "leads_df['Page Views Per Visit'].replace(np.NaN, leads_df['Page Views Per Visit'].median(), inplace =True)"
   ]
  },
  {
   "cell_type": "markdown",
   "metadata": {},
   "source": [
    "**Imputing the Categorical variables with Mode values**"
   ]
  },
  {
   "cell_type": "code",
   "execution_count": 1064,
   "metadata": {},
   "outputs": [
    {
     "data": {
      "text/plain": [
       "0    India\n",
       "dtype: object"
      ]
     },
     "execution_count": 1064,
     "metadata": {},
     "output_type": "execute_result"
    }
   ],
   "source": [
    "leads_df['Country'].mode()"
   ]
  },
  {
   "cell_type": "code",
   "execution_count": 1065,
   "metadata": {},
   "outputs": [],
   "source": [
    "leads_df.loc[pd.isnull(leads_df['Country']), ['Country']] = 'India'"
   ]
  },
  {
   "cell_type": "code",
   "execution_count": 1066,
   "metadata": {},
   "outputs": [
    {
     "data": {
      "text/plain": [
       "India            8917\n",
       "Outside India     287\n",
       "Name: Country, dtype: int64"
      ]
     },
     "execution_count": 1066,
     "metadata": {},
     "output_type": "execute_result"
    }
   ],
   "source": [
    "leads_df['Country'] = leads_df['Country'].apply(lambda x: 'India' if x=='India' else 'Outside India')\n",
    "leads_df['Country'].value_counts()"
   ]
  },
  {
   "cell_type": "code",
   "execution_count": 1067,
   "metadata": {},
   "outputs": [],
   "source": [
    "#lets see how many HOT leads are successfulyy converted within INdia"
   ]
  },
  {
   "cell_type": "code",
   "execution_count": 1068,
   "metadata": {},
   "outputs": [
    {
     "data": {
      "text/plain": [
       "<matplotlib.axes._subplots.AxesSubplot at 0x1ed861a7898>"
      ]
     },
     "execution_count": 1068,
     "metadata": {},
     "output_type": "execute_result"
    },
    {
     "data": {
      "image/png": "[encoded data removed]",
      "text/plain": [
       "<Figure size 432x288 with 1 Axes>"
      ]
     },
     "metadata": {
      "needs_background": "light"
     },
     "output_type": "display_data"
    }
   ],
   "source": [
    "sns.barplot(y='Country', x='Converted', data=leads_df, estimator=np.sum)"
   ]
  },
  {
   "cell_type": "markdown",
   "metadata": {},
   "source": [
    "**Handling SELECT values in Columns**"
   ]
  },
  {
   "cell_type": "markdown",
   "metadata": {},
   "source": [
    "**Assigning a Unique Category 'NOTKNOWN'  to NULL/SELECT values**"
   ]
  },
  {
   "cell_type": "code",
   "execution_count": 1069,
   "metadata": {},
   "outputs": [
    {
     "data": {
      "text/plain": [
       "Might be             1545\n",
       "Not Sure             1090\n",
       "High in Relevance     632\n",
       "Worst                 601\n",
       "Low in Relevance      583\n",
       "Name: Lead Quality, dtype: int64"
      ]
     },
     "execution_count": 1069,
     "metadata": {},
     "output_type": "execute_result"
    }
   ],
   "source": [
    "leads_df['Lead Quality'].value_counts()"
   ]
  },
  {
   "cell_type": "code",
   "execution_count": 1070,
   "metadata": {},
   "outputs": [
    {
     "data": {
      "text/plain": [
       "4753"
      ]
     },
     "execution_count": 1070,
     "metadata": {},
     "output_type": "execute_result"
    }
   ],
   "source": [
    "leads_df['Lead Quality'].isnull().sum()"
   ]
  },
  {
   "cell_type": "code",
   "execution_count": 1071,
   "metadata": {},
   "outputs": [
    {
     "data": {
      "text/plain": [
       "NOT known            4753\n",
       "Might be             1545\n",
       "Not Sure             1090\n",
       "High in Relevance     632\n",
       "Worst                 601\n",
       "Low in Relevance      583\n",
       "Name: Lead Quality, dtype: int64"
      ]
     },
     "execution_count": 1071,
     "metadata": {},
     "output_type": "execute_result"
    }
   ],
   "source": [
    "leads_df['Lead Quality'].fillna(\"NOT known\", inplace = True)\n",
    "leads_df['Lead Quality'].value_counts()"
   ]
  },
  {
   "cell_type": "code",
   "execution_count": 1072,
   "metadata": {},
   "outputs": [
    {
     "data": {
      "text/plain": [
       "<matplotlib.axes._subplots.AxesSubplot at 0x1ed866c5320>"
      ]
     },
     "execution_count": 1072,
     "metadata": {},
     "output_type": "execute_result"
    },
    {
     "data": {
      "image/png": "[encoded data removed]",
      "text/plain": [
       "<Figure size 432x288 with 1 Axes>"
      ]
     },
     "metadata": {
      "needs_background": "light"
     },
     "output_type": "display_data"
    }
   ],
   "source": [
    "sns.barplot(y='Lead Quality', x='Converted',  data=leads_df, estimator=np.sum)"
   ]
  },
  {
   "cell_type": "markdown",
   "metadata": {},
   "source": [
    "***Adding a new categorcal variable consisting on NULL/Select values for the field `Asymmetrique Profile Index`***"
   ]
  },
  {
   "cell_type": "code",
   "execution_count": 1073,
   "metadata": {},
   "outputs": [
    {
     "data": {
      "text/plain": [
       "02.Medium    2771\n",
       "01.High      2201\n",
       "03.Low         31\n",
       "Name: Asymmetrique Profile Index, dtype: int64"
      ]
     },
     "execution_count": 1073,
     "metadata": {},
     "output_type": "execute_result"
    }
   ],
   "source": [
    "leads_df['Asymmetrique Profile Index'].value_counts()"
   ]
  },
  {
   "cell_type": "code",
   "execution_count": 1074,
   "metadata": {},
   "outputs": [
    {
     "data": {
      "text/plain": [
       "4201"
      ]
     },
     "execution_count": 1074,
     "metadata": {},
     "output_type": "execute_result"
    }
   ],
   "source": [
    "leads_df['Asymmetrique Profile Index'].isnull().sum()"
   ]
  },
  {
   "cell_type": "code",
   "execution_count": 1075,
   "metadata": {},
   "outputs": [
    {
     "data": {
      "text/plain": [
       "Notknown     4201\n",
       "02.Medium    2771\n",
       "01.High      2201\n",
       "03.Low         31\n",
       "Name: Asymmetrique Profile Index, dtype: int64"
      ]
     },
     "execution_count": 1075,
     "metadata": {},
     "output_type": "execute_result"
    }
   ],
   "source": [
    "leads_df['Asymmetrique Profile Index'].fillna(\"Notknown\", inplace = True)\n",
    "leads_df['Asymmetrique Profile Index'].value_counts()"
   ]
  },
  {
   "cell_type": "code",
   "execution_count": 1076,
   "metadata": {},
   "outputs": [
    {
     "data": {
      "text/plain": [
       "<matplotlib.axes._subplots.AxesSubplot at 0x1ed86394320>"
      ]
     },
     "execution_count": 1076,
     "metadata": {},
     "output_type": "execute_result"
    },
    {
     "data": {
      "image/png": "[encoded data removed]",
      "text/plain": [
       "<Figure size 432x288 with 1 Axes>"
      ]
     },
     "metadata": {
      "needs_background": "light"
     },
     "output_type": "display_data"
    }
   ],
   "source": [
    "sns.barplot(y='Asymmetrique Profile Index', x='Converted',  data=leads_df, estimator=np.sum)"
   ]
  },
  {
   "cell_type": "markdown",
   "metadata": {},
   "source": [
    "***Adding a new category consisting on NULL/Select values for the field `Asymmetrique Activity Index`***"
   ]
  },
  {
   "cell_type": "code",
   "execution_count": 1077,
   "metadata": {},
   "outputs": [
    {
     "data": {
      "text/plain": [
       "02.Medium    3820\n",
       "01.High       821\n",
       "03.Low        362\n",
       "Name: Asymmetrique Activity Index, dtype: int64"
      ]
     },
     "execution_count": 1077,
     "metadata": {},
     "output_type": "execute_result"
    }
   ],
   "source": [
    "leads_df['Asymmetrique Activity Index'].value_counts()"
   ]
  },
  {
   "cell_type": "code",
   "execution_count": 1078,
   "metadata": {},
   "outputs": [
    {
     "data": {
      "text/plain": [
       "4201"
      ]
     },
     "execution_count": 1078,
     "metadata": {},
     "output_type": "execute_result"
    }
   ],
   "source": [
    "leads_df['Asymmetrique Activity Index'].isnull().sum()"
   ]
  },
  {
   "cell_type": "code",
   "execution_count": 1079,
   "metadata": {},
   "outputs": [
    {
     "data": {
      "text/plain": [
       "Notknown     4201\n",
       "02.Medium    3820\n",
       "01.High       821\n",
       "03.Low        362\n",
       "Name: Asymmetrique Activity Index, dtype: int64"
      ]
     },
     "execution_count": 1079,
     "metadata": {},
     "output_type": "execute_result"
    }
   ],
   "source": [
    "leads_df['Asymmetrique Activity Index'].fillna(\"Notknown\", inplace = True)\n",
    "leads_df['Asymmetrique Activity Index'].value_counts()"
   ]
  },
  {
   "cell_type": "code",
   "execution_count": 1080,
   "metadata": {},
   "outputs": [
    {
     "data": {
      "text/plain": [
       "<matplotlib.axes._subplots.AxesSubplot at 0x1ed864132b0>"
      ]
     },
     "execution_count": 1080,
     "metadata": {},
     "output_type": "execute_result"
    },
    {
     "data": {
      "image/png": "[encoded data removed]",
      "text/plain": [
       "<Figure size 432x288 with 1 Axes>"
      ]
     },
     "metadata": {
      "needs_background": "light"
     },
     "output_type": "display_data"
    }
   ],
   "source": [
    "sns.barplot(y='Asymmetrique Activity Index', x='Converted', data=leads_df, estimator=np.sum)"
   ]
  },
  {
   "cell_type": "markdown",
   "metadata": {},
   "source": [
    "***Creating a new category consisting on NULL/Select values for the field  CITY***"
   ]
  },
  {
   "cell_type": "code",
   "execution_count": 1081,
   "metadata": {},
   "outputs": [
    {
     "data": {
      "text/plain": [
       "1420"
      ]
     },
     "execution_count": 1081,
     "metadata": {},
     "output_type": "execute_result"
    }
   ],
   "source": [
    "leads_df['City'].isnull().sum()"
   ]
  },
  {
   "cell_type": "code",
   "execution_count": 1082,
   "metadata": {},
   "outputs": [
    {
     "data": {
      "text/plain": [
       "Mumbai                         3220\n",
       "Select                         2218\n",
       "NOTKNOWN                       1420\n",
       "Thane & Outskirts               751\n",
       "Other Cities                    686\n",
       "Other Cities of Maharashtra     456\n",
       "Other Metro Cities              379\n",
       "Tier II Cities                   74\n",
       "Name: City, dtype: int64"
      ]
     },
     "execution_count": 1082,
     "metadata": {},
     "output_type": "execute_result"
    }
   ],
   "source": [
    "leads_df['City'].fillna(\"NOTKNOWN\", inplace = True)\n",
    "leads_df['City'].value_counts()"
   ]
  },
  {
   "cell_type": "code",
   "execution_count": 1083,
   "metadata": {},
   "outputs": [
    {
     "data": {
      "text/plain": [
       "NOTKNOWN                       3638\n",
       "Mumbai                         3220\n",
       "Thane & Outskirts               751\n",
       "Other Cities                    686\n",
       "Other Cities of Maharashtra     456\n",
       "Other Metro Cities              379\n",
       "Tier II Cities                   74\n",
       "Name: City, dtype: int64"
      ]
     },
     "execution_count": 1083,
     "metadata": {},
     "output_type": "execute_result"
    }
   ],
   "source": [
    "leads_df['City'].replace('Select', 'NOTKNOWN', inplace =True)\n",
    "leads_df['City'].value_counts()"
   ]
  },
  {
   "cell_type": "code",
   "execution_count": 1084,
   "metadata": {},
   "outputs": [
    {
     "data": {
      "text/plain": [
       "<matplotlib.axes._subplots.AxesSubplot at 0x1ed86415a90>"
      ]
     },
     "execution_count": 1084,
     "metadata": {},
     "output_type": "execute_result"
    },
    {
     "data": {
      "image/png": "[encoded data removed]",
      "text/plain": [
       "<Figure size 432x288 with 1 Axes>"
      ]
     },
     "metadata": {
      "needs_background": "light"
     },
     "output_type": "display_data"
    }
   ],
   "source": [
    "sns.barplot(y='City', x='Converted',  data=leads_df, estimator=np.sum)"
   ]
  },
  {
   "cell_type": "markdown",
   "metadata": {},
   "source": [
    "***Adding a new category consisting on NULL/Select values for the field `Last Activity`***"
   ]
  },
  {
   "cell_type": "code",
   "execution_count": 1085,
   "metadata": {},
   "outputs": [
    {
     "data": {
      "text/plain": [
       "Email Opened                    3432\n",
       "SMS Sent                        2723\n",
       "Olark Chat Conversation          973\n",
       "Page Visited on Website          640\n",
       "Converted to Lead                428\n",
       "Email Bounced                    321\n",
       "Email Link Clicked               267\n",
       "Form Submitted on Website        116\n",
       "Unreachable                       93\n",
       "Unsubscribed                      59\n",
       "Had a Phone Conversation          30\n",
       "Approached upfront                 9\n",
       "View in browser link Clicked       6\n",
       "Email Marked Spam                  2\n",
       "Email Received                     2\n",
       "Visited Booth in Tradeshow         1\n",
       "Resubscribed to emails             1\n",
       "Name: Last Activity, dtype: int64"
      ]
     },
     "execution_count": 1085,
     "metadata": {},
     "output_type": "execute_result"
    }
   ],
   "source": [
    "leads_df['Last Activity'].value_counts()"
   ]
  },
  {
   "cell_type": "code",
   "execution_count": 1086,
   "metadata": {},
   "outputs": [
    {
     "data": {
      "text/plain": [
       "101"
      ]
     },
     "execution_count": 1086,
     "metadata": {},
     "output_type": "execute_result"
    }
   ],
   "source": [
    "leads_df['Last Activity'].isnull().sum()"
   ]
  },
  {
   "cell_type": "code",
   "execution_count": 1087,
   "metadata": {},
   "outputs": [
    {
     "data": {
      "text/plain": [
       "Email Opened                    3432\n",
       "SMS Sent                        2723\n",
       "Olark Chat Conversation          973\n",
       "Page Visited on Website          640\n",
       "Converted to Lead                428\n",
       "Email Bounced                    321\n",
       "Email Link Clicked               267\n",
       "Form Submitted on Website        116\n",
       "NOTKNOWN                         101\n",
       "Unreachable                       93\n",
       "Unsubscribed                      59\n",
       "Had a Phone Conversation          30\n",
       "Approached upfront                 9\n",
       "View in browser link Clicked       6\n",
       "Email Received                     2\n",
       "Email Marked Spam                  2\n",
       "Resubscribed to emails             1\n",
       "Visited Booth in Tradeshow         1\n",
       "Name: Last Activity, dtype: int64"
      ]
     },
     "execution_count": 1087,
     "metadata": {},
     "output_type": "execute_result"
    }
   ],
   "source": [
    "leads_df['Last Activity'].fillna(\"NOTKNOWN\", inplace = True)\n",
    "leads_df['Last Activity'].value_counts()"
   ]
  },
  {
   "cell_type": "code",
   "execution_count": 1088,
   "metadata": {},
   "outputs": [
    {
     "data": {
      "text/plain": [
       "<matplotlib.axes._subplots.AxesSubplot at 0x1ed86807240>"
      ]
     },
     "execution_count": 1088,
     "metadata": {},
     "output_type": "execute_result"
    },
    {
     "data": {
      "image/png": "[encoded data removed]",
      "text/plain": [
       "<Figure size 432x288 with 1 Axes>"
      ]
     },
     "metadata": {
      "needs_background": "light"
     },
     "output_type": "display_data"
    }
   ],
   "source": [
    "sns.barplot(y='Last Activity', x='Converted', data=leads_df, estimator=np.sum)"
   ]
  },
  {
   "cell_type": "markdown",
   "metadata": {},
   "source": [
    "***Addin a new category consisting on NULL/Select values for the field LEAD PROFILE***"
   ]
  },
  {
   "cell_type": "code",
   "execution_count": 1089,
   "metadata": {},
   "outputs": [
    {
     "data": {
      "text/plain": [
       "Select                         4115\n",
       "Potential Lead                 1608\n",
       "Other Leads                     487\n",
       "Student of SomeSchool           241\n",
       "Lateral Student                  24\n",
       "Dual Specialization Student      20\n",
       "Name: Lead Profile, dtype: int64"
      ]
     },
     "execution_count": 1089,
     "metadata": {},
     "output_type": "execute_result"
    }
   ],
   "source": [
    "leads_df['Lead Profile'].value_counts()"
   ]
  },
  {
   "cell_type": "code",
   "execution_count": 1090,
   "metadata": {},
   "outputs": [
    {
     "data": {
      "text/plain": [
       "2709"
      ]
     },
     "execution_count": 1090,
     "metadata": {},
     "output_type": "execute_result"
    }
   ],
   "source": [
    "leads_df['Lead Profile'].isnull().sum()"
   ]
  },
  {
   "cell_type": "code",
   "execution_count": 1091,
   "metadata": {},
   "outputs": [
    {
     "data": {
      "text/plain": [
       "Select                         4115\n",
       "NOTKNOWN                       2709\n",
       "Potential Lead                 1608\n",
       "Other Leads                     487\n",
       "Student of SomeSchool           241\n",
       "Lateral Student                  24\n",
       "Dual Specialization Student      20\n",
       "Name: Lead Profile, dtype: int64"
      ]
     },
     "execution_count": 1091,
     "metadata": {},
     "output_type": "execute_result"
    }
   ],
   "source": [
    "leads_df['Lead Profile'].fillna(\"NOTKNOWN\", inplace = True)\n",
    "leads_df['Lead Profile'].value_counts()"
   ]
  },
  {
   "cell_type": "code",
   "execution_count": 1092,
   "metadata": {},
   "outputs": [
    {
     "data": {
      "text/plain": [
       "NOTKNOWN                       6824\n",
       "Potential Lead                 1608\n",
       "Other Leads                     487\n",
       "Student of SomeSchool           241\n",
       "Lateral Student                  24\n",
       "Dual Specialization Student      20\n",
       "Name: Lead Profile, dtype: int64"
      ]
     },
     "execution_count": 1092,
     "metadata": {},
     "output_type": "execute_result"
    }
   ],
   "source": [
    "leads_df['Lead Profile'].replace('Select', 'NOTKNOWN', inplace =True)\n",
    "leads_df['Lead Profile'].value_counts()"
   ]
  },
  {
   "cell_type": "code",
   "execution_count": 1093,
   "metadata": {},
   "outputs": [
    {
     "data": {
      "text/plain": [
       "<matplotlib.axes._subplots.AxesSubplot at 0x1ed86c483c8>"
      ]
     },
     "execution_count": 1093,
     "metadata": {},
     "output_type": "execute_result"
    },
    {
     "data": {
      "image/png": "[encoded data removed]",
      "text/plain": [
       "<Figure size 432x288 with 1 Axes>"
      ]
     },
     "metadata": {
      "needs_background": "light"
     },
     "output_type": "display_data"
    }
   ],
   "source": [
    "sns.barplot(y='Lead Profile', x='Converted', data=leads_df, estimator=np.sum)"
   ]
  },
  {
   "cell_type": "markdown",
   "metadata": {},
   "source": [
    "***Adding a new category consisting on NULL/Select values for the field  'What is your current occupation ' ***"
   ]
  },
  {
   "cell_type": "code",
   "execution_count": 1094,
   "metadata": {},
   "outputs": [
    {
     "data": {
      "text/plain": [
       "Unemployed              5567\n",
       "Working Professional     704\n",
       "Student                  209\n",
       "Other                     16\n",
       "Housewife                 10\n",
       "Businessman                8\n",
       "Name: What is your current occupation, dtype: int64"
      ]
     },
     "execution_count": 1094,
     "metadata": {},
     "output_type": "execute_result"
    }
   ],
   "source": [
    "leads_df['What is your current occupation'].value_counts()"
   ]
  },
  {
   "cell_type": "code",
   "execution_count": 1095,
   "metadata": {},
   "outputs": [
    {
     "data": {
      "text/plain": [
       "2690"
      ]
     },
     "execution_count": 1095,
     "metadata": {},
     "output_type": "execute_result"
    }
   ],
   "source": [
    "leads_df['What is your current occupation'].isnull().sum()"
   ]
  },
  {
   "cell_type": "code",
   "execution_count": 1096,
   "metadata": {},
   "outputs": [
    {
     "data": {
      "text/plain": [
       "Unemployed              5567\n",
       "NOTKNOWN                2690\n",
       "Working Professional     704\n",
       "Student                  209\n",
       "Other                     16\n",
       "Housewife                 10\n",
       "Businessman                8\n",
       "Name: What is your current occupation, dtype: int64"
      ]
     },
     "execution_count": 1096,
     "metadata": {},
     "output_type": "execute_result"
    }
   ],
   "source": [
    "leads_df['What is your current occupation'].fillna(\"NOTKNOWN\", inplace = True)\n",
    "leads_df['What is your current occupation'].value_counts()"
   ]
  },
  {
   "cell_type": "code",
   "execution_count": 1097,
   "metadata": {},
   "outputs": [
    {
     "data": {
      "text/plain": [
       "<matplotlib.axes._subplots.AxesSubplot at 0x1ed86cb8dd8>"
      ]
     },
     "execution_count": 1097,
     "metadata": {},
     "output_type": "execute_result"
    },
    {
     "data": {
      "image/png": "[encoded data removed]",
      "text/plain": [
       "<Figure size 432x288 with 1 Axes>"
      ]
     },
     "metadata": {
      "needs_background": "light"
     },
     "output_type": "display_data"
    }
   ],
   "source": [
    "sns.barplot(y='What is your current occupation', x='Converted', data=leads_df, estimator=np.sum)"
   ]
  },
  {
   "cell_type": "markdown",
   "metadata": {},
   "source": [
    "***Creating a new category consisting on NULL/Select values for the field  Specialization ***"
   ]
  },
  {
   "cell_type": "code",
   "execution_count": 1098,
   "metadata": {},
   "outputs": [
    {
     "data": {
      "text/plain": [
       "Select                               1914\n",
       "Finance Management                    973\n",
       "Human Resource Management             847\n",
       "Marketing Management                  837\n",
       "Operations Management                 502\n",
       "Business Administration               403\n",
       "IT Projects Management                366\n",
       "Supply Chain Management               349\n",
       "Banking, Investment And Insurance     338\n",
       "Travel and Tourism                    203\n",
       "Media and Advertising                 203\n",
       "International Business                178\n",
       "Healthcare Management                 158\n",
       "Hospitality Management                114\n",
       "E-COMMERCE                            111\n",
       "Retail Management                     100\n",
       "Rural and Agribusiness                 73\n",
       "E-Business                             57\n",
       "Services Excellence                    40\n",
       "Name: Specialization, dtype: int64"
      ]
     },
     "execution_count": 1098,
     "metadata": {},
     "output_type": "execute_result"
    }
   ],
   "source": [
    "leads_df['Specialization'].value_counts()"
   ]
  },
  {
   "cell_type": "code",
   "execution_count": 1099,
   "metadata": {},
   "outputs": [
    {
     "data": {
      "text/plain": [
       "1438"
      ]
     },
     "execution_count": 1099,
     "metadata": {},
     "output_type": "execute_result"
    }
   ],
   "source": [
    "leads_df['Specialization'].isnull().sum()"
   ]
  },
  {
   "cell_type": "code",
   "execution_count": 1100,
   "metadata": {},
   "outputs": [
    {
     "data": {
      "text/plain": [
       "Select                               1914\n",
       "NOTKNOWN                             1438\n",
       "Finance Management                    973\n",
       "Human Resource Management             847\n",
       "Marketing Management                  837\n",
       "Operations Management                 502\n",
       "Business Administration               403\n",
       "IT Projects Management                366\n",
       "Supply Chain Management               349\n",
       "Banking, Investment And Insurance     338\n",
       "Media and Advertising                 203\n",
       "Travel and Tourism                    203\n",
       "International Business                178\n",
       "Healthcare Management                 158\n",
       "Hospitality Management                114\n",
       "E-COMMERCE                            111\n",
       "Retail Management                     100\n",
       "Rural and Agribusiness                 73\n",
       "E-Business                             57\n",
       "Services Excellence                    40\n",
       "Name: Specialization, dtype: int64"
      ]
     },
     "execution_count": 1100,
     "metadata": {},
     "output_type": "execute_result"
    }
   ],
   "source": [
    "leads_df['Specialization'].fillna(\"NOTKNOWN\", inplace = True)\n",
    "leads_df['Specialization'].value_counts()"
   ]
  },
  {
   "cell_type": "code",
   "execution_count": 1101,
   "metadata": {},
   "outputs": [
    {
     "data": {
      "text/plain": [
       "<matplotlib.axes._subplots.AxesSubplot at 0x1ed86e87fd0>"
      ]
     },
     "execution_count": 1101,
     "metadata": {},
     "output_type": "execute_result"
    },
    {
     "data": {
      "image/png": "[encoded data removed]",
      "text/plain": [
       "<Figure size 432x288 with 1 Axes>"
      ]
     },
     "metadata": {
      "needs_background": "light"
     },
     "output_type": "display_data"
    }
   ],
   "source": [
    "sns.barplot(y='Specialization', x='Converted', data=leads_df, estimator=np.sum)"
   ]
  },
  {
   "cell_type": "markdown",
   "metadata": {},
   "source": [
    "***Adding a new category consisting on NULL/Select values for the field Tags ***"
   ]
  },
  {
   "cell_type": "code",
   "execution_count": 1102,
   "metadata": {},
   "outputs": [
    {
     "data": {
      "text/plain": [
       "Will revert after reading the email                  2052\n",
       "Ringing                                              1200\n",
       "Interested in other courses                           513\n",
       "Already a student                                     465\n",
       "Closed by Horizzon                                    358\n",
       "switched off                                          240\n",
       "Busy                                                  186\n",
       "Lost to EINS                                          174\n",
       "Not doing further education                           145\n",
       "Interested  in full time MBA                          117\n",
       "Graduation in progress                                111\n",
       "invalid number                                         83\n",
       "Diploma holder (Not Eligible)                          63\n",
       "wrong number given                                     47\n",
       "opp hangup                                             33\n",
       "number not provided                                    26\n",
       "in touch with EINS                                     12\n",
       "Lost to Others                                          7\n",
       "Still Thinking                                          6\n",
       "Want to take admission but has financial problems       6\n",
       "In confusion whether part time or DLP                   5\n",
       "Interested in Next batch                                5\n",
       "Lateral student                                         3\n",
       "University not recognized                               2\n",
       "Shall take in the next coming month                     2\n",
       "Recognition issue (DEC approval)                        1\n",
       "Name: Tags, dtype: int64"
      ]
     },
     "execution_count": 1102,
     "metadata": {},
     "output_type": "execute_result"
    }
   ],
   "source": [
    "leads_df['Tags'].value_counts()"
   ]
  },
  {
   "cell_type": "code",
   "execution_count": 1103,
   "metadata": {},
   "outputs": [
    {
     "data": {
      "text/plain": [
       "3342"
      ]
     },
     "execution_count": 1103,
     "metadata": {},
     "output_type": "execute_result"
    }
   ],
   "source": [
    "leads_df['Tags'].isnull().sum()"
   ]
  },
  {
   "cell_type": "code",
   "execution_count": 1104,
   "metadata": {},
   "outputs": [
    {
     "data": {
      "text/plain": [
       "NOTKNOWN                                             3342\n",
       "Will revert after reading the email                  2052\n",
       "Ringing                                              1200\n",
       "Interested in other courses                           513\n",
       "Already a student                                     465\n",
       "Closed by Horizzon                                    358\n",
       "switched off                                          240\n",
       "Busy                                                  186\n",
       "Lost to EINS                                          174\n",
       "Not doing further education                           145\n",
       "Interested  in full time MBA                          117\n",
       "Graduation in progress                                111\n",
       "invalid number                                         83\n",
       "Diploma holder (Not Eligible)                          63\n",
       "wrong number given                                     47\n",
       "opp hangup                                             33\n",
       "number not provided                                    26\n",
       "in touch with EINS                                     12\n",
       "Lost to Others                                          7\n",
       "Want to take admission but has financial problems       6\n",
       "Still Thinking                                          6\n",
       "Interested in Next batch                                5\n",
       "In confusion whether part time or DLP                   5\n",
       "Lateral student                                         3\n",
       "University not recognized                               2\n",
       "Shall take in the next coming month                     2\n",
       "Recognition issue (DEC approval)                        1\n",
       "Name: Tags, dtype: int64"
      ]
     },
     "execution_count": 1104,
     "metadata": {},
     "output_type": "execute_result"
    }
   ],
   "source": [
    "leads_df['Tags'].fillna(\"NOTKNOWN\", inplace = True)\n",
    "leads_df['Tags'].value_counts()"
   ]
  },
  {
   "cell_type": "code",
   "execution_count": 1105,
   "metadata": {},
   "outputs": [
    {
     "data": {
      "text/plain": [
       "<matplotlib.axes._subplots.AxesSubplot at 0x1ed86f879e8>"
      ]
     },
     "execution_count": 1105,
     "metadata": {},
     "output_type": "execute_result"
    },
    {
     "data": {
      "image/png": "[encoded data removed]",
      "text/plain": [
       "<Figure size 432x288 with 1 Axes>"
      ]
     },
     "metadata": {
      "needs_background": "light"
     },
     "output_type": "display_data"
    }
   ],
   "source": [
    "sns.barplot(y='Tags', x='Converted', data=leads_df, estimator=np.sum)"
   ]
  },
  {
   "cell_type": "markdown",
   "metadata": {},
   "source": [
    "**After NULL Value treatment let's Re-inspect Null Values in the data set**"
   ]
  },
  {
   "cell_type": "code",
   "execution_count": 1106,
   "metadata": {},
   "outputs": [
    {
     "data": {
      "text/html": [
       "<div>\n",
       "<style scoped>\n",
       "    .dataframe tbody tr th:only-of-type {\n",
       "        vertical-align: middle;\n",
       "    }\n",
       "\n",
       "    .dataframe tbody tr th {\n",
       "        vertical-align: top;\n",
       "    }\n",
       "\n",
       "    .dataframe thead th {\n",
       "        text-align: right;\n",
       "    }\n",
       "</style>\n",
       "<table border=\"1\" class=\"dataframe\">\n",
       "  <thead>\n",
       "    <tr style=\"text-align: right;\">\n",
       "      <th></th>\n",
       "      <th>Total</th>\n",
       "      <th>Percentage</th>\n",
       "    </tr>\n",
       "  </thead>\n",
       "  <tbody>\n",
       "    <tr>\n",
       "      <th>Last Notable Activity</th>\n",
       "      <td>0</td>\n",
       "      <td>0.00</td>\n",
       "    </tr>\n",
       "    <tr>\n",
       "      <th>What is your current occupation</th>\n",
       "      <td>0</td>\n",
       "      <td>0.00</td>\n",
       "    </tr>\n",
       "    <tr>\n",
       "      <th>Lead Origin</th>\n",
       "      <td>0</td>\n",
       "      <td>0.00</td>\n",
       "    </tr>\n",
       "    <tr>\n",
       "      <th>Lead Source</th>\n",
       "      <td>0</td>\n",
       "      <td>0.00</td>\n",
       "    </tr>\n",
       "    <tr>\n",
       "      <th>Do Not Email</th>\n",
       "      <td>0</td>\n",
       "      <td>0.00</td>\n",
       "    </tr>\n",
       "    <tr>\n",
       "      <th>Do Not Call</th>\n",
       "      <td>0</td>\n",
       "      <td>0.00</td>\n",
       "    </tr>\n",
       "    <tr>\n",
       "      <th>Converted</th>\n",
       "      <td>0</td>\n",
       "      <td>0.00</td>\n",
       "    </tr>\n",
       "    <tr>\n",
       "      <th>TotalVisits</th>\n",
       "      <td>0</td>\n",
       "      <td>0.00</td>\n",
       "    </tr>\n",
       "    <tr>\n",
       "      <th>Total Time Spent on Website</th>\n",
       "      <td>0</td>\n",
       "      <td>0.00</td>\n",
       "    </tr>\n",
       "    <tr>\n",
       "      <th>Page Views Per Visit</th>\n",
       "      <td>0</td>\n",
       "      <td>0.00</td>\n",
       "    </tr>\n",
       "    <tr>\n",
       "      <th>Last Activity</th>\n",
       "      <td>0</td>\n",
       "      <td>0.00</td>\n",
       "    </tr>\n",
       "    <tr>\n",
       "      <th>Country</th>\n",
       "      <td>0</td>\n",
       "      <td>0.00</td>\n",
       "    </tr>\n",
       "    <tr>\n",
       "      <th>Specialization</th>\n",
       "      <td>0</td>\n",
       "      <td>0.00</td>\n",
       "    </tr>\n",
       "    <tr>\n",
       "      <th>Search</th>\n",
       "      <td>0</td>\n",
       "      <td>0.00</td>\n",
       "    </tr>\n",
       "    <tr>\n",
       "      <th>A free copy of Mastering The Interview</th>\n",
       "      <td>0</td>\n",
       "      <td>0.00</td>\n",
       "    </tr>\n",
       "    <tr>\n",
       "      <th>Newspaper Article</th>\n",
       "      <td>0</td>\n",
       "      <td>0.00</td>\n",
       "    </tr>\n",
       "    <tr>\n",
       "      <th>X Education Forums</th>\n",
       "      <td>0</td>\n",
       "      <td>0.00</td>\n",
       "    </tr>\n",
       "    <tr>\n",
       "      <th>Newspaper</th>\n",
       "      <td>0</td>\n",
       "      <td>0.00</td>\n",
       "    </tr>\n",
       "    <tr>\n",
       "      <th>Digital Advertisement</th>\n",
       "      <td>0</td>\n",
       "      <td>0.00</td>\n",
       "    </tr>\n",
       "    <tr>\n",
       "      <th>Through Recommendations</th>\n",
       "      <td>0</td>\n",
       "      <td>0.00</td>\n",
       "    </tr>\n",
       "    <tr>\n",
       "      <th>Tags</th>\n",
       "      <td>0</td>\n",
       "      <td>0.00</td>\n",
       "    </tr>\n",
       "    <tr>\n",
       "      <th>Lead Quality</th>\n",
       "      <td>0</td>\n",
       "      <td>0.00</td>\n",
       "    </tr>\n",
       "    <tr>\n",
       "      <th>Lead Profile</th>\n",
       "      <td>0</td>\n",
       "      <td>0.00</td>\n",
       "    </tr>\n",
       "    <tr>\n",
       "      <th>City</th>\n",
       "      <td>0</td>\n",
       "      <td>0.00</td>\n",
       "    </tr>\n",
       "    <tr>\n",
       "      <th>Asymmetrique Activity Index</th>\n",
       "      <td>0</td>\n",
       "      <td>0.00</td>\n",
       "    </tr>\n",
       "    <tr>\n",
       "      <th>Asymmetrique Profile Index</th>\n",
       "      <td>0</td>\n",
       "      <td>0.00</td>\n",
       "    </tr>\n",
       "    <tr>\n",
       "      <th>Lead Number</th>\n",
       "      <td>0</td>\n",
       "      <td>0.00</td>\n",
       "    </tr>\n",
       "  </tbody>\n",
       "</table>\n",
       "</div>"
      ],
      "text/plain": [
       "                                        Total  Percentage\n",
       "Last Notable Activity                       0        0.00\n",
       "What is your current occupation             0        0.00\n",
       "Lead Origin                                 0        0.00\n",
       "Lead Source                                 0        0.00\n",
       "Do Not Email                                0        0.00\n",
       "Do Not Call                                 0        0.00\n",
       "Converted                                   0        0.00\n",
       "TotalVisits                                 0        0.00\n",
       "Total Time Spent on Website                 0        0.00\n",
       "Page Views Per Visit                        0        0.00\n",
       "Last Activity                               0        0.00\n",
       "Country                                     0        0.00\n",
       "Specialization                              0        0.00\n",
       "Search                                      0        0.00\n",
       "A free copy of Mastering The Interview      0        0.00\n",
       "Newspaper Article                           0        0.00\n",
       "X Education Forums                          0        0.00\n",
       "Newspaper                                   0        0.00\n",
       "Digital Advertisement                       0        0.00\n",
       "Through Recommendations                     0        0.00\n",
       "Tags                                        0        0.00\n",
       "Lead Quality                                0        0.00\n",
       "Lead Profile                                0        0.00\n",
       "City                                        0        0.00\n",
       "Asymmetrique Activity Index                 0        0.00\n",
       "Asymmetrique Profile Index                  0        0.00\n",
       "Lead Number                                 0        0.00"
      ]
     },
     "execution_count": 1106,
     "metadata": {},
     "output_type": "execute_result"
    }
   ],
   "source": [
    "# total count and percentage of null values in all columns of the dataframe.\n",
    "\n",
    "total = pd.DataFrame(leads_df.isnull().sum().sort_values(ascending=False), columns=['Total'])\n",
    "percentage = pd.DataFrame(round(100*(leads_df.isnull().sum()/leads_df.shape[0]),2).sort_values(ascending=False)\\\n",
    "                          ,columns=['Percentage'])\n",
    "pd.concat([total, percentage], axis = 1).head(27)"
   ]
  },
  {
   "cell_type": "markdown",
   "metadata": {},
   "source": [
    "**ALL NULL Values are treated  and NO column contains NULL values**"
   ]
  },
  {
   "cell_type": "markdown",
   "metadata": {},
   "source": [
    "##  Outliers Analyisis"
   ]
  },
  {
   "cell_type": "code",
   "execution_count": 1107,
   "metadata": {},
   "outputs": [
    {
     "data": {
      "text/html": [
       "<div>\n",
       "<style scoped>\n",
       "    .dataframe tbody tr th:only-of-type {\n",
       "        vertical-align: middle;\n",
       "    }\n",
       "\n",
       "    .dataframe tbody tr th {\n",
       "        vertical-align: top;\n",
       "    }\n",
       "\n",
       "    .dataframe thead th {\n",
       "        text-align: right;\n",
       "    }\n",
       "</style>\n",
       "<table border=\"1\" class=\"dataframe\">\n",
       "  <thead>\n",
       "    <tr style=\"text-align: right;\">\n",
       "      <th></th>\n",
       "      <th>Lead Number</th>\n",
       "      <th>Converted</th>\n",
       "      <th>TotalVisits</th>\n",
       "      <th>Total Time Spent on Website</th>\n",
       "      <th>Page Views Per Visit</th>\n",
       "    </tr>\n",
       "  </thead>\n",
       "  <tbody>\n",
       "    <tr>\n",
       "      <th>count</th>\n",
       "      <td>9204.00</td>\n",
       "      <td>9204.00</td>\n",
       "      <td>9204.00</td>\n",
       "      <td>9204.00</td>\n",
       "      <td>9204.00</td>\n",
       "    </tr>\n",
       "    <tr>\n",
       "      <th>mean</th>\n",
       "      <td>617194.61</td>\n",
       "      <td>0.38</td>\n",
       "      <td>3.45</td>\n",
       "      <td>489.01</td>\n",
       "      <td>2.36</td>\n",
       "    </tr>\n",
       "    <tr>\n",
       "      <th>std</th>\n",
       "      <td>23418.83</td>\n",
       "      <td>0.49</td>\n",
       "      <td>4.82</td>\n",
       "      <td>547.98</td>\n",
       "      <td>2.15</td>\n",
       "    </tr>\n",
       "    <tr>\n",
       "      <th>min</th>\n",
       "      <td>579533.00</td>\n",
       "      <td>0.00</td>\n",
       "      <td>0.00</td>\n",
       "      <td>0.00</td>\n",
       "      <td>0.00</td>\n",
       "    </tr>\n",
       "    <tr>\n",
       "      <th>25%</th>\n",
       "      <td>596484.50</td>\n",
       "      <td>0.00</td>\n",
       "      <td>1.00</td>\n",
       "      <td>14.00</td>\n",
       "      <td>1.00</td>\n",
       "    </tr>\n",
       "    <tr>\n",
       "      <th>50%</th>\n",
       "      <td>615479.00</td>\n",
       "      <td>0.00</td>\n",
       "      <td>3.00</td>\n",
       "      <td>250.00</td>\n",
       "      <td>2.00</td>\n",
       "    </tr>\n",
       "    <tr>\n",
       "      <th>75%</th>\n",
       "      <td>637409.25</td>\n",
       "      <td>1.00</td>\n",
       "      <td>5.00</td>\n",
       "      <td>938.00</td>\n",
       "      <td>3.00</td>\n",
       "    </tr>\n",
       "    <tr>\n",
       "      <th>90%</th>\n",
       "      <td>650513.10</td>\n",
       "      <td>1.00</td>\n",
       "      <td>7.00</td>\n",
       "      <td>1380.00</td>\n",
       "      <td>5.00</td>\n",
       "    </tr>\n",
       "    <tr>\n",
       "      <th>95%</th>\n",
       "      <td>655405.85</td>\n",
       "      <td>1.00</td>\n",
       "      <td>10.00</td>\n",
       "      <td>1562.00</td>\n",
       "      <td>6.00</td>\n",
       "    </tr>\n",
       "    <tr>\n",
       "      <th>99%</th>\n",
       "      <td>659599.46</td>\n",
       "      <td>1.00</td>\n",
       "      <td>17.00</td>\n",
       "      <td>1839.97</td>\n",
       "      <td>9.00</td>\n",
       "    </tr>\n",
       "    <tr>\n",
       "      <th>max</th>\n",
       "      <td>660737.00</td>\n",
       "      <td>1.00</td>\n",
       "      <td>251.00</td>\n",
       "      <td>2272.00</td>\n",
       "      <td>55.00</td>\n",
       "    </tr>\n",
       "  </tbody>\n",
       "</table>\n",
       "</div>"
      ],
      "text/plain": [
       "       Lead Number  Converted  TotalVisits  Total Time Spent on Website  \\\n",
       "count      9204.00    9204.00      9204.00                      9204.00   \n",
       "mean     617194.61       0.38         3.45                       489.01   \n",
       "std       23418.83       0.49         4.82                       547.98   \n",
       "min      579533.00       0.00         0.00                         0.00   \n",
       "25%      596484.50       0.00         1.00                        14.00   \n",
       "50%      615479.00       0.00         3.00                       250.00   \n",
       "75%      637409.25       1.00         5.00                       938.00   \n",
       "90%      650513.10       1.00         7.00                      1380.00   \n",
       "95%      655405.85       1.00        10.00                      1562.00   \n",
       "99%      659599.46       1.00        17.00                      1839.97   \n",
       "max      660737.00       1.00       251.00                      2272.00   \n",
       "\n",
       "       Page Views Per Visit  \n",
       "count               9204.00  \n",
       "mean                   2.36  \n",
       "std                    2.15  \n",
       "min                    0.00  \n",
       "25%                    1.00  \n",
       "50%                    2.00  \n",
       "75%                    3.00  \n",
       "90%                    5.00  \n",
       "95%                    6.00  \n",
       "99%                    9.00  \n",
       "max                   55.00  "
      ]
     },
     "execution_count": 1107,
     "metadata": {},
     "output_type": "execute_result"
    }
   ],
   "source": [
    "# Checking outliers at 25%,50%,75%,90%,95% and 99%\n",
    "leads_df.describe(percentiles=[.25,.5,.75,.90,.95,.99])"
   ]
  },
  {
   "cell_type": "code",
   "execution_count": 1108,
   "metadata": {},
   "outputs": [
    {
     "data": {
      "text/plain": [
       "Lead Number                                 int64\n",
       "Lead Origin                                object\n",
       "Lead Source                                object\n",
       "Do Not Email                               object\n",
       "Do Not Call                                object\n",
       "Converted                                   int64\n",
       "TotalVisits                               float64\n",
       "Total Time Spent on Website                 int64\n",
       "Page Views Per Visit                      float64\n",
       "Last Activity                              object\n",
       "Country                                    object\n",
       "Specialization                             object\n",
       "What is your current occupation            object\n",
       "Search                                     object\n",
       "Newspaper Article                          object\n",
       "X Education Forums                         object\n",
       "Newspaper                                  object\n",
       "Digital Advertisement                      object\n",
       "Through Recommendations                    object\n",
       "Tags                                       object\n",
       "Lead Quality                               object\n",
       "Lead Profile                               object\n",
       "City                                       object\n",
       "Asymmetrique Activity Index                object\n",
       "Asymmetrique Profile Index                 object\n",
       "A free copy of Mastering The Interview     object\n",
       "Last Notable Activity                      object\n",
       "dtype: object"
      ]
     },
     "execution_count": 1108,
     "metadata": {},
     "output_type": "execute_result"
    }
   ],
   "source": [
    "leads_df.dtypes"
   ]
  },
  {
   "cell_type": "code",
   "execution_count": 1109,
   "metadata": {},
   "outputs": [
    {
     "name": "stdout",
     "output_type": "stream",
     "text": [
      "['TotalVisits', 'Total Time Spent on Website', 'Page Views Per Visit']\n"
     ]
    }
   ],
   "source": [
    "numeric_var = ['TotalVisits','Total Time Spent on Website','Page Views Per Visit']\n",
    "print(numeric_var)"
   ]
  },
  {
   "cell_type": "code",
   "execution_count": 1110,
   "metadata": {},
   "outputs": [
    {
     "data": {
      "image/png": "[encoded data removed]",
      "text/plain": [
       "<Figure size 864x576 with 3 Axes>"
      ]
     },
     "metadata": {
      "needs_background": "light"
     },
     "output_type": "display_data"
    }
   ],
   "source": [
    "numeric_var = ['TotalVisits','Total Time Spent on Website','Page Views Per Visit']\n",
    "\n",
    "#Function to plot the distribution plot of the numeric variable list\n",
    "def boxplot(var_list):\n",
    "    plt.figure(figsize=(12,8))\n",
    "    for var in var_list:\n",
    "        plt.subplot(2,5,var_list.index(var)+1)\n",
    "        #plt.boxplot(country[var])\n",
    "        sns.boxplot(y=var, data=leads_df)\n",
    "    # Automatically adjust subplot params so that the subplotS fits in to the figure area.\n",
    "    plt.tight_layout()\n",
    "    # display the plot\n",
    "    plt.show()\n",
    "    \n",
    "boxplot(numeric_var)"
   ]
  },
  {
   "cell_type": "code",
   "execution_count": 1111,
   "metadata": {},
   "outputs": [
    {
     "data": {
      "image/png": "[encoded data removed]",
      "text/plain": [
       "<Figure size 576x432 with 1 Axes>"
      ]
     },
     "metadata": {
      "needs_background": "light"
     },
     "output_type": "display_data"
    }
   ],
   "source": [
    "fig, ax = plt.subplots(figsize=(8,6))\n",
    "ax.scatter(leads_df['TotalVisits'], leads_df['Total Time Spent on Website'])\n",
    "ax.set_xlabel('Proportion of non-retail business acres per town')\n",
    "ax.set_ylabel('Full-value property-tax rate per $10,000')\n",
    "plt.show()"
   ]
  },
  {
   "cell_type": "code",
   "execution_count": 1112,
   "metadata": {},
   "outputs": [
    {
     "data": {
      "image/png": "[encoded data removed]",
      "text/plain": [
       "<Figure size 432x432 with 3 Axes>"
      ]
     },
     "metadata": {
      "needs_background": "light"
     },
     "output_type": "display_data"
    }
   ],
   "source": [
    "sns.jointplot(leads_df['Page Views Per Visit'],leads_df['Total Time Spent on Website'], color=\"g\")\n",
    "plt.show()"
   ]
  },
  {
   "cell_type": "markdown",
   "metadata": {},
   "source": [
    "### Removing outlier values based on the Interquartile range for some of the continuous variable"
   ]
  },
  {
   "cell_type": "code",
   "execution_count": 1113,
   "metadata": {},
   "outputs": [
    {
     "data": {
      "text/plain": [
       "(8575, 27)"
      ]
     },
     "execution_count": 1113,
     "metadata": {},
     "output_type": "execute_result"
    }
   ],
   "source": [
    "Q1 = leads_df['TotalVisits'].quantile(0.25)\n",
    "Q3 = leads_df['TotalVisits'].quantile(0.75)\n",
    "IQR = Q3 - Q1\n",
    "leads_df=leads_df.loc[(leads_df['TotalVisits'] >= Q1 - 1.5*IQR) & (leads_df['TotalVisits'] <= Q3 + 1.4*IQR)]\n",
    "\n",
    "Q1 = leads_df['Page Views Per Visit'].quantile(0.25)\n",
    "Q3 = leads_df['Page Views Per Visit'].quantile(0.75)\n",
    "IQR = Q3 - Q1\n",
    "leads_df=leads_df.loc[(leads_df['Page Views Per Visit'] >= Q1 - 1.5*IQR) & (leads_df['Page Views Per Visit'] <= Q3 + 1.5*IQR)]\n",
    "\n",
    "leads_df.shape"
   ]
  },
  {
   "cell_type": "code",
   "execution_count": 1114,
   "metadata": {},
   "outputs": [
    {
     "data": {
      "image/png": "[encoded data removed]",
      "text/plain": [
       "<Figure size 1080x720 with 3 Axes>"
      ]
     },
     "metadata": {
      "needs_background": "light"
     },
     "output_type": "display_data"
    }
   ],
   "source": [
    "#Function to plot the distribution plot of the numeric variable list\n",
    "def boxplot(var_list):\n",
    "    plt.figure(figsize=(15,10))\n",
    "    for var in var_list:\n",
    "        plt.subplot(2,5,var_list.index(var)+1)\n",
    "        #plt.boxplot(country[var])\n",
    "        sns.boxplot(y=var,palette='Set2', data=leads_df)\n",
    "    # Automatically adjust subplot params so that the subplotS fits in to the figure area.\n",
    "    plt.tight_layout()\n",
    "    # display the plot\n",
    "    plt.show()\n",
    "    \n",
    "boxplot(numeric_var)"
   ]
  },
  {
   "cell_type": "code",
   "execution_count": 1115,
   "metadata": {},
   "outputs": [
    {
     "data": {
      "text/plain": [
       "(8575, 27)"
      ]
     },
     "execution_count": 1115,
     "metadata": {},
     "output_type": "execute_result"
    }
   ],
   "source": [
    "leads_df.shape"
   ]
  },
  {
   "cell_type": "markdown",
   "metadata": {},
   "source": [
    "### Converting binary variables (Yes/No) to 0/1"
   ]
  },
  {
   "cell_type": "code",
   "execution_count": 1116,
   "metadata": {},
   "outputs": [
    {
     "data": {
      "text/html": [
       "<div>\n",
       "<style scoped>\n",
       "    .dataframe tbody tr th:only-of-type {\n",
       "        vertical-align: middle;\n",
       "    }\n",
       "\n",
       "    .dataframe tbody tr th {\n",
       "        vertical-align: top;\n",
       "    }\n",
       "\n",
       "    .dataframe thead th {\n",
       "        text-align: right;\n",
       "    }\n",
       "</style>\n",
       "<table border=\"1\" class=\"dataframe\">\n",
       "  <thead>\n",
       "    <tr style=\"text-align: right;\">\n",
       "      <th></th>\n",
       "      <th>Lead Number</th>\n",
       "      <th>Lead Origin</th>\n",
       "      <th>Lead Source</th>\n",
       "      <th>Do Not Email</th>\n",
       "      <th>Do Not Call</th>\n",
       "      <th>Converted</th>\n",
       "      <th>TotalVisits</th>\n",
       "      <th>Total Time Spent on Website</th>\n",
       "      <th>Page Views Per Visit</th>\n",
       "      <th>Last Activity</th>\n",
       "      <th>...</th>\n",
       "      <th>Digital Advertisement</th>\n",
       "      <th>Through Recommendations</th>\n",
       "      <th>Tags</th>\n",
       "      <th>Lead Quality</th>\n",
       "      <th>Lead Profile</th>\n",
       "      <th>City</th>\n",
       "      <th>Asymmetrique Activity Index</th>\n",
       "      <th>Asymmetrique Profile Index</th>\n",
       "      <th>A free copy of Mastering The Interview</th>\n",
       "      <th>Last Notable Activity</th>\n",
       "    </tr>\n",
       "  </thead>\n",
       "  <tbody>\n",
       "    <tr>\n",
       "      <th>0</th>\n",
       "      <td>660737</td>\n",
       "      <td>API</td>\n",
       "      <td>Olark Chat</td>\n",
       "      <td>0</td>\n",
       "      <td>0</td>\n",
       "      <td>0</td>\n",
       "      <td>0.00</td>\n",
       "      <td>0</td>\n",
       "      <td>0.00</td>\n",
       "      <td>Page Visited on Website</td>\n",
       "      <td>...</td>\n",
       "      <td>0</td>\n",
       "      <td>0</td>\n",
       "      <td>Interested in other courses</td>\n",
       "      <td>Low in Relevance</td>\n",
       "      <td>NOTKNOWN</td>\n",
       "      <td>NOTKNOWN</td>\n",
       "      <td>02.Medium</td>\n",
       "      <td>02.Medium</td>\n",
       "      <td>0</td>\n",
       "      <td>Modified</td>\n",
       "    </tr>\n",
       "    <tr>\n",
       "      <th>1</th>\n",
       "      <td>660728</td>\n",
       "      <td>API</td>\n",
       "      <td>Organic Search</td>\n",
       "      <td>0</td>\n",
       "      <td>0</td>\n",
       "      <td>0</td>\n",
       "      <td>5.00</td>\n",
       "      <td>674</td>\n",
       "      <td>2.50</td>\n",
       "      <td>Email Opened</td>\n",
       "      <td>...</td>\n",
       "      <td>0</td>\n",
       "      <td>0</td>\n",
       "      <td>Ringing</td>\n",
       "      <td>NOT known</td>\n",
       "      <td>NOTKNOWN</td>\n",
       "      <td>NOTKNOWN</td>\n",
       "      <td>02.Medium</td>\n",
       "      <td>02.Medium</td>\n",
       "      <td>0</td>\n",
       "      <td>Email Opened</td>\n",
       "    </tr>\n",
       "    <tr>\n",
       "      <th>2</th>\n",
       "      <td>660727</td>\n",
       "      <td>Landing Page Submission</td>\n",
       "      <td>Direct Traffic</td>\n",
       "      <td>0</td>\n",
       "      <td>0</td>\n",
       "      <td>1</td>\n",
       "      <td>2.00</td>\n",
       "      <td>1532</td>\n",
       "      <td>2.00</td>\n",
       "      <td>Email Opened</td>\n",
       "      <td>...</td>\n",
       "      <td>0</td>\n",
       "      <td>0</td>\n",
       "      <td>Will revert after reading the email</td>\n",
       "      <td>Might be</td>\n",
       "      <td>Potential Lead</td>\n",
       "      <td>Mumbai</td>\n",
       "      <td>02.Medium</td>\n",
       "      <td>01.High</td>\n",
       "      <td>1</td>\n",
       "      <td>Email Opened</td>\n",
       "    </tr>\n",
       "    <tr>\n",
       "      <th>3</th>\n",
       "      <td>660719</td>\n",
       "      <td>Landing Page Submission</td>\n",
       "      <td>Direct Traffic</td>\n",
       "      <td>0</td>\n",
       "      <td>0</td>\n",
       "      <td>0</td>\n",
       "      <td>1.00</td>\n",
       "      <td>305</td>\n",
       "      <td>1.00</td>\n",
       "      <td>Unreachable</td>\n",
       "      <td>...</td>\n",
       "      <td>0</td>\n",
       "      <td>0</td>\n",
       "      <td>Ringing</td>\n",
       "      <td>Not Sure</td>\n",
       "      <td>NOTKNOWN</td>\n",
       "      <td>Mumbai</td>\n",
       "      <td>02.Medium</td>\n",
       "      <td>01.High</td>\n",
       "      <td>0</td>\n",
       "      <td>Modified</td>\n",
       "    </tr>\n",
       "    <tr>\n",
       "      <th>4</th>\n",
       "      <td>660681</td>\n",
       "      <td>Landing Page Submission</td>\n",
       "      <td>Google</td>\n",
       "      <td>0</td>\n",
       "      <td>0</td>\n",
       "      <td>1</td>\n",
       "      <td>2.00</td>\n",
       "      <td>1428</td>\n",
       "      <td>1.00</td>\n",
       "      <td>Converted to Lead</td>\n",
       "      <td>...</td>\n",
       "      <td>0</td>\n",
       "      <td>0</td>\n",
       "      <td>Will revert after reading the email</td>\n",
       "      <td>Might be</td>\n",
       "      <td>NOTKNOWN</td>\n",
       "      <td>Mumbai</td>\n",
       "      <td>02.Medium</td>\n",
       "      <td>01.High</td>\n",
       "      <td>0</td>\n",
       "      <td>Modified</td>\n",
       "    </tr>\n",
       "  </tbody>\n",
       "</table>\n",
       "<p>5 rows × 27 columns</p>\n",
       "</div>"
      ],
      "text/plain": [
       "   Lead Number              Lead Origin     Lead Source  Do Not Email  \\\n",
       "0       660737                      API      Olark Chat             0   \n",
       "1       660728                      API  Organic Search             0   \n",
       "2       660727  Landing Page Submission  Direct Traffic             0   \n",
       "3       660719  Landing Page Submission  Direct Traffic             0   \n",
       "4       660681  Landing Page Submission          Google             0   \n",
       "\n",
       "   Do Not Call  Converted  TotalVisits  Total Time Spent on Website  \\\n",
       "0            0          0         0.00                            0   \n",
       "1            0          0         5.00                          674   \n",
       "2            0          1         2.00                         1532   \n",
       "3            0          0         1.00                          305   \n",
       "4            0          1         2.00                         1428   \n",
       "\n",
       "   Page Views Per Visit            Last Activity          ...           \\\n",
       "0                  0.00  Page Visited on Website          ...            \n",
       "1                  2.50             Email Opened          ...            \n",
       "2                  2.00             Email Opened          ...            \n",
       "3                  1.00              Unreachable          ...            \n",
       "4                  1.00        Converted to Lead          ...            \n",
       "\n",
       "  Digital Advertisement Through Recommendations  \\\n",
       "0                     0                       0   \n",
       "1                     0                       0   \n",
       "2                     0                       0   \n",
       "3                     0                       0   \n",
       "4                     0                       0   \n",
       "\n",
       "                                  Tags      Lead Quality    Lead Profile  \\\n",
       "0          Interested in other courses  Low in Relevance        NOTKNOWN   \n",
       "1                              Ringing         NOT known        NOTKNOWN   \n",
       "2  Will revert after reading the email          Might be  Potential Lead   \n",
       "3                              Ringing          Not Sure        NOTKNOWN   \n",
       "4  Will revert after reading the email          Might be        NOTKNOWN   \n",
       "\n",
       "       City  Asymmetrique Activity Index  Asymmetrique Profile Index  \\\n",
       "0  NOTKNOWN                    02.Medium                   02.Medium   \n",
       "1  NOTKNOWN                    02.Medium                   02.Medium   \n",
       "2    Mumbai                    02.Medium                     01.High   \n",
       "3    Mumbai                    02.Medium                     01.High   \n",
       "4    Mumbai                    02.Medium                     01.High   \n",
       "\n",
       "   A free copy of Mastering The Interview Last Notable Activity  \n",
       "0                                       0              Modified  \n",
       "1                                       0          Email Opened  \n",
       "2                                       1          Email Opened  \n",
       "3                                       0              Modified  \n",
       "4                                       0              Modified  \n",
       "\n",
       "[5 rows x 27 columns]"
      ]
     },
     "execution_count": 1116,
     "metadata": {},
     "output_type": "execute_result"
    }
   ],
   "source": [
    "# List of variables to map\n",
    "\n",
    "varlist =  ['Search','Do Not Email', 'Do Not Call', 'Newspaper Article', 'X Education Forums', 'Newspaper', \n",
    "            'Digital Advertisement','Through Recommendations','A free copy of Mastering The Interview']\n",
    "\n",
    "# Defining the map function\n",
    "def binary_map(x):\n",
    "    return x.map({'Yes': 1, \"No\": 0})\n",
    "\n",
    "# Applying the function to the housing list\n",
    "leads_df[varlist] = leads_df[varlist].apply(binary_map)\n",
    "leads_df.head()"
   ]
  },
  {
   "cell_type": "markdown",
   "metadata": {},
   "source": [
    "### Creating dummy features (one-hot encoded) for categorical variables with multiple levels"
   ]
  },
  {
   "cell_type": "code",
   "execution_count": 1117,
   "metadata": {},
   "outputs": [
    {
     "data": {
      "text/plain": [
       "(8575, 66)"
      ]
     },
     "execution_count": 1117,
     "metadata": {},
     "output_type": "execute_result"
    }
   ],
   "source": [
    "dummy1 = pd.get_dummies(leads_df[['Country', 'Lead Source','Lead Origin','Last Notable Activity']], drop_first=True)\n",
    "leads_df = pd.concat([leads_df, dummy1], axis=1)\n",
    "leads_df.shape"
   ]
  },
  {
   "cell_type": "code",
   "execution_count": 1118,
   "metadata": {},
   "outputs": [],
   "source": [
    "ml = pd.get_dummies(leads_df['Lead Quality'], prefix='Lead Quality')\n",
    "ml1 = ml.drop(['Lead Quality_NOT known'], 1)\n",
    "leads_df = pd.concat([leads_df,ml1], axis=1)"
   ]
  },
  {
   "cell_type": "code",
   "execution_count": 1119,
   "metadata": {},
   "outputs": [],
   "source": [
    "ml = pd.get_dummies(leads_df['Asymmetrique Profile Index'], prefix='Asymmetrique Profile Index')\n",
    "ml1 = ml.drop(['Asymmetrique Profile Index_Notknown'], 1)\n",
    "leads_df = pd.concat([leads_df,ml1], axis=1)\n"
   ]
  },
  {
   "cell_type": "code",
   "execution_count": 1120,
   "metadata": {},
   "outputs": [],
   "source": [
    "ml = pd.get_dummies(leads_df['Asymmetrique Activity Index'], prefix='Asymmetrique Activity Index')\n",
    "ml1 = ml.drop(['Asymmetrique Activity Index_Notknown'], 1)\n",
    "leads_df = pd.concat([leads_df,ml1], axis=1)"
   ]
  },
  {
   "cell_type": "code",
   "execution_count": 1121,
   "metadata": {},
   "outputs": [],
   "source": [
    "ml = pd.get_dummies(leads_df['Tags'], prefix='Tags')\n",
    "ml1 = ml.drop(['Tags_NOTKNOWN'], 1)\n",
    "leads_df = pd.concat([leads_df,ml1], axis=1)"
   ]
  },
  {
   "cell_type": "code",
   "execution_count": 1122,
   "metadata": {},
   "outputs": [],
   "source": [
    "ml = pd.get_dummies(leads_df['Lead Profile'], prefix='Lead Profile')\n",
    "ml1 = ml.drop(['Lead Profile_NOTKNOWN'], 1)\n",
    "leads_df = pd.concat([leads_df,ml1], axis=1)\n"
   ]
  },
  {
   "cell_type": "code",
   "execution_count": 1123,
   "metadata": {},
   "outputs": [],
   "source": [
    "ml = pd.get_dummies(leads_df['What is your current occupation'], prefix='What is your current occupation')\n",
    "ml1 = ml.drop(['What is your current occupation_NOTKNOWN'], 1)\n",
    "leads_df = pd.concat([leads_df,ml1], axis=1)\n"
   ]
  },
  {
   "cell_type": "code",
   "execution_count": 1124,
   "metadata": {},
   "outputs": [],
   "source": [
    "\n",
    "ml = pd.get_dummies(leads_df['Specialization'], prefix='Specialization')\n",
    "ml1 = ml.drop(['Specialization_NOTKNOWN'], 1)\n",
    "leads_df = pd.concat([leads_df,ml1], axis=1)"
   ]
  },
  {
   "cell_type": "code",
   "execution_count": 1125,
   "metadata": {},
   "outputs": [],
   "source": [
    "\n",
    "ml = pd.get_dummies(leads_df['City'], prefix='City')\n",
    "ml1 = ml.drop(['City_NOTKNOWN'], 1)\n",
    "leads_df = pd.concat([leads_df,ml1], axis=1)"
   ]
  },
  {
   "cell_type": "code",
   "execution_count": 1126,
   "metadata": {},
   "outputs": [],
   "source": [
    "\n",
    "ml = pd.get_dummies(leads_df['Last Activity'], prefix='Last Activity')\n",
    "ml1 = ml.drop(['Last Activity_NOTKNOWN'], 1)\n",
    "leads_df = pd.concat([leads_df,ml1], axis=1)\n"
   ]
  },
  {
   "cell_type": "code",
   "execution_count": 1127,
   "metadata": {},
   "outputs": [
    {
     "data": {
      "text/plain": [
       "(8575, 156)"
      ]
     },
     "execution_count": 1127,
     "metadata": {},
     "output_type": "execute_result"
    }
   ],
   "source": [
    "leads_df.shape"
   ]
  },
  {
   "cell_type": "code",
   "execution_count": null,
   "metadata": {},
   "outputs": [],
   "source": []
  },
  {
   "cell_type": "code",
   "execution_count": 1128,
   "metadata": {},
   "outputs": [],
   "source": [
    "leads_df = leads_df.drop(['Lead Quality','Asymmetrique Profile Index','Asymmetrique Activity Index','Tags','Lead Profile',\n",
    "                    'Lead Origin','What is your current occupation', 'Specialization', 'City','Last Activity', 'Country', \n",
    "                    'Lead Source','Last Notable Activity'], 1)\n"
   ]
  },
  {
   "cell_type": "code",
   "execution_count": 1129,
   "metadata": {},
   "outputs": [
    {
     "data": {
      "text/plain": [
       "(8575, 143)"
      ]
     },
     "execution_count": 1129,
     "metadata": {},
     "output_type": "execute_result"
    }
   ],
   "source": [
    "leads_df.shape"
   ]
  },
  {
   "cell_type": "code",
   "execution_count": 1130,
   "metadata": {},
   "outputs": [
    {
     "data": {
      "text/html": [
       "<div>\n",
       "<style scoped>\n",
       "    .dataframe tbody tr th:only-of-type {\n",
       "        vertical-align: middle;\n",
       "    }\n",
       "\n",
       "    .dataframe tbody tr th {\n",
       "        vertical-align: top;\n",
       "    }\n",
       "\n",
       "    .dataframe thead th {\n",
       "        text-align: right;\n",
       "    }\n",
       "</style>\n",
       "<table border=\"1\" class=\"dataframe\">\n",
       "  <thead>\n",
       "    <tr style=\"text-align: right;\">\n",
       "      <th></th>\n",
       "      <th>Lead Number</th>\n",
       "      <th>Do Not Email</th>\n",
       "      <th>Do Not Call</th>\n",
       "      <th>Converted</th>\n",
       "      <th>TotalVisits</th>\n",
       "      <th>Total Time Spent on Website</th>\n",
       "      <th>Page Views Per Visit</th>\n",
       "      <th>Search</th>\n",
       "      <th>Newspaper Article</th>\n",
       "      <th>X Education Forums</th>\n",
       "      <th>...</th>\n",
       "      <th>Last Activity_Form Submitted on Website</th>\n",
       "      <th>Last Activity_Had a Phone Conversation</th>\n",
       "      <th>Last Activity_Olark Chat Conversation</th>\n",
       "      <th>Last Activity_Page Visited on Website</th>\n",
       "      <th>Last Activity_Resubscribed to emails</th>\n",
       "      <th>Last Activity_SMS Sent</th>\n",
       "      <th>Last Activity_Unreachable</th>\n",
       "      <th>Last Activity_Unsubscribed</th>\n",
       "      <th>Last Activity_View in browser link Clicked</th>\n",
       "      <th>Last Activity_Visited Booth in Tradeshow</th>\n",
       "    </tr>\n",
       "  </thead>\n",
       "  <tbody>\n",
       "    <tr>\n",
       "      <th>0</th>\n",
       "      <td>660737</td>\n",
       "      <td>0</td>\n",
       "      <td>0</td>\n",
       "      <td>0</td>\n",
       "      <td>0.00</td>\n",
       "      <td>0</td>\n",
       "      <td>0.00</td>\n",
       "      <td>0</td>\n",
       "      <td>0</td>\n",
       "      <td>0</td>\n",
       "      <td>...</td>\n",
       "      <td>0</td>\n",
       "      <td>0</td>\n",
       "      <td>0</td>\n",
       "      <td>1</td>\n",
       "      <td>0</td>\n",
       "      <td>0</td>\n",
       "      <td>0</td>\n",
       "      <td>0</td>\n",
       "      <td>0</td>\n",
       "      <td>0</td>\n",
       "    </tr>\n",
       "    <tr>\n",
       "      <th>1</th>\n",
       "      <td>660728</td>\n",
       "      <td>0</td>\n",
       "      <td>0</td>\n",
       "      <td>0</td>\n",
       "      <td>5.00</td>\n",
       "      <td>674</td>\n",
       "      <td>2.50</td>\n",
       "      <td>0</td>\n",
       "      <td>0</td>\n",
       "      <td>0</td>\n",
       "      <td>...</td>\n",
       "      <td>0</td>\n",
       "      <td>0</td>\n",
       "      <td>0</td>\n",
       "      <td>0</td>\n",
       "      <td>0</td>\n",
       "      <td>0</td>\n",
       "      <td>0</td>\n",
       "      <td>0</td>\n",
       "      <td>0</td>\n",
       "      <td>0</td>\n",
       "    </tr>\n",
       "    <tr>\n",
       "      <th>2</th>\n",
       "      <td>660727</td>\n",
       "      <td>0</td>\n",
       "      <td>0</td>\n",
       "      <td>1</td>\n",
       "      <td>2.00</td>\n",
       "      <td>1532</td>\n",
       "      <td>2.00</td>\n",
       "      <td>0</td>\n",
       "      <td>0</td>\n",
       "      <td>0</td>\n",
       "      <td>...</td>\n",
       "      <td>0</td>\n",
       "      <td>0</td>\n",
       "      <td>0</td>\n",
       "      <td>0</td>\n",
       "      <td>0</td>\n",
       "      <td>0</td>\n",
       "      <td>0</td>\n",
       "      <td>0</td>\n",
       "      <td>0</td>\n",
       "      <td>0</td>\n",
       "    </tr>\n",
       "    <tr>\n",
       "      <th>3</th>\n",
       "      <td>660719</td>\n",
       "      <td>0</td>\n",
       "      <td>0</td>\n",
       "      <td>0</td>\n",
       "      <td>1.00</td>\n",
       "      <td>305</td>\n",
       "      <td>1.00</td>\n",
       "      <td>0</td>\n",
       "      <td>0</td>\n",
       "      <td>0</td>\n",
       "      <td>...</td>\n",
       "      <td>0</td>\n",
       "      <td>0</td>\n",
       "      <td>0</td>\n",
       "      <td>0</td>\n",
       "      <td>0</td>\n",
       "      <td>0</td>\n",
       "      <td>1</td>\n",
       "      <td>0</td>\n",
       "      <td>0</td>\n",
       "      <td>0</td>\n",
       "    </tr>\n",
       "    <tr>\n",
       "      <th>4</th>\n",
       "      <td>660681</td>\n",
       "      <td>0</td>\n",
       "      <td>0</td>\n",
       "      <td>1</td>\n",
       "      <td>2.00</td>\n",
       "      <td>1428</td>\n",
       "      <td>1.00</td>\n",
       "      <td>0</td>\n",
       "      <td>0</td>\n",
       "      <td>0</td>\n",
       "      <td>...</td>\n",
       "      <td>0</td>\n",
       "      <td>0</td>\n",
       "      <td>0</td>\n",
       "      <td>0</td>\n",
       "      <td>0</td>\n",
       "      <td>0</td>\n",
       "      <td>0</td>\n",
       "      <td>0</td>\n",
       "      <td>0</td>\n",
       "      <td>0</td>\n",
       "    </tr>\n",
       "  </tbody>\n",
       "</table>\n",
       "<p>5 rows × 143 columns</p>\n",
       "</div>"
      ],
      "text/plain": [
       "   Lead Number  Do Not Email  Do Not Call  Converted  TotalVisits  \\\n",
       "0       660737             0            0          0         0.00   \n",
       "1       660728             0            0          0         5.00   \n",
       "2       660727             0            0          1         2.00   \n",
       "3       660719             0            0          0         1.00   \n",
       "4       660681             0            0          1         2.00   \n",
       "\n",
       "   Total Time Spent on Website  Page Views Per Visit  Search  \\\n",
       "0                            0                  0.00       0   \n",
       "1                          674                  2.50       0   \n",
       "2                         1532                  2.00       0   \n",
       "3                          305                  1.00       0   \n",
       "4                         1428                  1.00       0   \n",
       "\n",
       "   Newspaper Article  X Education Forums  \\\n",
       "0                  0                   0   \n",
       "1                  0                   0   \n",
       "2                  0                   0   \n",
       "3                  0                   0   \n",
       "4                  0                   0   \n",
       "\n",
       "                     ...                     \\\n",
       "0                    ...                      \n",
       "1                    ...                      \n",
       "2                    ...                      \n",
       "3                    ...                      \n",
       "4                    ...                      \n",
       "\n",
       "   Last Activity_Form Submitted on Website  \\\n",
       "0                                        0   \n",
       "1                                        0   \n",
       "2                                        0   \n",
       "3                                        0   \n",
       "4                                        0   \n",
       "\n",
       "   Last Activity_Had a Phone Conversation  \\\n",
       "0                                       0   \n",
       "1                                       0   \n",
       "2                                       0   \n",
       "3                                       0   \n",
       "4                                       0   \n",
       "\n",
       "   Last Activity_Olark Chat Conversation  \\\n",
       "0                                      0   \n",
       "1                                      0   \n",
       "2                                      0   \n",
       "3                                      0   \n",
       "4                                      0   \n",
       "\n",
       "   Last Activity_Page Visited on Website  \\\n",
       "0                                      1   \n",
       "1                                      0   \n",
       "2                                      0   \n",
       "3                                      0   \n",
       "4                                      0   \n",
       "\n",
       "   Last Activity_Resubscribed to emails  Last Activity_SMS Sent  \\\n",
       "0                                     0                       0   \n",
       "1                                     0                       0   \n",
       "2                                     0                       0   \n",
       "3                                     0                       0   \n",
       "4                                     0                       0   \n",
       "\n",
       "   Last Activity_Unreachable  Last Activity_Unsubscribed  \\\n",
       "0                          0                           0   \n",
       "1                          0                           0   \n",
       "2                          0                           0   \n",
       "3                          1                           0   \n",
       "4                          0                           0   \n",
       "\n",
       "   Last Activity_View in browser link Clicked  \\\n",
       "0                                           0   \n",
       "1                                           0   \n",
       "2                                           0   \n",
       "3                                           0   \n",
       "4                                           0   \n",
       "\n",
       "   Last Activity_Visited Booth in Tradeshow  \n",
       "0                                         0  \n",
       "1                                         0  \n",
       "2                                         0  \n",
       "3                                         0  \n",
       "4                                         0  \n",
       "\n",
       "[5 rows x 143 columns]"
      ]
     },
     "execution_count": 1130,
     "metadata": {},
     "output_type": "execute_result"
    }
   ],
   "source": [
    "leads_df.head()"
   ]
  },
  {
   "cell_type": "code",
   "execution_count": 1131,
   "metadata": {},
   "outputs": [
    {
     "data": {
      "text/plain": [
       "[]"
      ]
     },
     "execution_count": 1131,
     "metadata": {},
     "output_type": "execute_result"
    }
   ],
   "source": [
    "# Ensuring there are no categorical columns left in the dataframe\n",
    "cols = leads_df.columns\n",
    "num_cols = leads_df._get_numeric_data().columns\n",
    "list(set(cols) - set(num_cols))"
   ]
  },
  {
   "cell_type": "code",
   "execution_count": 1132,
   "metadata": {},
   "outputs": [
    {
     "name": "stdout",
     "output_type": "stream",
     "text": [
      "(8575, 143)\n",
      "(8575, 143)\n"
     ]
    }
   ],
   "source": [
    "# Creating a copy of this origial variable in case if needed later on\n",
    "original_leads_df = leads_df.copy()\n",
    "print(original_leads_df.shape)\n",
    "print(leads_df.shape)"
   ]
  },
  {
   "cell_type": "markdown",
   "metadata": {},
   "source": [
    "## Step 5: Splitting the Data set into Train and Test Set"
   ]
  },
  {
   "cell_type": "code",
   "execution_count": 1133,
   "metadata": {},
   "outputs": [],
   "source": [
    "from sklearn.model_selection import train_test_split"
   ]
  },
  {
   "cell_type": "code",
   "execution_count": 1134,
   "metadata": {},
   "outputs": [
    {
     "data": {
      "text/html": [
       "<div>\n",
       "<style scoped>\n",
       "    .dataframe tbody tr th:only-of-type {\n",
       "        vertical-align: middle;\n",
       "    }\n",
       "\n",
       "    .dataframe tbody tr th {\n",
       "        vertical-align: top;\n",
       "    }\n",
       "\n",
       "    .dataframe thead th {\n",
       "        text-align: right;\n",
       "    }\n",
       "</style>\n",
       "<table border=\"1\" class=\"dataframe\">\n",
       "  <thead>\n",
       "    <tr style=\"text-align: right;\">\n",
       "      <th></th>\n",
       "      <th>Do Not Email</th>\n",
       "      <th>Do Not Call</th>\n",
       "      <th>TotalVisits</th>\n",
       "      <th>Total Time Spent on Website</th>\n",
       "      <th>Page Views Per Visit</th>\n",
       "      <th>Search</th>\n",
       "      <th>Newspaper Article</th>\n",
       "      <th>X Education Forums</th>\n",
       "      <th>Newspaper</th>\n",
       "      <th>Digital Advertisement</th>\n",
       "      <th>...</th>\n",
       "      <th>Last Activity_Form Submitted on Website</th>\n",
       "      <th>Last Activity_Had a Phone Conversation</th>\n",
       "      <th>Last Activity_Olark Chat Conversation</th>\n",
       "      <th>Last Activity_Page Visited on Website</th>\n",
       "      <th>Last Activity_Resubscribed to emails</th>\n",
       "      <th>Last Activity_SMS Sent</th>\n",
       "      <th>Last Activity_Unreachable</th>\n",
       "      <th>Last Activity_Unsubscribed</th>\n",
       "      <th>Last Activity_View in browser link Clicked</th>\n",
       "      <th>Last Activity_Visited Booth in Tradeshow</th>\n",
       "    </tr>\n",
       "  </thead>\n",
       "  <tbody>\n",
       "    <tr>\n",
       "      <th>0</th>\n",
       "      <td>0</td>\n",
       "      <td>0</td>\n",
       "      <td>0.00</td>\n",
       "      <td>0</td>\n",
       "      <td>0.00</td>\n",
       "      <td>0</td>\n",
       "      <td>0</td>\n",
       "      <td>0</td>\n",
       "      <td>0</td>\n",
       "      <td>0</td>\n",
       "      <td>...</td>\n",
       "      <td>0</td>\n",
       "      <td>0</td>\n",
       "      <td>0</td>\n",
       "      <td>1</td>\n",
       "      <td>0</td>\n",
       "      <td>0</td>\n",
       "      <td>0</td>\n",
       "      <td>0</td>\n",
       "      <td>0</td>\n",
       "      <td>0</td>\n",
       "    </tr>\n",
       "    <tr>\n",
       "      <th>1</th>\n",
       "      <td>0</td>\n",
       "      <td>0</td>\n",
       "      <td>5.00</td>\n",
       "      <td>674</td>\n",
       "      <td>2.50</td>\n",
       "      <td>0</td>\n",
       "      <td>0</td>\n",
       "      <td>0</td>\n",
       "      <td>0</td>\n",
       "      <td>0</td>\n",
       "      <td>...</td>\n",
       "      <td>0</td>\n",
       "      <td>0</td>\n",
       "      <td>0</td>\n",
       "      <td>0</td>\n",
       "      <td>0</td>\n",
       "      <td>0</td>\n",
       "      <td>0</td>\n",
       "      <td>0</td>\n",
       "      <td>0</td>\n",
       "      <td>0</td>\n",
       "    </tr>\n",
       "    <tr>\n",
       "      <th>2</th>\n",
       "      <td>0</td>\n",
       "      <td>0</td>\n",
       "      <td>2.00</td>\n",
       "      <td>1532</td>\n",
       "      <td>2.00</td>\n",
       "      <td>0</td>\n",
       "      <td>0</td>\n",
       "      <td>0</td>\n",
       "      <td>0</td>\n",
       "      <td>0</td>\n",
       "      <td>...</td>\n",
       "      <td>0</td>\n",
       "      <td>0</td>\n",
       "      <td>0</td>\n",
       "      <td>0</td>\n",
       "      <td>0</td>\n",
       "      <td>0</td>\n",
       "      <td>0</td>\n",
       "      <td>0</td>\n",
       "      <td>0</td>\n",
       "      <td>0</td>\n",
       "    </tr>\n",
       "    <tr>\n",
       "      <th>3</th>\n",
       "      <td>0</td>\n",
       "      <td>0</td>\n",
       "      <td>1.00</td>\n",
       "      <td>305</td>\n",
       "      <td>1.00</td>\n",
       "      <td>0</td>\n",
       "      <td>0</td>\n",
       "      <td>0</td>\n",
       "      <td>0</td>\n",
       "      <td>0</td>\n",
       "      <td>...</td>\n",
       "      <td>0</td>\n",
       "      <td>0</td>\n",
       "      <td>0</td>\n",
       "      <td>0</td>\n",
       "      <td>0</td>\n",
       "      <td>0</td>\n",
       "      <td>1</td>\n",
       "      <td>0</td>\n",
       "      <td>0</td>\n",
       "      <td>0</td>\n",
       "    </tr>\n",
       "    <tr>\n",
       "      <th>4</th>\n",
       "      <td>0</td>\n",
       "      <td>0</td>\n",
       "      <td>2.00</td>\n",
       "      <td>1428</td>\n",
       "      <td>1.00</td>\n",
       "      <td>0</td>\n",
       "      <td>0</td>\n",
       "      <td>0</td>\n",
       "      <td>0</td>\n",
       "      <td>0</td>\n",
       "      <td>...</td>\n",
       "      <td>0</td>\n",
       "      <td>0</td>\n",
       "      <td>0</td>\n",
       "      <td>0</td>\n",
       "      <td>0</td>\n",
       "      <td>0</td>\n",
       "      <td>0</td>\n",
       "      <td>0</td>\n",
       "      <td>0</td>\n",
       "      <td>0</td>\n",
       "    </tr>\n",
       "  </tbody>\n",
       "</table>\n",
       "<p>5 rows × 141 columns</p>\n",
       "</div>"
      ],
      "text/plain": [
       "   Do Not Email  Do Not Call  TotalVisits  Total Time Spent on Website  \\\n",
       "0             0            0         0.00                            0   \n",
       "1             0            0         5.00                          674   \n",
       "2             0            0         2.00                         1532   \n",
       "3             0            0         1.00                          305   \n",
       "4             0            0         2.00                         1428   \n",
       "\n",
       "   Page Views Per Visit  Search  Newspaper Article  X Education Forums  \\\n",
       "0                  0.00       0                  0                   0   \n",
       "1                  2.50       0                  0                   0   \n",
       "2                  2.00       0                  0                   0   \n",
       "3                  1.00       0                  0                   0   \n",
       "4                  1.00       0                  0                   0   \n",
       "\n",
       "   Newspaper  Digital Advertisement                    ...                     \\\n",
       "0          0                      0                    ...                      \n",
       "1          0                      0                    ...                      \n",
       "2          0                      0                    ...                      \n",
       "3          0                      0                    ...                      \n",
       "4          0                      0                    ...                      \n",
       "\n",
       "   Last Activity_Form Submitted on Website  \\\n",
       "0                                        0   \n",
       "1                                        0   \n",
       "2                                        0   \n",
       "3                                        0   \n",
       "4                                        0   \n",
       "\n",
       "   Last Activity_Had a Phone Conversation  \\\n",
       "0                                       0   \n",
       "1                                       0   \n",
       "2                                       0   \n",
       "3                                       0   \n",
       "4                                       0   \n",
       "\n",
       "   Last Activity_Olark Chat Conversation  \\\n",
       "0                                      0   \n",
       "1                                      0   \n",
       "2                                      0   \n",
       "3                                      0   \n",
       "4                                      0   \n",
       "\n",
       "   Last Activity_Page Visited on Website  \\\n",
       "0                                      1   \n",
       "1                                      0   \n",
       "2                                      0   \n",
       "3                                      0   \n",
       "4                                      0   \n",
       "\n",
       "   Last Activity_Resubscribed to emails  Last Activity_SMS Sent  \\\n",
       "0                                     0                       0   \n",
       "1                                     0                       0   \n",
       "2                                     0                       0   \n",
       "3                                     0                       0   \n",
       "4                                     0                       0   \n",
       "\n",
       "   Last Activity_Unreachable  Last Activity_Unsubscribed  \\\n",
       "0                          0                           0   \n",
       "1                          0                           0   \n",
       "2                          0                           0   \n",
       "3                          1                           0   \n",
       "4                          0                           0   \n",
       "\n",
       "   Last Activity_View in browser link Clicked  \\\n",
       "0                                           0   \n",
       "1                                           0   \n",
       "2                                           0   \n",
       "3                                           0   \n",
       "4                                           0   \n",
       "\n",
       "   Last Activity_Visited Booth in Tradeshow  \n",
       "0                                         0  \n",
       "1                                         0  \n",
       "2                                         0  \n",
       "3                                         0  \n",
       "4                                         0  \n",
       "\n",
       "[5 rows x 141 columns]"
      ]
     },
     "execution_count": 1134,
     "metadata": {},
     "output_type": "execute_result"
    }
   ],
   "source": [
    "# Taking feature variable to X\n",
    "X = leads_df.drop(['Converted','Lead Number'], axis=1)\n",
    "X.head()"
   ]
  },
  {
   "cell_type": "code",
   "execution_count": 1135,
   "metadata": {},
   "outputs": [
    {
     "data": {
      "text/plain": [
       "0    0\n",
       "1    0\n",
       "2    1\n",
       "3    0\n",
       "4    1\n",
       "Name: Converted, dtype: int64"
      ]
     },
     "execution_count": 1135,
     "metadata": {},
     "output_type": "execute_result"
    }
   ],
   "source": [
    "# Putting target variable to y\n",
    "y = leads_df['Converted']\n",
    "\n",
    "y.head()"
   ]
  },
  {
   "cell_type": "code",
   "execution_count": 1136,
   "metadata": {},
   "outputs": [],
   "source": [
    "# Splitting the data into train and test\n",
    "X_train, X_test, y_train, y_test = train_test_split(X, y, train_size=0.7, test_size=0.3, random_state=100)"
   ]
  },
  {
   "cell_type": "markdown",
   "metadata": {},
   "source": [
    "### Step 6:  Scaling the Features"
   ]
  },
  {
   "cell_type": "code",
   "execution_count": 1137,
   "metadata": {},
   "outputs": [],
   "source": [
    "from sklearn.preprocessing import StandardScaler"
   ]
  },
  {
   "cell_type": "code",
   "execution_count": 1138,
   "metadata": {},
   "outputs": [
    {
     "data": {
      "text/html": [
       "<div>\n",
       "<style scoped>\n",
       "    .dataframe tbody tr th:only-of-type {\n",
       "        vertical-align: middle;\n",
       "    }\n",
       "\n",
       "    .dataframe tbody tr th {\n",
       "        vertical-align: top;\n",
       "    }\n",
       "\n",
       "    .dataframe thead th {\n",
       "        text-align: right;\n",
       "    }\n",
       "</style>\n",
       "<table border=\"1\" class=\"dataframe\">\n",
       "  <thead>\n",
       "    <tr style=\"text-align: right;\">\n",
       "      <th></th>\n",
       "      <th>Do Not Email</th>\n",
       "      <th>Do Not Call</th>\n",
       "      <th>TotalVisits</th>\n",
       "      <th>Total Time Spent on Website</th>\n",
       "      <th>Page Views Per Visit</th>\n",
       "      <th>Search</th>\n",
       "      <th>Newspaper Article</th>\n",
       "      <th>X Education Forums</th>\n",
       "      <th>Newspaper</th>\n",
       "      <th>Digital Advertisement</th>\n",
       "      <th>...</th>\n",
       "      <th>Last Activity_Form Submitted on Website</th>\n",
       "      <th>Last Activity_Had a Phone Conversation</th>\n",
       "      <th>Last Activity_Olark Chat Conversation</th>\n",
       "      <th>Last Activity_Page Visited on Website</th>\n",
       "      <th>Last Activity_Resubscribed to emails</th>\n",
       "      <th>Last Activity_SMS Sent</th>\n",
       "      <th>Last Activity_Unreachable</th>\n",
       "      <th>Last Activity_Unsubscribed</th>\n",
       "      <th>Last Activity_View in browser link Clicked</th>\n",
       "      <th>Last Activity_Visited Booth in Tradeshow</th>\n",
       "    </tr>\n",
       "  </thead>\n",
       "  <tbody>\n",
       "    <tr>\n",
       "      <th>8529</th>\n",
       "      <td>0</td>\n",
       "      <td>0</td>\n",
       "      <td>0.97</td>\n",
       "      <td>-0.86</td>\n",
       "      <td>1.79</td>\n",
       "      <td>0</td>\n",
       "      <td>0</td>\n",
       "      <td>0</td>\n",
       "      <td>0</td>\n",
       "      <td>0</td>\n",
       "      <td>...</td>\n",
       "      <td>0</td>\n",
       "      <td>0</td>\n",
       "      <td>0</td>\n",
       "      <td>0</td>\n",
       "      <td>0</td>\n",
       "      <td>1</td>\n",
       "      <td>0</td>\n",
       "      <td>0</td>\n",
       "      <td>0</td>\n",
       "      <td>0</td>\n",
       "    </tr>\n",
       "    <tr>\n",
       "      <th>7331</th>\n",
       "      <td>0</td>\n",
       "      <td>0</td>\n",
       "      <td>0.10</td>\n",
       "      <td>-0.22</td>\n",
       "      <td>0.56</td>\n",
       "      <td>0</td>\n",
       "      <td>0</td>\n",
       "      <td>0</td>\n",
       "      <td>0</td>\n",
       "      <td>0</td>\n",
       "      <td>...</td>\n",
       "      <td>0</td>\n",
       "      <td>0</td>\n",
       "      <td>0</td>\n",
       "      <td>0</td>\n",
       "      <td>0</td>\n",
       "      <td>0</td>\n",
       "      <td>0</td>\n",
       "      <td>0</td>\n",
       "      <td>0</td>\n",
       "      <td>0</td>\n",
       "    </tr>\n",
       "    <tr>\n",
       "      <th>7688</th>\n",
       "      <td>0</td>\n",
       "      <td>0</td>\n",
       "      <td>0.10</td>\n",
       "      <td>1.52</td>\n",
       "      <td>0.56</td>\n",
       "      <td>0</td>\n",
       "      <td>0</td>\n",
       "      <td>0</td>\n",
       "      <td>0</td>\n",
       "      <td>0</td>\n",
       "      <td>...</td>\n",
       "      <td>0</td>\n",
       "      <td>0</td>\n",
       "      <td>0</td>\n",
       "      <td>0</td>\n",
       "      <td>0</td>\n",
       "      <td>1</td>\n",
       "      <td>0</td>\n",
       "      <td>0</td>\n",
       "      <td>0</td>\n",
       "      <td>0</td>\n",
       "    </tr>\n",
       "    <tr>\n",
       "      <th>92</th>\n",
       "      <td>0</td>\n",
       "      <td>0</td>\n",
       "      <td>0.54</td>\n",
       "      <td>-0.69</td>\n",
       "      <td>1.17</td>\n",
       "      <td>0</td>\n",
       "      <td>0</td>\n",
       "      <td>0</td>\n",
       "      <td>0</td>\n",
       "      <td>0</td>\n",
       "      <td>...</td>\n",
       "      <td>0</td>\n",
       "      <td>0</td>\n",
       "      <td>0</td>\n",
       "      <td>0</td>\n",
       "      <td>0</td>\n",
       "      <td>0</td>\n",
       "      <td>0</td>\n",
       "      <td>0</td>\n",
       "      <td>0</td>\n",
       "      <td>0</td>\n",
       "    </tr>\n",
       "    <tr>\n",
       "      <th>4908</th>\n",
       "      <td>0</td>\n",
       "      <td>0</td>\n",
       "      <td>-1.20</td>\n",
       "      <td>-0.87</td>\n",
       "      <td>-1.27</td>\n",
       "      <td>0</td>\n",
       "      <td>0</td>\n",
       "      <td>0</td>\n",
       "      <td>0</td>\n",
       "      <td>0</td>\n",
       "      <td>...</td>\n",
       "      <td>0</td>\n",
       "      <td>0</td>\n",
       "      <td>1</td>\n",
       "      <td>0</td>\n",
       "      <td>0</td>\n",
       "      <td>0</td>\n",
       "      <td>0</td>\n",
       "      <td>0</td>\n",
       "      <td>0</td>\n",
       "      <td>0</td>\n",
       "    </tr>\n",
       "  </tbody>\n",
       "</table>\n",
       "<p>5 rows × 141 columns</p>\n",
       "</div>"
      ],
      "text/plain": [
       "      Do Not Email  Do Not Call  TotalVisits  Total Time Spent on Website  \\\n",
       "8529             0            0         0.97                        -0.86   \n",
       "7331             0            0         0.10                        -0.22   \n",
       "7688             0            0         0.10                         1.52   \n",
       "92               0            0         0.54                        -0.69   \n",
       "4908             0            0        -1.20                        -0.87   \n",
       "\n",
       "      Page Views Per Visit  Search  Newspaper Article  X Education Forums  \\\n",
       "8529                  1.79       0                  0                   0   \n",
       "7331                  0.56       0                  0                   0   \n",
       "7688                  0.56       0                  0                   0   \n",
       "92                    1.17       0                  0                   0   \n",
       "4908                 -1.27       0                  0                   0   \n",
       "\n",
       "      Newspaper  Digital Advertisement  \\\n",
       "8529          0                      0   \n",
       "7331          0                      0   \n",
       "7688          0                      0   \n",
       "92            0                      0   \n",
       "4908          0                      0   \n",
       "\n",
       "                        ...                     \\\n",
       "8529                    ...                      \n",
       "7331                    ...                      \n",
       "7688                    ...                      \n",
       "92                      ...                      \n",
       "4908                    ...                      \n",
       "\n",
       "      Last Activity_Form Submitted on Website  \\\n",
       "8529                                        0   \n",
       "7331                                        0   \n",
       "7688                                        0   \n",
       "92                                          0   \n",
       "4908                                        0   \n",
       "\n",
       "      Last Activity_Had a Phone Conversation  \\\n",
       "8529                                       0   \n",
       "7331                                       0   \n",
       "7688                                       0   \n",
       "92                                         0   \n",
       "4908                                       0   \n",
       "\n",
       "      Last Activity_Olark Chat Conversation  \\\n",
       "8529                                      0   \n",
       "7331                                      0   \n",
       "7688                                      0   \n",
       "92                                        0   \n",
       "4908                                      1   \n",
       "\n",
       "      Last Activity_Page Visited on Website  \\\n",
       "8529                                      0   \n",
       "7331                                      0   \n",
       "7688                                      0   \n",
       "92                                        0   \n",
       "4908                                      0   \n",
       "\n",
       "      Last Activity_Resubscribed to emails  Last Activity_SMS Sent  \\\n",
       "8529                                     0                       1   \n",
       "7331                                     0                       0   \n",
       "7688                                     0                       1   \n",
       "92                                       0                       0   \n",
       "4908                                     0                       0   \n",
       "\n",
       "      Last Activity_Unreachable  Last Activity_Unsubscribed  \\\n",
       "8529                          0                           0   \n",
       "7331                          0                           0   \n",
       "7688                          0                           0   \n",
       "92                            0                           0   \n",
       "4908                          0                           0   \n",
       "\n",
       "      Last Activity_View in browser link Clicked  \\\n",
       "8529                                           0   \n",
       "7331                                           0   \n",
       "7688                                           0   \n",
       "92                                             0   \n",
       "4908                                           0   \n",
       "\n",
       "      Last Activity_Visited Booth in Tradeshow  \n",
       "8529                                         0  \n",
       "7331                                         0  \n",
       "7688                                         0  \n",
       "92                                           0  \n",
       "4908                                         0  \n",
       "\n",
       "[5 rows x 141 columns]"
      ]
     },
     "execution_count": 1138,
     "metadata": {},
     "output_type": "execute_result"
    }
   ],
   "source": [
    "scaler = StandardScaler()\n",
    "X_train[['TotalVisits','Total Time Spent on Website','Page Views Per Visit']] = scaler.fit_transform(X_train[['TotalVisits','Total Time Spent on Website','Page Views Per Visit']])\n",
    "X_train.head()"
   ]
  },
  {
   "cell_type": "code",
   "execution_count": 1139,
   "metadata": {},
   "outputs": [
    {
     "data": {
      "text/html": [
       "<div>\n",
       "<style scoped>\n",
       "    .dataframe tbody tr th:only-of-type {\n",
       "        vertical-align: middle;\n",
       "    }\n",
       "\n",
       "    .dataframe tbody tr th {\n",
       "        vertical-align: top;\n",
       "    }\n",
       "\n",
       "    .dataframe thead th {\n",
       "        text-align: right;\n",
       "    }\n",
       "</style>\n",
       "<table border=\"1\" class=\"dataframe\">\n",
       "  <thead>\n",
       "    <tr style=\"text-align: right;\">\n",
       "      <th></th>\n",
       "      <th>Do Not Email</th>\n",
       "      <th>Do Not Call</th>\n",
       "      <th>TotalVisits</th>\n",
       "      <th>Total Time Spent on Website</th>\n",
       "      <th>Page Views Per Visit</th>\n",
       "      <th>Search</th>\n",
       "      <th>Newspaper Article</th>\n",
       "      <th>X Education Forums</th>\n",
       "      <th>Newspaper</th>\n",
       "      <th>Digital Advertisement</th>\n",
       "      <th>...</th>\n",
       "      <th>Last Activity_Form Submitted on Website</th>\n",
       "      <th>Last Activity_Had a Phone Conversation</th>\n",
       "      <th>Last Activity_Olark Chat Conversation</th>\n",
       "      <th>Last Activity_Page Visited on Website</th>\n",
       "      <th>Last Activity_Resubscribed to emails</th>\n",
       "      <th>Last Activity_SMS Sent</th>\n",
       "      <th>Last Activity_Unreachable</th>\n",
       "      <th>Last Activity_Unsubscribed</th>\n",
       "      <th>Last Activity_View in browser link Clicked</th>\n",
       "      <th>Last Activity_Visited Booth in Tradeshow</th>\n",
       "    </tr>\n",
       "  </thead>\n",
       "  <tbody>\n",
       "    <tr>\n",
       "      <th>count</th>\n",
       "      <td>6002.00</td>\n",
       "      <td>6002.00</td>\n",
       "      <td>6002.00</td>\n",
       "      <td>6002.00</td>\n",
       "      <td>6002.00</td>\n",
       "      <td>6002.00</td>\n",
       "      <td>6002.00</td>\n",
       "      <td>6002.00</td>\n",
       "      <td>6002.00</td>\n",
       "      <td>6002.00</td>\n",
       "      <td>...</td>\n",
       "      <td>6002.00</td>\n",
       "      <td>6002.00</td>\n",
       "      <td>6002.00</td>\n",
       "      <td>6002.00</td>\n",
       "      <td>6002.00</td>\n",
       "      <td>6002.00</td>\n",
       "      <td>6002.00</td>\n",
       "      <td>6002.00</td>\n",
       "      <td>6002.00</td>\n",
       "      <td>6002.00</td>\n",
       "    </tr>\n",
       "    <tr>\n",
       "      <th>mean</th>\n",
       "      <td>0.08</td>\n",
       "      <td>0.00</td>\n",
       "      <td>0.00</td>\n",
       "      <td>0.00</td>\n",
       "      <td>0.00</td>\n",
       "      <td>0.00</td>\n",
       "      <td>0.00</td>\n",
       "      <td>0.00</td>\n",
       "      <td>0.00</td>\n",
       "      <td>0.00</td>\n",
       "      <td>...</td>\n",
       "      <td>0.01</td>\n",
       "      <td>0.00</td>\n",
       "      <td>0.11</td>\n",
       "      <td>0.06</td>\n",
       "      <td>0.00</td>\n",
       "      <td>0.30</td>\n",
       "      <td>0.01</td>\n",
       "      <td>0.01</td>\n",
       "      <td>0.00</td>\n",
       "      <td>0.00</td>\n",
       "    </tr>\n",
       "    <tr>\n",
       "      <th>std</th>\n",
       "      <td>0.27</td>\n",
       "      <td>0.00</td>\n",
       "      <td>1.00</td>\n",
       "      <td>1.00</td>\n",
       "      <td>1.00</td>\n",
       "      <td>0.03</td>\n",
       "      <td>0.00</td>\n",
       "      <td>0.00</td>\n",
       "      <td>0.01</td>\n",
       "      <td>0.02</td>\n",
       "      <td>...</td>\n",
       "      <td>0.12</td>\n",
       "      <td>0.05</td>\n",
       "      <td>0.31</td>\n",
       "      <td>0.24</td>\n",
       "      <td>0.00</td>\n",
       "      <td>0.46</td>\n",
       "      <td>0.10</td>\n",
       "      <td>0.09</td>\n",
       "      <td>0.02</td>\n",
       "      <td>0.01</td>\n",
       "    </tr>\n",
       "    <tr>\n",
       "      <th>min</th>\n",
       "      <td>0.00</td>\n",
       "      <td>0.00</td>\n",
       "      <td>-1.20</td>\n",
       "      <td>-0.87</td>\n",
       "      <td>-1.27</td>\n",
       "      <td>0.00</td>\n",
       "      <td>0.00</td>\n",
       "      <td>0.00</td>\n",
       "      <td>0.00</td>\n",
       "      <td>0.00</td>\n",
       "      <td>...</td>\n",
       "      <td>0.00</td>\n",
       "      <td>0.00</td>\n",
       "      <td>0.00</td>\n",
       "      <td>0.00</td>\n",
       "      <td>0.00</td>\n",
       "      <td>0.00</td>\n",
       "      <td>0.00</td>\n",
       "      <td>0.00</td>\n",
       "      <td>0.00</td>\n",
       "      <td>0.00</td>\n",
       "    </tr>\n",
       "    <tr>\n",
       "      <th>25%</th>\n",
       "      <td>0.00</td>\n",
       "      <td>0.00</td>\n",
       "      <td>-0.77</td>\n",
       "      <td>-0.87</td>\n",
       "      <td>-0.66</td>\n",
       "      <td>0.00</td>\n",
       "      <td>0.00</td>\n",
       "      <td>0.00</td>\n",
       "      <td>0.00</td>\n",
       "      <td>0.00</td>\n",
       "      <td>...</td>\n",
       "      <td>0.00</td>\n",
       "      <td>0.00</td>\n",
       "      <td>0.00</td>\n",
       "      <td>0.00</td>\n",
       "      <td>0.00</td>\n",
       "      <td>0.00</td>\n",
       "      <td>0.00</td>\n",
       "      <td>0.00</td>\n",
       "      <td>0.00</td>\n",
       "      <td>0.00</td>\n",
       "    </tr>\n",
       "    <tr>\n",
       "      <th>50%</th>\n",
       "      <td>0.00</td>\n",
       "      <td>0.00</td>\n",
       "      <td>0.10</td>\n",
       "      <td>-0.44</td>\n",
       "      <td>-0.05</td>\n",
       "      <td>0.00</td>\n",
       "      <td>0.00</td>\n",
       "      <td>0.00</td>\n",
       "      <td>0.00</td>\n",
       "      <td>0.00</td>\n",
       "      <td>...</td>\n",
       "      <td>0.00</td>\n",
       "      <td>0.00</td>\n",
       "      <td>0.00</td>\n",
       "      <td>0.00</td>\n",
       "      <td>0.00</td>\n",
       "      <td>0.00</td>\n",
       "      <td>0.00</td>\n",
       "      <td>0.00</td>\n",
       "      <td>0.00</td>\n",
       "      <td>0.00</td>\n",
       "    </tr>\n",
       "    <tr>\n",
       "      <th>75%</th>\n",
       "      <td>0.00</td>\n",
       "      <td>0.00</td>\n",
       "      <td>0.54</td>\n",
       "      <td>0.78</td>\n",
       "      <td>0.56</td>\n",
       "      <td>0.00</td>\n",
       "      <td>0.00</td>\n",
       "      <td>0.00</td>\n",
       "      <td>0.00</td>\n",
       "      <td>0.00</td>\n",
       "      <td>...</td>\n",
       "      <td>0.00</td>\n",
       "      <td>0.00</td>\n",
       "      <td>0.00</td>\n",
       "      <td>0.00</td>\n",
       "      <td>0.00</td>\n",
       "      <td>1.00</td>\n",
       "      <td>0.00</td>\n",
       "      <td>0.00</td>\n",
       "      <td>0.00</td>\n",
       "      <td>0.00</td>\n",
       "    </tr>\n",
       "    <tr>\n",
       "      <th>max</th>\n",
       "      <td>1.00</td>\n",
       "      <td>0.00</td>\n",
       "      <td>3.14</td>\n",
       "      <td>3.30</td>\n",
       "      <td>2.40</td>\n",
       "      <td>1.00</td>\n",
       "      <td>0.00</td>\n",
       "      <td>0.00</td>\n",
       "      <td>1.00</td>\n",
       "      <td>1.00</td>\n",
       "      <td>...</td>\n",
       "      <td>1.00</td>\n",
       "      <td>1.00</td>\n",
       "      <td>1.00</td>\n",
       "      <td>1.00</td>\n",
       "      <td>0.00</td>\n",
       "      <td>1.00</td>\n",
       "      <td>1.00</td>\n",
       "      <td>1.00</td>\n",
       "      <td>1.00</td>\n",
       "      <td>1.00</td>\n",
       "    </tr>\n",
       "  </tbody>\n",
       "</table>\n",
       "<p>8 rows × 141 columns</p>\n",
       "</div>"
      ],
      "text/plain": [
       "       Do Not Email  Do Not Call  TotalVisits  Total Time Spent on Website  \\\n",
       "count       6002.00      6002.00      6002.00                      6002.00   \n",
       "mean           0.08         0.00         0.00                         0.00   \n",
       "std            0.27         0.00         1.00                         1.00   \n",
       "min            0.00         0.00        -1.20                        -0.87   \n",
       "25%            0.00         0.00        -0.77                        -0.87   \n",
       "50%            0.00         0.00         0.10                        -0.44   \n",
       "75%            0.00         0.00         0.54                         0.78   \n",
       "max            1.00         0.00         3.14                         3.30   \n",
       "\n",
       "       Page Views Per Visit  Search  Newspaper Article  X Education Forums  \\\n",
       "count               6002.00 6002.00            6002.00             6002.00   \n",
       "mean                   0.00    0.00               0.00                0.00   \n",
       "std                    1.00    0.03               0.00                0.00   \n",
       "min                   -1.27    0.00               0.00                0.00   \n",
       "25%                   -0.66    0.00               0.00                0.00   \n",
       "50%                   -0.05    0.00               0.00                0.00   \n",
       "75%                    0.56    0.00               0.00                0.00   \n",
       "max                    2.40    1.00               0.00                0.00   \n",
       "\n",
       "       Newspaper  Digital Advertisement  \\\n",
       "count    6002.00                6002.00   \n",
       "mean        0.00                   0.00   \n",
       "std         0.01                   0.02   \n",
       "min         0.00                   0.00   \n",
       "25%         0.00                   0.00   \n",
       "50%         0.00                   0.00   \n",
       "75%         0.00                   0.00   \n",
       "max         1.00                   1.00   \n",
       "\n",
       "                         ...                     \\\n",
       "count                    ...                      \n",
       "mean                     ...                      \n",
       "std                      ...                      \n",
       "min                      ...                      \n",
       "25%                      ...                      \n",
       "50%                      ...                      \n",
       "75%                      ...                      \n",
       "max                      ...                      \n",
       "\n",
       "       Last Activity_Form Submitted on Website  \\\n",
       "count                                  6002.00   \n",
       "mean                                      0.01   \n",
       "std                                       0.12   \n",
       "min                                       0.00   \n",
       "25%                                       0.00   \n",
       "50%                                       0.00   \n",
       "75%                                       0.00   \n",
       "max                                       1.00   \n",
       "\n",
       "       Last Activity_Had a Phone Conversation  \\\n",
       "count                                 6002.00   \n",
       "mean                                     0.00   \n",
       "std                                      0.05   \n",
       "min                                      0.00   \n",
       "25%                                      0.00   \n",
       "50%                                      0.00   \n",
       "75%                                      0.00   \n",
       "max                                      1.00   \n",
       "\n",
       "       Last Activity_Olark Chat Conversation  \\\n",
       "count                                6002.00   \n",
       "mean                                    0.11   \n",
       "std                                     0.31   \n",
       "min                                     0.00   \n",
       "25%                                     0.00   \n",
       "50%                                     0.00   \n",
       "75%                                     0.00   \n",
       "max                                     1.00   \n",
       "\n",
       "       Last Activity_Page Visited on Website  \\\n",
       "count                                6002.00   \n",
       "mean                                    0.06   \n",
       "std                                     0.24   \n",
       "min                                     0.00   \n",
       "25%                                     0.00   \n",
       "50%                                     0.00   \n",
       "75%                                     0.00   \n",
       "max                                     1.00   \n",
       "\n",
       "       Last Activity_Resubscribed to emails  Last Activity_SMS Sent  \\\n",
       "count                               6002.00                 6002.00   \n",
       "mean                                   0.00                    0.30   \n",
       "std                                    0.00                    0.46   \n",
       "min                                    0.00                    0.00   \n",
       "25%                                    0.00                    0.00   \n",
       "50%                                    0.00                    0.00   \n",
       "75%                                    0.00                    1.00   \n",
       "max                                    0.00                    1.00   \n",
       "\n",
       "       Last Activity_Unreachable  Last Activity_Unsubscribed  \\\n",
       "count                    6002.00                     6002.00   \n",
       "mean                        0.01                        0.01   \n",
       "std                         0.10                        0.09   \n",
       "min                         0.00                        0.00   \n",
       "25%                         0.00                        0.00   \n",
       "50%                         0.00                        0.00   \n",
       "75%                         0.00                        0.00   \n",
       "max                         1.00                        1.00   \n",
       "\n",
       "       Last Activity_View in browser link Clicked  \\\n",
       "count                                     6002.00   \n",
       "mean                                         0.00   \n",
       "std                                          0.02   \n",
       "min                                          0.00   \n",
       "25%                                          0.00   \n",
       "50%                                          0.00   \n",
       "75%                                          0.00   \n",
       "max                                          1.00   \n",
       "\n",
       "       Last Activity_Visited Booth in Tradeshow  \n",
       "count                                   6002.00  \n",
       "mean                                       0.00  \n",
       "std                                        0.01  \n",
       "min                                        0.00  \n",
       "25%                                        0.00  \n",
       "50%                                        0.00  \n",
       "75%                                        0.00  \n",
       "max                                        1.00  \n",
       "\n",
       "[8 rows x 141 columns]"
      ]
     },
     "execution_count": 1139,
     "metadata": {},
     "output_type": "execute_result"
    }
   ],
   "source": [
    "X_train.describe()"
   ]
  },
  {
   "cell_type": "markdown",
   "metadata": {},
   "source": [
    "### Verifying the Lead Conversion Rate"
   ]
  },
  {
   "cell_type": "code",
   "execution_count": 1140,
   "metadata": {},
   "outputs": [
    {
     "data": {
      "text/plain": [
       "38.04081632653061"
      ]
     },
     "execution_count": 1140,
     "metadata": {},
     "output_type": "execute_result"
    }
   ],
   "source": [
    "### Checking the Lead Conversion Rate\n",
    "converted = (sum(leads_df['Converted'])/len(leads_df['Converted'].index))*100\n",
    "converted"
   ]
  },
  {
   "cell_type": "markdown",
   "metadata": {},
   "source": [
    "**Conclusion:We have 38% lead conversion rate**"
   ]
  },
  {
   "cell_type": "markdown",
   "metadata": {},
   "source": [
    "### Step 7:  Building the model"
   ]
  },
  {
   "cell_type": "code",
   "execution_count": 1141,
   "metadata": {},
   "outputs": [],
   "source": [
    "import statsmodels.api as sm"
   ]
  },
  {
   "cell_type": "code",
   "execution_count": 1142,
   "metadata": {},
   "outputs": [
    {
     "data": {
      "text/html": [
       "<table class=\"simpletable\">\n",
       "<caption>Generalized Linear Model Regression Results</caption>\n",
       "<tr>\n",
       "  <th>Dep. Variable:</th>      <td>Converted</td>    <th>  No. Observations:  </th>  <td>  6002</td>  \n",
       "</tr>\n",
       "<tr>\n",
       "  <th>Model:</th>                 <td>GLM</td>       <th>  Df Residuals:      </th>  <td>  5871</td>  \n",
       "</tr>\n",
       "<tr>\n",
       "  <th>Model Family:</th>       <td>Binomial</td>     <th>  Df Model:          </th>  <td>   130</td>  \n",
       "</tr>\n",
       "<tr>\n",
       "  <th>Link Function:</th>        <td>logit</td>      <th>  Scale:             </th> <td>  1.0000</td> \n",
       "</tr>\n",
       "<tr>\n",
       "  <th>Method:</th>               <td>IRLS</td>       <th>  Log-Likelihood:    </th> <td>     nan</td> \n",
       "</tr>\n",
       "<tr>\n",
       "  <th>Date:</th>           <td>Mon, 26 Aug 2019</td> <th>  Deviance:          </th> <td>     nan</td> \n",
       "</tr>\n",
       "<tr>\n",
       "  <th>Time:</th>               <td>21:46:37</td>     <th>  Pearson chi2:      </th> <td>2.91e+18</td> \n",
       "</tr>\n",
       "<tr>\n",
       "  <th>No. Iterations:</th>        <td>100</td>       <th>  Covariance Type:   </th> <td>nonrobust</td>\n",
       "</tr>\n",
       "</table>\n",
       "<table class=\"simpletable\">\n",
       "<tr>\n",
       "                             <td></td>                               <th>coef</th>     <th>std err</th>      <th>z</th>      <th>P>|z|</th>  <th>[0.025</th>    <th>0.975]</th>  \n",
       "</tr>\n",
       "<tr>\n",
       "  <th>const</th>                                                  <td>-3.921e+15</td> <td> 1.08e+08</td> <td>-3.62e+07</td> <td> 0.000</td> <td>-3.92e+15</td> <td>-3.92e+15</td>\n",
       "</tr>\n",
       "<tr>\n",
       "  <th>Do Not Email</th>                                           <td>-4.498e+14</td> <td> 4.66e+06</td> <td>-9.65e+07</td> <td> 0.000</td> <td> -4.5e+14</td> <td> -4.5e+14</td>\n",
       "</tr>\n",
       "<tr>\n",
       "  <th>Do Not Call</th>                                            <td>   -0.1931</td> <td> 1.87e-06</td> <td>-1.03e+05</td> <td> 0.000</td> <td>   -0.193</td> <td>   -0.193</td>\n",
       "</tr>\n",
       "<tr>\n",
       "  <th>TotalVisits</th>                                            <td> 4.758e+13</td> <td> 1.51e+06</td> <td> 3.15e+07</td> <td> 0.000</td> <td> 4.76e+13</td> <td> 4.76e+13</td>\n",
       "</tr>\n",
       "<tr>\n",
       "  <th>Total Time Spent on Website</th>                            <td> 3.464e+14</td> <td> 1.07e+06</td> <td> 3.24e+08</td> <td> 0.000</td> <td> 3.46e+14</td> <td> 3.46e+14</td>\n",
       "</tr>\n",
       "<tr>\n",
       "  <th>Page Views Per Visit</th>                                   <td>-9.053e+13</td> <td> 1.64e+06</td> <td>-5.53e+07</td> <td> 0.000</td> <td>-9.05e+13</td> <td>-9.05e+13</td>\n",
       "</tr>\n",
       "<tr>\n",
       "  <th>Search</th>                                                 <td>  1.26e+15</td> <td>  2.9e+07</td> <td> 4.34e+07</td> <td> 0.000</td> <td> 1.26e+15</td> <td> 1.26e+15</td>\n",
       "</tr>\n",
       "<tr>\n",
       "  <th>Newspaper Article</th>                                      <td>   -0.0211</td> <td> 1.48e-06</td> <td>-1.42e+04</td> <td> 0.000</td> <td>   -0.021</td> <td>   -0.021</td>\n",
       "</tr>\n",
       "<tr>\n",
       "  <th>X Education Forums</th>                                     <td>  -54.3920</td> <td>  1.9e-06</td> <td>-2.86e+07</td> <td> 0.000</td> <td>  -54.392</td> <td>  -54.392</td>\n",
       "</tr>\n",
       "<tr>\n",
       "  <th>Newspaper</th>                                              <td> -3.43e+15</td> <td> 6.76e+07</td> <td>-5.07e+07</td> <td> 0.000</td> <td>-3.43e+15</td> <td>-3.43e+15</td>\n",
       "</tr>\n",
       "<tr>\n",
       "  <th>Digital Advertisement</th>                                  <td> -3.72e+14</td> <td> 4.85e+07</td> <td>-7.66e+06</td> <td> 0.000</td> <td>-3.72e+14</td> <td>-3.72e+14</td>\n",
       "</tr>\n",
       "<tr>\n",
       "  <th>Through Recommendations</th>                                <td>-4.086e+14</td> <td>    5e+07</td> <td>-8.17e+06</td> <td> 0.000</td> <td>-4.09e+14</td> <td>-4.09e+14</td>\n",
       "</tr>\n",
       "<tr>\n",
       "  <th>A free copy of Mastering The Interview</th>                 <td>-3.183e+13</td> <td> 2.94e+06</td> <td>-1.08e+07</td> <td> 0.000</td> <td>-3.18e+13</td> <td>-3.18e+13</td>\n",
       "</tr>\n",
       "<tr>\n",
       "  <th>Country_Outside India</th>                                  <td> 7.502e+13</td> <td> 4.99e+06</td> <td>  1.5e+07</td> <td> 0.000</td> <td>  7.5e+13</td> <td>  7.5e+13</td>\n",
       "</tr>\n",
       "<tr>\n",
       "  <th>Lead Source_Direct Traffic</th>                             <td> 3.049e+15</td> <td> 7.95e+07</td> <td> 3.83e+07</td> <td> 0.000</td> <td> 3.05e+15</td> <td> 3.05e+15</td>\n",
       "</tr>\n",
       "<tr>\n",
       "  <th>Lead Source_Facebook</th>                                   <td>  1.54e+15</td> <td> 4.01e+07</td> <td> 3.84e+07</td> <td> 0.000</td> <td> 1.54e+15</td> <td> 1.54e+15</td>\n",
       "</tr>\n",
       "<tr>\n",
       "  <th>Lead Source_Google</th>                                     <td> 3.111e+15</td> <td> 7.95e+07</td> <td> 3.91e+07</td> <td> 0.000</td> <td> 3.11e+15</td> <td> 3.11e+15</td>\n",
       "</tr>\n",
       "<tr>\n",
       "  <th>Lead Source_Live Chat</th>                                  <td> 3.088e+15</td> <td> 6.31e+07</td> <td> 4.89e+07</td> <td> 0.000</td> <td> 3.09e+15</td> <td> 3.09e+15</td>\n",
       "</tr>\n",
       "<tr>\n",
       "  <th>Lead Source_NC_EDM</th>                                     <td> 7.586e+15</td> <td> 1.04e+08</td> <td> 7.28e+07</td> <td> 0.000</td> <td> 7.59e+15</td> <td> 7.59e+15</td>\n",
       "</tr>\n",
       "<tr>\n",
       "  <th>Lead Source_Olark Chat</th>                                 <td> 2.957e+15</td> <td> 7.94e+07</td> <td> 3.73e+07</td> <td> 0.000</td> <td> 2.96e+15</td> <td> 2.96e+15</td>\n",
       "</tr>\n",
       "<tr>\n",
       "  <th>Lead Source_Organic Search</th>                             <td>  3.05e+15</td> <td> 7.96e+07</td> <td> 3.83e+07</td> <td> 0.000</td> <td> 3.05e+15</td> <td> 3.05e+15</td>\n",
       "</tr>\n",
       "<tr>\n",
       "  <th>Lead Source_Pay per Click Ads</th>                          <td> 4.962e+14</td> <td> 1.04e+08</td> <td> 4.76e+06</td> <td> 0.000</td> <td> 4.96e+14</td> <td> 4.96e+14</td>\n",
       "</tr>\n",
       "<tr>\n",
       "  <th>Lead Source_Press_Release</th>                              <td>  -26.2603</td> <td> 8.39e-07</td> <td>-3.13e+07</td> <td> 0.000</td> <td>  -26.260</td> <td>  -26.260</td>\n",
       "</tr>\n",
       "<tr>\n",
       "  <th>Lead Source_Reference</th>                                  <td>-6.779e+14</td> <td> 4.15e+07</td> <td>-1.63e+07</td> <td> 0.000</td> <td>-6.78e+14</td> <td>-6.78e+14</td>\n",
       "</tr>\n",
       "<tr>\n",
       "  <th>Lead Source_Referral Sites</th>                             <td> 2.965e+15</td> <td> 7.99e+07</td> <td> 3.71e+07</td> <td> 0.000</td> <td> 2.96e+15</td> <td> 2.96e+15</td>\n",
       "</tr>\n",
       "<tr>\n",
       "  <th>Lead Source_Social Media</th>                               <td>-8.392e+14</td> <td> 1.06e+08</td> <td>-7.91e+06</td> <td> 0.000</td> <td>-8.39e+14</td> <td>-8.39e+14</td>\n",
       "</tr>\n",
       "<tr>\n",
       "  <th>Lead Source_WeLearn</th>                                    <td>   -9.9944</td> <td> 4.73e-07</td> <td>-2.11e+07</td> <td> 0.000</td> <td>   -9.994</td> <td>   -9.994</td>\n",
       "</tr>\n",
       "<tr>\n",
       "  <th>Lead Source_Welingak Website</th>                           <td> 7.954e+14</td> <td>  4.2e+07</td> <td> 1.89e+07</td> <td> 0.000</td> <td> 7.95e+14</td> <td> 7.95e+14</td>\n",
       "</tr>\n",
       "<tr>\n",
       "  <th>Lead Source_bing</th>                                       <td> 9.423e+13</td> <td> 9.28e+07</td> <td> 1.02e+06</td> <td> 0.000</td> <td> 9.42e+13</td> <td> 9.42e+13</td>\n",
       "</tr>\n",
       "<tr>\n",
       "  <th>Lead Source_blog</th>                                       <td>-1.747e+15</td> <td> 1.04e+08</td> <td>-1.67e+07</td> <td> 0.000</td> <td>-1.75e+15</td> <td>-1.75e+15</td>\n",
       "</tr>\n",
       "<tr>\n",
       "  <th>Lead Source_google</th>                                     <td>-4.357e+13</td> <td> 9.31e+07</td> <td>-4.68e+05</td> <td> 0.000</td> <td>-4.36e+13</td> <td>-4.36e+13</td>\n",
       "</tr>\n",
       "<tr>\n",
       "  <th>Lead Source_testone</th>                                    <td>-1.425e+14</td> <td> 1.04e+08</td> <td>-1.37e+06</td> <td> 0.000</td> <td>-1.43e+14</td> <td>-1.43e+14</td>\n",
       "</tr>\n",
       "<tr>\n",
       "  <th>Lead Source_welearnblog_Home</th>                           <td>-6.871e+14</td> <td> 1.04e+08</td> <td> -6.6e+06</td> <td> 0.000</td> <td>-6.87e+14</td> <td>-6.87e+14</td>\n",
       "</tr>\n",
       "<tr>\n",
       "  <th>Lead Source_youtubechannel</th>                             <td>   -7.0150</td> <td> 4.33e-07</td> <td>-1.62e+07</td> <td> 0.000</td> <td>   -7.015</td> <td>   -7.015</td>\n",
       "</tr>\n",
       "<tr>\n",
       "  <th>Lead Origin_Landing Page Submission</th>                    <td>-1.943e+14</td> <td> 4.28e+06</td> <td>-4.54e+07</td> <td> 0.000</td> <td>-1.94e+14</td> <td>-1.94e+14</td>\n",
       "</tr>\n",
       "<tr>\n",
       "  <th>Lead Origin_Lead Add Form</th>                              <td> 3.714e+15</td> <td> 6.77e+07</td> <td> 5.48e+07</td> <td> 0.000</td> <td> 3.71e+15</td> <td> 3.71e+15</td>\n",
       "</tr>\n",
       "<tr>\n",
       "  <th>Lead Origin_Lead Import</th>                                <td>  1.54e+15</td> <td> 4.01e+07</td> <td> 3.84e+07</td> <td> 0.000</td> <td> 1.54e+15</td> <td> 1.54e+15</td>\n",
       "</tr>\n",
       "<tr>\n",
       "  <th>Last Notable Activity_Email Bounced</th>                    <td> 5.079e+14</td> <td> 7.42e+07</td> <td> 6.85e+06</td> <td> 0.000</td> <td> 5.08e+14</td> <td> 5.08e+14</td>\n",
       "</tr>\n",
       "<tr>\n",
       "  <th>Last Notable Activity_Email Link Clicked</th>               <td>-6.398e+14</td> <td> 7.39e+07</td> <td>-8.66e+06</td> <td> 0.000</td> <td> -6.4e+14</td> <td> -6.4e+14</td>\n",
       "</tr>\n",
       "<tr>\n",
       "  <th>Last Notable Activity_Email Marked Spam</th>                <td> 2.109e+15</td> <td> 4.39e+07</td> <td> 4.81e+07</td> <td> 0.000</td> <td> 2.11e+15</td> <td> 2.11e+15</td>\n",
       "</tr>\n",
       "<tr>\n",
       "  <th>Last Notable Activity_Email Opened</th>                     <td>-1.287e+14</td> <td> 7.32e+07</td> <td>-1.76e+06</td> <td> 0.000</td> <td>-1.29e+14</td> <td>-1.29e+14</td>\n",
       "</tr>\n",
       "<tr>\n",
       "  <th>Last Notable Activity_Email Received</th>                   <td> 2.343e+15</td> <td>  1.2e+08</td> <td> 1.95e+07</td> <td> 0.000</td> <td> 2.34e+15</td> <td> 2.34e+15</td>\n",
       "</tr>\n",
       "<tr>\n",
       "  <th>Last Notable Activity_Form Submitted on Website</th>        <td>-3.284e+15</td> <td> 9.98e+07</td> <td>-3.29e+07</td> <td> 0.000</td> <td>-3.28e+15</td> <td>-3.28e+15</td>\n",
       "</tr>\n",
       "<tr>\n",
       "  <th>Last Notable Activity_Had a Phone Conversation</th>         <td> 3.055e+14</td> <td> 8.18e+07</td> <td> 3.73e+06</td> <td> 0.000</td> <td> 3.06e+14</td> <td> 3.06e+14</td>\n",
       "</tr>\n",
       "<tr>\n",
       "  <th>Last Notable Activity_Modified</th>                         <td>-1.872e+14</td> <td> 7.31e+07</td> <td>-2.56e+06</td> <td> 0.000</td> <td>-1.87e+14</td> <td>-1.87e+14</td>\n",
       "</tr>\n",
       "<tr>\n",
       "  <th>Last Notable Activity_Olark Chat Conversation</th>          <td>-4.841e+14</td> <td> 7.35e+07</td> <td>-6.59e+06</td> <td> 0.000</td> <td>-4.84e+14</td> <td>-4.84e+14</td>\n",
       "</tr>\n",
       "<tr>\n",
       "  <th>Last Notable Activity_Page Visited on Website</th>          <td> 9.798e+13</td> <td> 7.35e+07</td> <td> 1.33e+06</td> <td> 0.000</td> <td>  9.8e+13</td> <td>  9.8e+13</td>\n",
       "</tr>\n",
       "<tr>\n",
       "  <th>Last Notable Activity_Resubscribed to emails</th>           <td>   25.1643</td> <td> 1.81e-06</td> <td> 1.39e+07</td> <td> 0.000</td> <td>   25.164</td> <td>   25.164</td>\n",
       "</tr>\n",
       "<tr>\n",
       "  <th>Last Notable Activity_SMS Sent</th>                         <td>  1.05e+15</td> <td> 7.32e+07</td> <td> 1.43e+07</td> <td> 0.000</td> <td> 1.05e+15</td> <td> 1.05e+15</td>\n",
       "</tr>\n",
       "<tr>\n",
       "  <th>Last Notable Activity_Unreachable</th>                      <td> 4.676e+14</td> <td> 7.54e+07</td> <td>  6.2e+06</td> <td> 0.000</td> <td> 4.68e+14</td> <td> 4.68e+14</td>\n",
       "</tr>\n",
       "<tr>\n",
       "  <th>Last Notable Activity_Unsubscribed</th>                     <td> 6.916e+13</td> <td> 7.68e+07</td> <td>    9e+05</td> <td> 0.000</td> <td> 6.92e+13</td> <td> 6.92e+13</td>\n",
       "</tr>\n",
       "<tr>\n",
       "  <th>Last Notable Activity_View in browser link Clicked</th>     <td> 1.345e+15</td> <td>  1.2e+08</td> <td> 1.12e+07</td> <td> 0.000</td> <td> 1.35e+15</td> <td> 1.35e+15</td>\n",
       "</tr>\n",
       "<tr>\n",
       "  <th>Lead Quality_High in Relevance</th>                         <td>-1.234e+14</td> <td> 5.63e+06</td> <td>-2.19e+07</td> <td> 0.000</td> <td>-1.23e+14</td> <td>-1.23e+14</td>\n",
       "</tr>\n",
       "<tr>\n",
       "  <th>Lead Quality_Low in Relevance</th>                          <td>-7.294e+12</td> <td> 5.45e+06</td> <td>-1.34e+06</td> <td> 0.000</td> <td>-7.29e+12</td> <td>-7.29e+12</td>\n",
       "</tr>\n",
       "<tr>\n",
       "  <th>Lead Quality_Might be</th>                                  <td>-3.212e+14</td> <td> 4.06e+06</td> <td>-7.92e+07</td> <td> 0.000</td> <td>-3.21e+14</td> <td>-3.21e+14</td>\n",
       "</tr>\n",
       "<tr>\n",
       "  <th>Lead Quality_Not Sure</th>                                  <td>  2.16e+13</td> <td> 3.68e+06</td> <td> 5.86e+06</td> <td> 0.000</td> <td> 2.16e+13</td> <td> 2.16e+13</td>\n",
       "</tr>\n",
       "<tr>\n",
       "  <th>Lead Quality_Worst</th>                                     <td>-4.215e+14</td> <td> 5.57e+06</td> <td>-7.56e+07</td> <td> 0.000</td> <td>-4.21e+14</td> <td>-4.21e+14</td>\n",
       "</tr>\n",
       "<tr>\n",
       "  <th>Asymmetrique Profile Index_01.High</th>                     <td>-1.618e+14</td> <td> 3.86e+06</td> <td> -4.2e+07</td> <td> 0.000</td> <td>-1.62e+14</td> <td>-1.62e+14</td>\n",
       "</tr>\n",
       "<tr>\n",
       "  <th>Asymmetrique Profile Index_02.Medium</th>                   <td>-3.243e+12</td> <td> 3.34e+06</td> <td>-9.72e+05</td> <td> 0.000</td> <td>-3.24e+12</td> <td>-3.24e+12</td>\n",
       "</tr>\n",
       "<tr>\n",
       "  <th>Asymmetrique Profile Index_03.Low</th>                      <td>-2.144e+14</td> <td> 1.44e+07</td> <td>-1.49e+07</td> <td> 0.000</td> <td>-2.14e+14</td> <td>-2.14e+14</td>\n",
       "</tr>\n",
       "<tr>\n",
       "  <th>Asymmetrique Activity Index_01.High</th>                    <td> 1.718e+14</td> <td> 4.13e+06</td> <td> 4.16e+07</td> <td> 0.000</td> <td> 1.72e+14</td> <td> 1.72e+14</td>\n",
       "</tr>\n",
       "<tr>\n",
       "  <th>Asymmetrique Activity Index_02.Medium</th>                  <td>  1.63e+14</td> <td> 3.34e+06</td> <td> 4.87e+07</td> <td> 0.000</td> <td> 1.63e+14</td> <td> 1.63e+14</td>\n",
       "</tr>\n",
       "<tr>\n",
       "  <th>Asymmetrique Activity Index_03.Low</th>                     <td>-7.142e+14</td> <td> 5.07e+06</td> <td>-1.41e+08</td> <td> 0.000</td> <td>-7.14e+14</td> <td>-7.14e+14</td>\n",
       "</tr>\n",
       "<tr>\n",
       "  <th>Tags_Already a student</th>                                 <td> 1.636e+14</td> <td> 6.49e+06</td> <td> 2.52e+07</td> <td> 0.000</td> <td> 1.64e+14</td> <td> 1.64e+14</td>\n",
       "</tr>\n",
       "<tr>\n",
       "  <th>Tags_Busy</th>                                              <td> 1.807e+15</td> <td> 7.61e+06</td> <td> 2.37e+08</td> <td> 0.000</td> <td> 1.81e+15</td> <td> 1.81e+15</td>\n",
       "</tr>\n",
       "<tr>\n",
       "  <th>Tags_Closed by Horizzon</th>                                <td> 1.793e+15</td> <td> 7.01e+06</td> <td> 2.56e+08</td> <td> 0.000</td> <td> 1.79e+15</td> <td> 1.79e+15</td>\n",
       "</tr>\n",
       "<tr>\n",
       "  <th>Tags_Diploma holder (Not Eligible)</th>                     <td>-2.917e+15</td> <td> 1.11e+07</td> <td>-2.63e+08</td> <td> 0.000</td> <td>-2.92e+15</td> <td>-2.92e+15</td>\n",
       "</tr>\n",
       "<tr>\n",
       "  <th>Tags_Graduation in progress</th>                            <td> 7.954e+14</td> <td> 9.08e+06</td> <td> 8.76e+07</td> <td> 0.000</td> <td> 7.95e+14</td> <td> 7.95e+14</td>\n",
       "</tr>\n",
       "<tr>\n",
       "  <th>Tags_In confusion whether part time or DLP</th>             <td> 9.487e+14</td> <td> 3.04e+07</td> <td> 3.12e+07</td> <td> 0.000</td> <td> 9.49e+14</td> <td> 9.49e+14</td>\n",
       "</tr>\n",
       "<tr>\n",
       "  <th>Tags_Interested  in full time MBA</th>                      <td> 4.968e+14</td> <td> 8.87e+06</td> <td>  5.6e+07</td> <td> 0.000</td> <td> 4.97e+14</td> <td> 4.97e+14</td>\n",
       "</tr>\n",
       "<tr>\n",
       "  <th>Tags_Interested in Next batch</th>                          <td> 3.969e+15</td> <td> 3.92e+07</td> <td> 1.01e+08</td> <td> 0.000</td> <td> 3.97e+15</td> <td> 3.97e+15</td>\n",
       "</tr>\n",
       "<tr>\n",
       "  <th>Tags_Interested in other courses</th>                       <td> 3.011e+14</td> <td> 5.13e+06</td> <td> 5.87e+07</td> <td> 0.000</td> <td> 3.01e+14</td> <td> 3.01e+14</td>\n",
       "</tr>\n",
       "<tr>\n",
       "  <th>Tags_Lateral student</th>                                   <td>  5.34e+15</td> <td> 4.79e+07</td> <td> 1.11e+08</td> <td> 0.000</td> <td> 5.34e+15</td> <td> 5.34e+15</td>\n",
       "</tr>\n",
       "<tr>\n",
       "  <th>Tags_Lost to EINS</th>                                      <td> 2.171e+15</td> <td> 7.42e+06</td> <td> 2.93e+08</td> <td> 0.000</td> <td> 2.17e+15</td> <td> 2.17e+15</td>\n",
       "</tr>\n",
       "<tr>\n",
       "  <th>Tags_Lost to Others</th>                                    <td>-2.958e+15</td> <td> 3.08e+07</td> <td>-9.62e+07</td> <td> 0.000</td> <td>-2.96e+15</td> <td>-2.96e+15</td>\n",
       "</tr>\n",
       "<tr>\n",
       "  <th>Tags_Not doing further education</th>                       <td> 2.391e+14</td> <td> 8.38e+06</td> <td> 2.85e+07</td> <td> 0.000</td> <td> 2.39e+14</td> <td> 2.39e+14</td>\n",
       "</tr>\n",
       "<tr>\n",
       "  <th>Tags_Recognition issue (DEC approval)</th>                  <td>-3.804e+15</td> <td> 6.89e+07</td> <td>-5.52e+07</td> <td> 0.000</td> <td> -3.8e+15</td> <td> -3.8e+15</td>\n",
       "</tr>\n",
       "<tr>\n",
       "  <th>Tags_Ringing</th>                                           <td>-2.415e+14</td> <td>  4.4e+06</td> <td>-5.49e+07</td> <td> 0.000</td> <td>-2.41e+14</td> <td>-2.41e+14</td>\n",
       "</tr>\n",
       "<tr>\n",
       "  <th>Tags_Shall take in the next coming month</th>               <td> 1.556e+15</td> <td> 6.78e+07</td> <td>  2.3e+07</td> <td> 0.000</td> <td> 1.56e+15</td> <td> 1.56e+15</td>\n",
       "</tr>\n",
       "<tr>\n",
       "  <th>Tags_Still Thinking</th>                                    <td>-5.856e+14</td> <td> 3.42e+07</td> <td>-1.71e+07</td> <td> 0.000</td> <td>-5.86e+14</td> <td>-5.86e+14</td>\n",
       "</tr>\n",
       "<tr>\n",
       "  <th>Tags_University not recognized</th>                         <td>-7.642e+14</td> <td> 4.79e+07</td> <td>-1.59e+07</td> <td> 0.000</td> <td>-7.64e+14</td> <td>-7.64e+14</td>\n",
       "</tr>\n",
       "<tr>\n",
       "  <th>Tags_Want to take admission but has financial problems</th> <td>  5.18e+14</td> <td> 4.15e+07</td> <td> 1.25e+07</td> <td> 0.000</td> <td> 5.18e+14</td> <td> 5.18e+14</td>\n",
       "</tr>\n",
       "<tr>\n",
       "  <th>Tags_Will revert after reading the email</th>               <td> 1.247e+15</td> <td> 5.07e+06</td> <td> 2.46e+08</td> <td> 0.000</td> <td> 1.25e+15</td> <td> 1.25e+15</td>\n",
       "</tr>\n",
       "<tr>\n",
       "  <th>Tags_in touch with EINS</th>                                <td> 1.638e+15</td> <td> 2.42e+07</td> <td> 6.77e+07</td> <td> 0.000</td> <td> 1.64e+15</td> <td> 1.64e+15</td>\n",
       "</tr>\n",
       "<tr>\n",
       "  <th>Tags_invalid number</th>                                    <td>-3.476e+15</td> <td> 9.98e+06</td> <td>-3.48e+08</td> <td> 0.000</td> <td>-3.48e+15</td> <td>-3.48e+15</td>\n",
       "</tr>\n",
       "<tr>\n",
       "  <th>Tags_number not provided</th>                               <td>-2.581e+15</td> <td> 1.66e+07</td> <td>-1.56e+08</td> <td> 0.000</td> <td>-2.58e+15</td> <td>-2.58e+15</td>\n",
       "</tr>\n",
       "<tr>\n",
       "  <th>Tags_opp hangup</th>                                        <td> -2.81e+14</td> <td> 1.62e+07</td> <td>-1.74e+07</td> <td> 0.000</td> <td>-2.81e+14</td> <td>-2.81e+14</td>\n",
       "</tr>\n",
       "<tr>\n",
       "  <th>Tags_switched off</th>                                      <td>-5.633e+14</td> <td> 6.61e+06</td> <td>-8.52e+07</td> <td> 0.000</td> <td>-5.63e+14</td> <td>-5.63e+14</td>\n",
       "</tr>\n",
       "<tr>\n",
       "  <th>Tags_wrong number given</th>                                <td> -1.92e+15</td> <td> 1.27e+07</td> <td>-1.51e+08</td> <td> 0.000</td> <td>-1.92e+15</td> <td>-1.92e+15</td>\n",
       "</tr>\n",
       "<tr>\n",
       "  <th>Lead Profile_Dual Specialization Student</th>               <td> 3.627e+15</td> <td> 2.16e+07</td> <td> 1.68e+08</td> <td> 0.000</td> <td> 3.63e+15</td> <td> 3.63e+15</td>\n",
       "</tr>\n",
       "<tr>\n",
       "  <th>Lead Profile_Lateral Student</th>                           <td> 1.449e+15</td> <td> 1.79e+07</td> <td>  8.1e+07</td> <td> 0.000</td> <td> 1.45e+15</td> <td> 1.45e+15</td>\n",
       "</tr>\n",
       "<tr>\n",
       "  <th>Lead Profile_Other Leads</th>                               <td> 4.361e+14</td> <td>  4.7e+06</td> <td> 9.27e+07</td> <td> 0.000</td> <td> 4.36e+14</td> <td> 4.36e+14</td>\n",
       "</tr>\n",
       "<tr>\n",
       "  <th>Lead Profile_Potential Lead</th>                            <td> 2.088e+14</td> <td> 3.28e+06</td> <td> 6.37e+07</td> <td> 0.000</td> <td> 2.09e+14</td> <td> 2.09e+14</td>\n",
       "</tr>\n",
       "<tr>\n",
       "  <th>Lead Profile_Student of SomeSchool</th>                     <td>-2.412e+14</td> <td> 8.03e+06</td> <td>   -3e+07</td> <td> 0.000</td> <td>-2.41e+14</td> <td>-2.41e+14</td>\n",
       "</tr>\n",
       "<tr>\n",
       "  <th>What is your current occupation_Businessman</th>            <td>-5.385e+14</td> <td> 4.82e+07</td> <td>-1.12e+07</td> <td> 0.000</td> <td>-5.39e+14</td> <td>-5.39e+14</td>\n",
       "</tr>\n",
       "<tr>\n",
       "  <th>What is your current occupation_Housewife</th>              <td> 3.013e+15</td> <td> 2.45e+07</td> <td> 1.23e+08</td> <td> 0.000</td> <td> 3.01e+15</td> <td> 3.01e+15</td>\n",
       "</tr>\n",
       "<tr>\n",
       "  <th>What is your current occupation_Other</th>                  <td>-9.161e+14</td> <td> 1.95e+07</td> <td> -4.7e+07</td> <td> 0.000</td> <td>-9.16e+14</td> <td>-9.16e+14</td>\n",
       "</tr>\n",
       "<tr>\n",
       "  <th>What is your current occupation_Student</th>                <td>-6.163e+14</td> <td> 7.46e+06</td> <td>-8.26e+07</td> <td> 0.000</td> <td>-6.16e+14</td> <td>-6.16e+14</td>\n",
       "</tr>\n",
       "<tr>\n",
       "  <th>What is your current occupation_Unemployed</th>             <td> -7.34e+14</td> <td> 4.32e+06</td> <td> -1.7e+08</td> <td> 0.000</td> <td>-7.34e+14</td> <td>-7.34e+14</td>\n",
       "</tr>\n",
       "<tr>\n",
       "  <th>What is your current occupation_Working Professional</th>   <td>-5.917e+14</td> <td> 5.71e+06</td> <td>-1.04e+08</td> <td> 0.000</td> <td>-5.92e+14</td> <td>-5.92e+14</td>\n",
       "</tr>\n",
       "<tr>\n",
       "  <th>Specialization_Banking, Investment And Insurance</th>       <td> 3.629e+14</td> <td> 6.78e+06</td> <td> 5.36e+07</td> <td> 0.000</td> <td> 3.63e+14</td> <td> 3.63e+14</td>\n",
       "</tr>\n",
       "<tr>\n",
       "  <th>Specialization_Business Administration</th>                 <td> 4.194e+14</td> <td>  6.5e+06</td> <td> 6.46e+07</td> <td> 0.000</td> <td> 4.19e+14</td> <td> 4.19e+14</td>\n",
       "</tr>\n",
       "<tr>\n",
       "  <th>Specialization_E-Business</th>                              <td> 6.707e+14</td> <td> 1.29e+07</td> <td> 5.19e+07</td> <td> 0.000</td> <td> 6.71e+14</td> <td> 6.71e+14</td>\n",
       "</tr>\n",
       "<tr>\n",
       "  <th>Specialization_E-COMMERCE</th>                              <td> 6.835e+13</td> <td> 9.61e+06</td> <td> 7.11e+06</td> <td> 0.000</td> <td> 6.83e+13</td> <td> 6.83e+13</td>\n",
       "</tr>\n",
       "<tr>\n",
       "  <th>Specialization_Finance Management</th>                      <td> 4.043e+14</td> <td> 5.75e+06</td> <td> 7.03e+07</td> <td> 0.000</td> <td> 4.04e+14</td> <td> 4.04e+14</td>\n",
       "</tr>\n",
       "<tr>\n",
       "  <th>Specialization_Healthcare Management</th>                   <td> 3.589e+14</td> <td> 8.91e+06</td> <td> 4.03e+07</td> <td> 0.000</td> <td> 3.59e+14</td> <td> 3.59e+14</td>\n",
       "</tr>\n",
       "<tr>\n",
       "  <th>Specialization_Hospitality Management</th>                  <td> 2.827e+14</td> <td> 9.42e+06</td> <td>    3e+07</td> <td> 0.000</td> <td> 2.83e+14</td> <td> 2.83e+14</td>\n",
       "</tr>\n",
       "<tr>\n",
       "  <th>Specialization_Human Resource Management</th>               <td> 2.967e+14</td> <td> 5.74e+06</td> <td> 5.17e+07</td> <td> 0.000</td> <td> 2.97e+14</td> <td> 2.97e+14</td>\n",
       "</tr>\n",
       "<tr>\n",
       "  <th>Specialization_IT Projects Management</th>                  <td> 3.322e+14</td> <td> 6.98e+06</td> <td> 4.76e+07</td> <td> 0.000</td> <td> 3.32e+14</td> <td> 3.32e+14</td>\n",
       "</tr>\n",
       "<tr>\n",
       "  <th>Specialization_International Business</th>                  <td> 4.701e+14</td> <td> 8.12e+06</td> <td> 5.79e+07</td> <td> 0.000</td> <td>  4.7e+14</td> <td>  4.7e+14</td>\n",
       "</tr>\n",
       "<tr>\n",
       "  <th>Specialization_Marketing Management</th>                    <td> 3.906e+14</td> <td> 5.67e+06</td> <td> 6.88e+07</td> <td> 0.000</td> <td> 3.91e+14</td> <td> 3.91e+14</td>\n",
       "</tr>\n",
       "<tr>\n",
       "  <th>Specialization_Media and Advertising</th>                   <td> 2.202e+14</td> <td> 7.95e+06</td> <td> 2.77e+07</td> <td> 0.000</td> <td>  2.2e+14</td> <td>  2.2e+14</td>\n",
       "</tr>\n",
       "<tr>\n",
       "  <th>Specialization_Operations Management</th>                   <td> 4.054e+14</td> <td> 6.22e+06</td> <td> 6.52e+07</td> <td> 0.000</td> <td> 4.05e+14</td> <td> 4.05e+14</td>\n",
       "</tr>\n",
       "<tr>\n",
       "  <th>Specialization_Retail Management</th>                       <td> 4.347e+14</td> <td> 1.02e+07</td> <td> 4.28e+07</td> <td> 0.000</td> <td> 4.35e+14</td> <td> 4.35e+14</td>\n",
       "</tr>\n",
       "<tr>\n",
       "  <th>Specialization_Rural and Agribusiness</th>                  <td> 2.512e+14</td> <td> 1.12e+07</td> <td> 2.24e+07</td> <td> 0.000</td> <td> 2.51e+14</td> <td> 2.51e+14</td>\n",
       "</tr>\n",
       "<tr>\n",
       "  <th>Specialization_Select</th>                                  <td> 3.424e+14</td> <td> 4.18e+06</td> <td> 8.19e+07</td> <td> 0.000</td> <td> 3.42e+14</td> <td> 3.42e+14</td>\n",
       "</tr>\n",
       "<tr>\n",
       "  <th>Specialization_Services Excellence</th>                     <td> 3.827e+14</td> <td> 1.66e+07</td> <td>  2.3e+07</td> <td> 0.000</td> <td> 3.83e+14</td> <td> 3.83e+14</td>\n",
       "</tr>\n",
       "<tr>\n",
       "  <th>Specialization_Supply Chain Management</th>                 <td> 2.338e+14</td> <td> 6.74e+06</td> <td> 3.47e+07</td> <td> 0.000</td> <td> 2.34e+14</td> <td> 2.34e+14</td>\n",
       "</tr>\n",
       "<tr>\n",
       "  <th>Specialization_Travel and Tourism</th>                      <td> 1.072e+14</td> <td>  8.3e+06</td> <td> 1.29e+07</td> <td> 0.000</td> <td> 1.07e+14</td> <td> 1.07e+14</td>\n",
       "</tr>\n",
       "<tr>\n",
       "  <th>City_Mumbai</th>                                            <td> 2.339e+13</td> <td> 4.61e+06</td> <td> 5.07e+06</td> <td> 0.000</td> <td> 2.34e+13</td> <td> 2.34e+13</td>\n",
       "</tr>\n",
       "<tr>\n",
       "  <th>City_Other Cities</th>                                      <td> 3.364e+13</td> <td>  5.4e+06</td> <td> 6.23e+06</td> <td> 0.000</td> <td> 3.36e+13</td> <td> 3.36e+13</td>\n",
       "</tr>\n",
       "<tr>\n",
       "  <th>City_Other Cities of Maharashtra</th>                       <td> 1.108e+14</td> <td> 5.87e+06</td> <td> 1.89e+07</td> <td> 0.000</td> <td> 1.11e+14</td> <td> 1.11e+14</td>\n",
       "</tr>\n",
       "<tr>\n",
       "  <th>City_Other Metro Cities</th>                                <td>-9.708e+13</td> <td> 6.29e+06</td> <td>-1.54e+07</td> <td> 0.000</td> <td>-9.71e+13</td> <td>-9.71e+13</td>\n",
       "</tr>\n",
       "<tr>\n",
       "  <th>City_Thane & Outskirts</th>                                 <td>-2.274e+13</td> <td> 5.26e+06</td> <td>-4.32e+06</td> <td> 0.000</td> <td>-2.27e+13</td> <td>-2.27e+13</td>\n",
       "</tr>\n",
       "<tr>\n",
       "  <th>City_Tier II Cities</th>                                    <td> 4.399e+14</td> <td>  1.1e+07</td> <td> 4.01e+07</td> <td> 0.000</td> <td>  4.4e+14</td> <td>  4.4e+14</td>\n",
       "</tr>\n",
       "<tr>\n",
       "  <th>Last Activity_Approached upfront</th>                       <td> 4.199e+15</td> <td> 2.92e+07</td> <td> 1.44e+08</td> <td> 0.000</td> <td>  4.2e+15</td> <td>  4.2e+15</td>\n",
       "</tr>\n",
       "<tr>\n",
       "  <th>Last Activity_Converted to Lead</th>                        <td> 1.685e+14</td> <td> 1.06e+07</td> <td> 1.59e+07</td> <td> 0.000</td> <td> 1.69e+14</td> <td> 1.69e+14</td>\n",
       "</tr>\n",
       "<tr>\n",
       "  <th>Last Activity_Email Bounced</th>                            <td> 2.946e+14</td> <td> 1.17e+07</td> <td> 2.51e+07</td> <td> 0.000</td> <td> 2.95e+14</td> <td> 2.95e+14</td>\n",
       "</tr>\n",
       "<tr>\n",
       "  <th>Last Activity_Email Link Clicked</th>                       <td> 9.405e+14</td> <td> 1.25e+07</td> <td> 7.54e+07</td> <td> 0.000</td> <td>  9.4e+14</td> <td>  9.4e+14</td>\n",
       "</tr>\n",
       "<tr>\n",
       "  <th>Last Activity_Email Marked Spam</th>                        <td> 2.109e+15</td> <td> 4.39e+07</td> <td> 4.81e+07</td> <td> 0.000</td> <td> 2.11e+15</td> <td> 2.11e+15</td>\n",
       "</tr>\n",
       "<tr>\n",
       "  <th>Last Activity_Email Opened</th>                             <td> 3.875e+14</td> <td> 9.92e+06</td> <td>  3.9e+07</td> <td> 0.000</td> <td> 3.88e+14</td> <td> 3.88e+14</td>\n",
       "</tr>\n",
       "<tr>\n",
       "  <th>Last Activity_Email Received</th>                           <td> 3.187e+15</td> <td>  6.8e+07</td> <td> 4.69e+07</td> <td> 0.000</td> <td> 3.19e+15</td> <td> 3.19e+15</td>\n",
       "</tr>\n",
       "<tr>\n",
       "  <th>Last Activity_Form Submitted on Website</th>                <td> 3.512e+14</td> <td> 1.21e+07</td> <td>  2.9e+07</td> <td> 0.000</td> <td> 3.51e+14</td> <td> 3.51e+14</td>\n",
       "</tr>\n",
       "<tr>\n",
       "  <th>Last Activity_Had a Phone Conversation</th>                 <td>-4.358e+14</td> <td> 2.31e+07</td> <td>-1.88e+07</td> <td> 0.000</td> <td>-4.36e+14</td> <td>-4.36e+14</td>\n",
       "</tr>\n",
       "<tr>\n",
       "  <th>Last Activity_Olark Chat Conversation</th>                  <td> 4.616e+14</td> <td> 1.01e+07</td> <td> 4.58e+07</td> <td> 0.000</td> <td> 4.62e+14</td> <td> 4.62e+14</td>\n",
       "</tr>\n",
       "<tr>\n",
       "  <th>Last Activity_Page Visited on Website</th>                  <td>  2.24e+14</td> <td> 1.06e+07</td> <td> 2.12e+07</td> <td> 0.000</td> <td> 2.24e+14</td> <td> 2.24e+14</td>\n",
       "</tr>\n",
       "<tr>\n",
       "  <th>Last Activity_Resubscribed to emails</th>                   <td>         0</td> <td>        0</td> <td>      nan</td> <td>   nan</td> <td>        0</td> <td>        0</td>\n",
       "</tr>\n",
       "<tr>\n",
       "  <th>Last Activity_SMS Sent</th>                                 <td>  5.67e+14</td> <td>    1e+07</td> <td> 5.66e+07</td> <td> 0.000</td> <td> 5.67e+14</td> <td> 5.67e+14</td>\n",
       "</tr>\n",
       "<tr>\n",
       "  <th>Last Activity_Unreachable</th>                              <td> 4.219e+14</td> <td> 1.43e+07</td> <td> 2.95e+07</td> <td> 0.000</td> <td> 4.22e+14</td> <td> 4.22e+14</td>\n",
       "</tr>\n",
       "<tr>\n",
       "  <th>Last Activity_Unsubscribed</th>                             <td>  7.09e+14</td> <td> 2.28e+07</td> <td> 3.11e+07</td> <td> 0.000</td> <td> 7.09e+14</td> <td> 7.09e+14</td>\n",
       "</tr>\n",
       "<tr>\n",
       "  <th>Last Activity_View in browser link Clicked</th>             <td>-3.726e+15</td> <td> 6.81e+07</td> <td>-5.47e+07</td> <td> 0.000</td> <td>-3.73e+15</td> <td>-3.73e+15</td>\n",
       "</tr>\n",
       "<tr>\n",
       "  <th>Last Activity_Visited Booth in Tradeshow</th>               <td>-7.427e+14</td> <td>  6.9e+07</td> <td>-1.08e+07</td> <td> 0.000</td> <td>-7.43e+14</td> <td>-7.43e+14</td>\n",
       "</tr>\n",
       "</table>"
      ],
      "text/plain": [
       "<class 'statsmodels.iolib.summary.Summary'>\n",
       "\"\"\"\n",
       "                 Generalized Linear Model Regression Results                  \n",
       "==============================================================================\n",
       "Dep. Variable:              Converted   No. Observations:                 6002\n",
       "Model:                            GLM   Df Residuals:                     5871\n",
       "Model Family:                Binomial   Df Model:                          130\n",
       "Link Function:                  logit   Scale:                          1.0000\n",
       "Method:                          IRLS   Log-Likelihood:                    nan\n",
       "Date:                Mon, 26 Aug 2019   Deviance:                          nan\n",
       "Time:                        21:46:37   Pearson chi2:                 2.91e+18\n",
       "No. Iterations:                   100   Covariance Type:             nonrobust\n",
       "==========================================================================================================================\n",
       "                                                             coef    std err          z      P>|z|      [0.025      0.975]\n",
       "--------------------------------------------------------------------------------------------------------------------------\n",
       "const                                                  -3.921e+15   1.08e+08  -3.62e+07      0.000   -3.92e+15   -3.92e+15\n",
       "Do Not Email                                           -4.498e+14   4.66e+06  -9.65e+07      0.000    -4.5e+14    -4.5e+14\n",
       "Do Not Call                                               -0.1931   1.87e-06  -1.03e+05      0.000      -0.193      -0.193\n",
       "TotalVisits                                             4.758e+13   1.51e+06   3.15e+07      0.000    4.76e+13    4.76e+13\n",
       "Total Time Spent on Website                             3.464e+14   1.07e+06   3.24e+08      0.000    3.46e+14    3.46e+14\n",
       "Page Views Per Visit                                   -9.053e+13   1.64e+06  -5.53e+07      0.000   -9.05e+13   -9.05e+13\n",
       "Search                                                   1.26e+15    2.9e+07   4.34e+07      0.000    1.26e+15    1.26e+15\n",
       "Newspaper Article                                         -0.0211   1.48e-06  -1.42e+04      0.000      -0.021      -0.021\n",
       "X Education Forums                                       -54.3920    1.9e-06  -2.86e+07      0.000     -54.392     -54.392\n",
       "Newspaper                                               -3.43e+15   6.76e+07  -5.07e+07      0.000   -3.43e+15   -3.43e+15\n",
       "Digital Advertisement                                   -3.72e+14   4.85e+07  -7.66e+06      0.000   -3.72e+14   -3.72e+14\n",
       "Through Recommendations                                -4.086e+14      5e+07  -8.17e+06      0.000   -4.09e+14   -4.09e+14\n",
       "A free copy of Mastering The Interview                 -3.183e+13   2.94e+06  -1.08e+07      0.000   -3.18e+13   -3.18e+13\n",
       "Country_Outside India                                   7.502e+13   4.99e+06    1.5e+07      0.000     7.5e+13     7.5e+13\n",
       "Lead Source_Direct Traffic                              3.049e+15   7.95e+07   3.83e+07      0.000    3.05e+15    3.05e+15\n",
       "Lead Source_Facebook                                     1.54e+15   4.01e+07   3.84e+07      0.000    1.54e+15    1.54e+15\n",
       "Lead Source_Google                                      3.111e+15   7.95e+07   3.91e+07      0.000    3.11e+15    3.11e+15\n",
       "Lead Source_Live Chat                                   3.088e+15   6.31e+07   4.89e+07      0.000    3.09e+15    3.09e+15\n",
       "Lead Source_NC_EDM                                      7.586e+15   1.04e+08   7.28e+07      0.000    7.59e+15    7.59e+15\n",
       "Lead Source_Olark Chat                                  2.957e+15   7.94e+07   3.73e+07      0.000    2.96e+15    2.96e+15\n",
       "Lead Source_Organic Search                               3.05e+15   7.96e+07   3.83e+07      0.000    3.05e+15    3.05e+15\n",
       "Lead Source_Pay per Click Ads                           4.962e+14   1.04e+08   4.76e+06      0.000    4.96e+14    4.96e+14\n",
       "Lead Source_Press_Release                                -26.2603   8.39e-07  -3.13e+07      0.000     -26.260     -26.260\n",
       "Lead Source_Reference                                  -6.779e+14   4.15e+07  -1.63e+07      0.000   -6.78e+14   -6.78e+14\n",
       "Lead Source_Referral Sites                              2.965e+15   7.99e+07   3.71e+07      0.000    2.96e+15    2.96e+15\n",
       "Lead Source_Social Media                               -8.392e+14   1.06e+08  -7.91e+06      0.000   -8.39e+14   -8.39e+14\n",
       "Lead Source_WeLearn                                       -9.9944   4.73e-07  -2.11e+07      0.000      -9.994      -9.994\n",
       "Lead Source_Welingak Website                            7.954e+14    4.2e+07   1.89e+07      0.000    7.95e+14    7.95e+14\n",
       "Lead Source_bing                                        9.423e+13   9.28e+07   1.02e+06      0.000    9.42e+13    9.42e+13\n",
       "Lead Source_blog                                       -1.747e+15   1.04e+08  -1.67e+07      0.000   -1.75e+15   -1.75e+15\n",
       "Lead Source_google                                     -4.357e+13   9.31e+07  -4.68e+05      0.000   -4.36e+13   -4.36e+13\n",
       "Lead Source_testone                                    -1.425e+14   1.04e+08  -1.37e+06      0.000   -1.43e+14   -1.43e+14\n",
       "Lead Source_welearnblog_Home                           -6.871e+14   1.04e+08   -6.6e+06      0.000   -6.87e+14   -6.87e+14\n",
       "Lead Source_youtubechannel                                -7.0150   4.33e-07  -1.62e+07      0.000      -7.015      -7.015\n",
       "Lead Origin_Landing Page Submission                    -1.943e+14   4.28e+06  -4.54e+07      0.000   -1.94e+14   -1.94e+14\n",
       "Lead Origin_Lead Add Form                               3.714e+15   6.77e+07   5.48e+07      0.000    3.71e+15    3.71e+15\n",
       "Lead Origin_Lead Import                                  1.54e+15   4.01e+07   3.84e+07      0.000    1.54e+15    1.54e+15\n",
       "Last Notable Activity_Email Bounced                     5.079e+14   7.42e+07   6.85e+06      0.000    5.08e+14    5.08e+14\n",
       "Last Notable Activity_Email Link Clicked               -6.398e+14   7.39e+07  -8.66e+06      0.000    -6.4e+14    -6.4e+14\n",
       "Last Notable Activity_Email Marked Spam                 2.109e+15   4.39e+07   4.81e+07      0.000    2.11e+15    2.11e+15\n",
       "Last Notable Activity_Email Opened                     -1.287e+14   7.32e+07  -1.76e+06      0.000   -1.29e+14   -1.29e+14\n",
       "Last Notable Activity_Email Received                    2.343e+15    1.2e+08   1.95e+07      0.000    2.34e+15    2.34e+15\n",
       "Last Notable Activity_Form Submitted on Website        -3.284e+15   9.98e+07  -3.29e+07      0.000   -3.28e+15   -3.28e+15\n",
       "Last Notable Activity_Had a Phone Conversation          3.055e+14   8.18e+07   3.73e+06      0.000    3.06e+14    3.06e+14\n",
       "Last Notable Activity_Modified                         -1.872e+14   7.31e+07  -2.56e+06      0.000   -1.87e+14   -1.87e+14\n",
       "Last Notable Activity_Olark Chat Conversation          -4.841e+14   7.35e+07  -6.59e+06      0.000   -4.84e+14   -4.84e+14\n",
       "Last Notable Activity_Page Visited on Website           9.798e+13   7.35e+07   1.33e+06      0.000     9.8e+13     9.8e+13\n",
       "Last Notable Activity_Resubscribed to emails              25.1643   1.81e-06   1.39e+07      0.000      25.164      25.164\n",
       "Last Notable Activity_SMS Sent                           1.05e+15   7.32e+07   1.43e+07      0.000    1.05e+15    1.05e+15\n",
       "Last Notable Activity_Unreachable                       4.676e+14   7.54e+07    6.2e+06      0.000    4.68e+14    4.68e+14\n",
       "Last Notable Activity_Unsubscribed                      6.916e+13   7.68e+07      9e+05      0.000    6.92e+13    6.92e+13\n",
       "Last Notable Activity_View in browser link Clicked      1.345e+15    1.2e+08   1.12e+07      0.000    1.35e+15    1.35e+15\n",
       "Lead Quality_High in Relevance                         -1.234e+14   5.63e+06  -2.19e+07      0.000   -1.23e+14   -1.23e+14\n",
       "Lead Quality_Low in Relevance                          -7.294e+12   5.45e+06  -1.34e+06      0.000   -7.29e+12   -7.29e+12\n",
       "Lead Quality_Might be                                  -3.212e+14   4.06e+06  -7.92e+07      0.000   -3.21e+14   -3.21e+14\n",
       "Lead Quality_Not Sure                                    2.16e+13   3.68e+06   5.86e+06      0.000    2.16e+13    2.16e+13\n",
       "Lead Quality_Worst                                     -4.215e+14   5.57e+06  -7.56e+07      0.000   -4.21e+14   -4.21e+14\n",
       "Asymmetrique Profile Index_01.High                     -1.618e+14   3.86e+06   -4.2e+07      0.000   -1.62e+14   -1.62e+14\n",
       "Asymmetrique Profile Index_02.Medium                   -3.243e+12   3.34e+06  -9.72e+05      0.000   -3.24e+12   -3.24e+12\n",
       "Asymmetrique Profile Index_03.Low                      -2.144e+14   1.44e+07  -1.49e+07      0.000   -2.14e+14   -2.14e+14\n",
       "Asymmetrique Activity Index_01.High                     1.718e+14   4.13e+06   4.16e+07      0.000    1.72e+14    1.72e+14\n",
       "Asymmetrique Activity Index_02.Medium                    1.63e+14   3.34e+06   4.87e+07      0.000    1.63e+14    1.63e+14\n",
       "Asymmetrique Activity Index_03.Low                     -7.142e+14   5.07e+06  -1.41e+08      0.000   -7.14e+14   -7.14e+14\n",
       "Tags_Already a student                                  1.636e+14   6.49e+06   2.52e+07      0.000    1.64e+14    1.64e+14\n",
       "Tags_Busy                                               1.807e+15   7.61e+06   2.37e+08      0.000    1.81e+15    1.81e+15\n",
       "Tags_Closed by Horizzon                                 1.793e+15   7.01e+06   2.56e+08      0.000    1.79e+15    1.79e+15\n",
       "Tags_Diploma holder (Not Eligible)                     -2.917e+15   1.11e+07  -2.63e+08      0.000   -2.92e+15   -2.92e+15\n",
       "Tags_Graduation in progress                             7.954e+14   9.08e+06   8.76e+07      0.000    7.95e+14    7.95e+14\n",
       "Tags_In confusion whether part time or DLP              9.487e+14   3.04e+07   3.12e+07      0.000    9.49e+14    9.49e+14\n",
       "Tags_Interested  in full time MBA                       4.968e+14   8.87e+06    5.6e+07      0.000    4.97e+14    4.97e+14\n",
       "Tags_Interested in Next batch                           3.969e+15   3.92e+07   1.01e+08      0.000    3.97e+15    3.97e+15\n",
       "Tags_Interested in other courses                        3.011e+14   5.13e+06   5.87e+07      0.000    3.01e+14    3.01e+14\n",
       "Tags_Lateral student                                     5.34e+15   4.79e+07   1.11e+08      0.000    5.34e+15    5.34e+15\n",
       "Tags_Lost to EINS                                       2.171e+15   7.42e+06   2.93e+08      0.000    2.17e+15    2.17e+15\n",
       "Tags_Lost to Others                                    -2.958e+15   3.08e+07  -9.62e+07      0.000   -2.96e+15   -2.96e+15\n",
       "Tags_Not doing further education                        2.391e+14   8.38e+06   2.85e+07      0.000    2.39e+14    2.39e+14\n",
       "Tags_Recognition issue (DEC approval)                  -3.804e+15   6.89e+07  -5.52e+07      0.000    -3.8e+15    -3.8e+15\n",
       "Tags_Ringing                                           -2.415e+14    4.4e+06  -5.49e+07      0.000   -2.41e+14   -2.41e+14\n",
       "Tags_Shall take in the next coming month                1.556e+15   6.78e+07    2.3e+07      0.000    1.56e+15    1.56e+15\n",
       "Tags_Still Thinking                                    -5.856e+14   3.42e+07  -1.71e+07      0.000   -5.86e+14   -5.86e+14\n",
       "Tags_University not recognized                         -7.642e+14   4.79e+07  -1.59e+07      0.000   -7.64e+14   -7.64e+14\n",
       "Tags_Want to take admission but has financial problems   5.18e+14   4.15e+07   1.25e+07      0.000    5.18e+14    5.18e+14\n",
       "Tags_Will revert after reading the email                1.247e+15   5.07e+06   2.46e+08      0.000    1.25e+15    1.25e+15\n",
       "Tags_in touch with EINS                                 1.638e+15   2.42e+07   6.77e+07      0.000    1.64e+15    1.64e+15\n",
       "Tags_invalid number                                    -3.476e+15   9.98e+06  -3.48e+08      0.000   -3.48e+15   -3.48e+15\n",
       "Tags_number not provided                               -2.581e+15   1.66e+07  -1.56e+08      0.000   -2.58e+15   -2.58e+15\n",
       "Tags_opp hangup                                         -2.81e+14   1.62e+07  -1.74e+07      0.000   -2.81e+14   -2.81e+14\n",
       "Tags_switched off                                      -5.633e+14   6.61e+06  -8.52e+07      0.000   -5.63e+14   -5.63e+14\n",
       "Tags_wrong number given                                 -1.92e+15   1.27e+07  -1.51e+08      0.000   -1.92e+15   -1.92e+15\n",
       "Lead Profile_Dual Specialization Student                3.627e+15   2.16e+07   1.68e+08      0.000    3.63e+15    3.63e+15\n",
       "Lead Profile_Lateral Student                            1.449e+15   1.79e+07    8.1e+07      0.000    1.45e+15    1.45e+15\n",
       "Lead Profile_Other Leads                                4.361e+14    4.7e+06   9.27e+07      0.000    4.36e+14    4.36e+14\n",
       "Lead Profile_Potential Lead                             2.088e+14   3.28e+06   6.37e+07      0.000    2.09e+14    2.09e+14\n",
       "Lead Profile_Student of SomeSchool                     -2.412e+14   8.03e+06     -3e+07      0.000   -2.41e+14   -2.41e+14\n",
       "What is your current occupation_Businessman            -5.385e+14   4.82e+07  -1.12e+07      0.000   -5.39e+14   -5.39e+14\n",
       "What is your current occupation_Housewife               3.013e+15   2.45e+07   1.23e+08      0.000    3.01e+15    3.01e+15\n",
       "What is your current occupation_Other                  -9.161e+14   1.95e+07   -4.7e+07      0.000   -9.16e+14   -9.16e+14\n",
       "What is your current occupation_Student                -6.163e+14   7.46e+06  -8.26e+07      0.000   -6.16e+14   -6.16e+14\n",
       "What is your current occupation_Unemployed              -7.34e+14   4.32e+06   -1.7e+08      0.000   -7.34e+14   -7.34e+14\n",
       "What is your current occupation_Working Professional   -5.917e+14   5.71e+06  -1.04e+08      0.000   -5.92e+14   -5.92e+14\n",
       "Specialization_Banking, Investment And Insurance        3.629e+14   6.78e+06   5.36e+07      0.000    3.63e+14    3.63e+14\n",
       "Specialization_Business Administration                  4.194e+14    6.5e+06   6.46e+07      0.000    4.19e+14    4.19e+14\n",
       "Specialization_E-Business                               6.707e+14   1.29e+07   5.19e+07      0.000    6.71e+14    6.71e+14\n",
       "Specialization_E-COMMERCE                               6.835e+13   9.61e+06   7.11e+06      0.000    6.83e+13    6.83e+13\n",
       "Specialization_Finance Management                       4.043e+14   5.75e+06   7.03e+07      0.000    4.04e+14    4.04e+14\n",
       "Specialization_Healthcare Management                    3.589e+14   8.91e+06   4.03e+07      0.000    3.59e+14    3.59e+14\n",
       "Specialization_Hospitality Management                   2.827e+14   9.42e+06      3e+07      0.000    2.83e+14    2.83e+14\n",
       "Specialization_Human Resource Management                2.967e+14   5.74e+06   5.17e+07      0.000    2.97e+14    2.97e+14\n",
       "Specialization_IT Projects Management                   3.322e+14   6.98e+06   4.76e+07      0.000    3.32e+14    3.32e+14\n",
       "Specialization_International Business                   4.701e+14   8.12e+06   5.79e+07      0.000     4.7e+14     4.7e+14\n",
       "Specialization_Marketing Management                     3.906e+14   5.67e+06   6.88e+07      0.000    3.91e+14    3.91e+14\n",
       "Specialization_Media and Advertising                    2.202e+14   7.95e+06   2.77e+07      0.000     2.2e+14     2.2e+14\n",
       "Specialization_Operations Management                    4.054e+14   6.22e+06   6.52e+07      0.000    4.05e+14    4.05e+14\n",
       "Specialization_Retail Management                        4.347e+14   1.02e+07   4.28e+07      0.000    4.35e+14    4.35e+14\n",
       "Specialization_Rural and Agribusiness                   2.512e+14   1.12e+07   2.24e+07      0.000    2.51e+14    2.51e+14\n",
       "Specialization_Select                                   3.424e+14   4.18e+06   8.19e+07      0.000    3.42e+14    3.42e+14\n",
       "Specialization_Services Excellence                      3.827e+14   1.66e+07    2.3e+07      0.000    3.83e+14    3.83e+14\n",
       "Specialization_Supply Chain Management                  2.338e+14   6.74e+06   3.47e+07      0.000    2.34e+14    2.34e+14\n",
       "Specialization_Travel and Tourism                       1.072e+14    8.3e+06   1.29e+07      0.000    1.07e+14    1.07e+14\n",
       "City_Mumbai                                             2.339e+13   4.61e+06   5.07e+06      0.000    2.34e+13    2.34e+13\n",
       "City_Other Cities                                       3.364e+13    5.4e+06   6.23e+06      0.000    3.36e+13    3.36e+13\n",
       "City_Other Cities of Maharashtra                        1.108e+14   5.87e+06   1.89e+07      0.000    1.11e+14    1.11e+14\n",
       "City_Other Metro Cities                                -9.708e+13   6.29e+06  -1.54e+07      0.000   -9.71e+13   -9.71e+13\n",
       "City_Thane & Outskirts                                 -2.274e+13   5.26e+06  -4.32e+06      0.000   -2.27e+13   -2.27e+13\n",
       "City_Tier II Cities                                     4.399e+14    1.1e+07   4.01e+07      0.000     4.4e+14     4.4e+14\n",
       "Last Activity_Approached upfront                        4.199e+15   2.92e+07   1.44e+08      0.000     4.2e+15     4.2e+15\n",
       "Last Activity_Converted to Lead                         1.685e+14   1.06e+07   1.59e+07      0.000    1.69e+14    1.69e+14\n",
       "Last Activity_Email Bounced                             2.946e+14   1.17e+07   2.51e+07      0.000    2.95e+14    2.95e+14\n",
       "Last Activity_Email Link Clicked                        9.405e+14   1.25e+07   7.54e+07      0.000     9.4e+14     9.4e+14\n",
       "Last Activity_Email Marked Spam                         2.109e+15   4.39e+07   4.81e+07      0.000    2.11e+15    2.11e+15\n",
       "Last Activity_Email Opened                              3.875e+14   9.92e+06    3.9e+07      0.000    3.88e+14    3.88e+14\n",
       "Last Activity_Email Received                            3.187e+15    6.8e+07   4.69e+07      0.000    3.19e+15    3.19e+15\n",
       "Last Activity_Form Submitted on Website                 3.512e+14   1.21e+07    2.9e+07      0.000    3.51e+14    3.51e+14\n",
       "Last Activity_Had a Phone Conversation                 -4.358e+14   2.31e+07  -1.88e+07      0.000   -4.36e+14   -4.36e+14\n",
       "Last Activity_Olark Chat Conversation                   4.616e+14   1.01e+07   4.58e+07      0.000    4.62e+14    4.62e+14\n",
       "Last Activity_Page Visited on Website                    2.24e+14   1.06e+07   2.12e+07      0.000    2.24e+14    2.24e+14\n",
       "Last Activity_Resubscribed to emails                            0          0        nan        nan           0           0\n",
       "Last Activity_SMS Sent                                   5.67e+14      1e+07   5.66e+07      0.000    5.67e+14    5.67e+14\n",
       "Last Activity_Unreachable                               4.219e+14   1.43e+07   2.95e+07      0.000    4.22e+14    4.22e+14\n",
       "Last Activity_Unsubscribed                               7.09e+14   2.28e+07   3.11e+07      0.000    7.09e+14    7.09e+14\n",
       "Last Activity_View in browser link Clicked             -3.726e+15   6.81e+07  -5.47e+07      0.000   -3.73e+15   -3.73e+15\n",
       "Last Activity_Visited Booth in Tradeshow               -7.427e+14    6.9e+07  -1.08e+07      0.000   -7.43e+14   -7.43e+14\n",
       "==========================================================================================================================\n",
       "\"\"\""
      ]
     },
     "execution_count": 1142,
     "metadata": {},
     "output_type": "execute_result"
    }
   ],
   "source": [
    "# Logistic regression model\n",
    "logm1 = sm.GLM(y_train,(sm.add_constant(X_train)), family = sm.families.Binomial())\n",
    "logm1.fit().summary()"
   ]
  },
  {
   "cell_type": "markdown",
   "metadata": {},
   "source": [
    "### Step 8: Selecting the features using RFE"
   ]
  },
  {
   "cell_type": "code",
   "execution_count": 1143,
   "metadata": {},
   "outputs": [],
   "source": [
    "from sklearn.linear_model import LogisticRegression\n",
    "logreg = LogisticRegression()"
   ]
  },
  {
   "cell_type": "code",
   "execution_count": 1144,
   "metadata": {},
   "outputs": [],
   "source": [
    "from sklearn.feature_selection import RFE\n",
    "rfe = RFE(logreg, 15)             # running RFE with 20 variables as output\n",
    "rfe = rfe.fit(X_train, y_train)"
   ]
  },
  {
   "cell_type": "code",
   "execution_count": 1145,
   "metadata": {},
   "outputs": [
    {
     "data": {
      "text/plain": [
       "array([False, False, False, False, False, False, False, False, False,\n",
       "       False, False, False, False, False, False, False, False, False,\n",
       "       False, False, False, False, False, False, False, False,  True,\n",
       "       False, False, False, False, False, False, False, False, False,\n",
       "       False, False, False, False, False, False, False, False, False,\n",
       "       False, False, False, False, False, False, False, False, False,\n",
       "       False,  True, False, False, False, False, False,  True,  True,\n",
       "       False,  True, False, False, False, False, False,  True, False,\n",
       "        True, False,  True, False,  True, False, False, False, False,\n",
       "        True, False,  True,  True, False,  True,  True, False, False,\n",
       "       False, False, False, False, False, False, False, False, False,\n",
       "       False, False, False, False, False, False, False, False, False,\n",
       "       False, False, False, False, False, False, False, False, False,\n",
       "       False, False, False, False, False, False, False, False, False,\n",
       "       False, False, False, False, False, False, False, False, False,\n",
       "       False,  True, False, False, False, False])"
      ]
     },
     "execution_count": 1145,
     "metadata": {},
     "output_type": "execute_result"
    }
   ],
   "source": [
    "rfe.support_"
   ]
  },
  {
   "cell_type": "code",
   "execution_count": 1146,
   "metadata": {},
   "outputs": [
    {
     "data": {
      "text/plain": [
       "[('Do Not Email', False, 12),\n",
       " ('Do Not Call', False, 127),\n",
       " ('TotalVisits', False, 73),\n",
       " ('Total Time Spent on Website', False, 19),\n",
       " ('Page Views Per Visit', False, 70),\n",
       " ('Search', False, 31),\n",
       " ('Newspaper Article', False, 121),\n",
       " ('X Education Forums', False, 120),\n",
       " ('Newspaper', False, 98),\n",
       " ('Digital Advertisement', False, 96),\n",
       " ('Through Recommendations', False, 108),\n",
       " ('A free copy of Mastering The Interview', False, 97),\n",
       " ('Country_Outside India', False, 88),\n",
       " ('Lead Source_Direct Traffic', False, 25),\n",
       " ('Lead Source_Facebook', False, 46),\n",
       " ('Lead Source_Google', False, 28),\n",
       " ('Lead Source_Live Chat', False, 115),\n",
       " ('Lead Source_NC_EDM', False, 39),\n",
       " ('Lead Source_Olark Chat', False, 89),\n",
       " ('Lead Source_Organic Search', False, 24),\n",
       " ('Lead Source_Pay per Click Ads', False, 116),\n",
       " ('Lead Source_Press_Release', False, 124),\n",
       " ('Lead Source_Reference', False, 23),\n",
       " ('Lead Source_Referral Sites', False, 27),\n",
       " ('Lead Source_Social Media', False, 119),\n",
       " ('Lead Source_WeLearn', False, 122),\n",
       " ('Lead Source_Welingak Website', True, 1),\n",
       " ('Lead Source_bing', False, 103),\n",
       " ('Lead Source_blog', False, 72),\n",
       " ('Lead Source_google', False, 61),\n",
       " ('Lead Source_testone', False, 113),\n",
       " ('Lead Source_welearnblog_Home', False, 75),\n",
       " ('Lead Source_youtubechannel', False, 125),\n",
       " ('Lead Origin_Landing Page Submission', False, 56),\n",
       " ('Lead Origin_Lead Add Form', False, 18),\n",
       " ('Lead Origin_Lead Import', False, 26),\n",
       " ('Last Notable Activity_Email Bounced', False, 44),\n",
       " ('Last Notable Activity_Email Link Clicked', False, 29),\n",
       " ('Last Notable Activity_Email Marked Spam', False, 92),\n",
       " ('Last Notable Activity_Email Opened', False, 95),\n",
       " ('Last Notable Activity_Email Received', False, 114),\n",
       " ('Last Notable Activity_Form Submitted on Website', False, 93),\n",
       " ('Last Notable Activity_Had a Phone Conversation', False, 55),\n",
       " ('Last Notable Activity_Modified', False, 7),\n",
       " ('Last Notable Activity_Olark Chat Conversation', False, 11),\n",
       " ('Last Notable Activity_Page Visited on Website', False, 84),\n",
       " ('Last Notable Activity_Resubscribed to emails', False, 126),\n",
       " ('Last Notable Activity_SMS Sent', False, 15),\n",
       " ('Last Notable Activity_Unreachable', False, 74),\n",
       " ('Last Notable Activity_Unsubscribed', False, 42),\n",
       " ('Last Notable Activity_View in browser link Clicked', False, 110),\n",
       " ('Lead Quality_High in Relevance', False, 50),\n",
       " ('Lead Quality_Low in Relevance', False, 91),\n",
       " ('Lead Quality_Might be', False, 43),\n",
       " ('Lead Quality_Not Sure', False, 60),\n",
       " ('Lead Quality_Worst', True, 1),\n",
       " ('Asymmetrique Profile Index_01.High', False, 79),\n",
       " ('Asymmetrique Profile Index_02.Medium', False, 86),\n",
       " ('Asymmetrique Profile Index_03.Low', False, 85),\n",
       " ('Asymmetrique Activity Index_01.High', False, 80),\n",
       " ('Asymmetrique Activity Index_02.Medium', False, 82),\n",
       " ('Asymmetrique Activity Index_03.Low', True, 1),\n",
       " ('Tags_Already a student', True, 1),\n",
       " ('Tags_Busy', False, 38),\n",
       " ('Tags_Closed by Horizzon', True, 1),\n",
       " ('Tags_Diploma holder (Not Eligible)', False, 4),\n",
       " ('Tags_Graduation in progress', False, 9),\n",
       " ('Tags_In confusion whether part time or DLP', False, 47),\n",
       " ('Tags_Interested  in full time MBA', False, 2),\n",
       " ('Tags_Interested in Next batch', False, 58),\n",
       " ('Tags_Interested in other courses', True, 1),\n",
       " ('Tags_Lateral student', False, 33),\n",
       " ('Tags_Lost to EINS', True, 1),\n",
       " ('Tags_Lost to Others', False, 45),\n",
       " ('Tags_Not doing further education', True, 1),\n",
       " ('Tags_Recognition issue (DEC approval)', False, 37),\n",
       " ('Tags_Ringing', True, 1),\n",
       " ('Tags_Shall take in the next coming month', False, 54),\n",
       " ('Tags_Still Thinking', False, 16),\n",
       " ('Tags_University not recognized', False, 48),\n",
       " ('Tags_Want to take admission but has financial problems', False, 35),\n",
       " ('Tags_Will revert after reading the email', True, 1),\n",
       " ('Tags_in touch with EINS', False, 66),\n",
       " ('Tags_invalid number', True, 1),\n",
       " ('Tags_number not provided', True, 1),\n",
       " ('Tags_opp hangup', False, 3),\n",
       " ('Tags_switched off', True, 1),\n",
       " ('Tags_wrong number given', True, 1),\n",
       " ('Lead Profile_Dual Specialization Student', False, 67),\n",
       " ('Lead Profile_Lateral Student', False, 14),\n",
       " ('Lead Profile_Other Leads', False, 21),\n",
       " ('Lead Profile_Potential Lead', False, 20),\n",
       " ('Lead Profile_Student of SomeSchool', False, 57),\n",
       " ('What is your current occupation_Businessman', False, 101),\n",
       " ('What is your current occupation_Housewife', False, 30),\n",
       " ('What is your current occupation_Other', False, 36),\n",
       " ('What is your current occupation_Student', False, 8),\n",
       " ('What is your current occupation_Unemployed', False, 6),\n",
       " ('What is your current occupation_Working Professional', False, 5),\n",
       " ('Specialization_Banking, Investment And Insurance', False, 68),\n",
       " ('Specialization_Business Administration', False, 64),\n",
       " ('Specialization_E-Business', False, 49),\n",
       " ('Specialization_E-COMMERCE', False, 90),\n",
       " ('Specialization_Finance Management', False, 77),\n",
       " ('Specialization_Healthcare Management', False, 106),\n",
       " ('Specialization_Hospitality Management', False, 65),\n",
       " ('Specialization_Human Resource Management', False, 76),\n",
       " ('Specialization_IT Projects Management', False, 112),\n",
       " ('Specialization_International Business', False, 117),\n",
       " ('Specialization_Marketing Management', False, 62),\n",
       " ('Specialization_Media and Advertising', False, 111),\n",
       " ('Specialization_Operations Management', False, 63),\n",
       " ('Specialization_Retail Management', False, 78),\n",
       " ('Specialization_Rural and Agribusiness', False, 102),\n",
       " ('Specialization_Select', False, 17),\n",
       " ('Specialization_Services Excellence', False, 81),\n",
       " ('Specialization_Supply Chain Management', False, 105),\n",
       " ('Specialization_Travel and Tourism', False, 34),\n",
       " ('City_Mumbai', False, 100),\n",
       " ('City_Other Cities', False, 87),\n",
       " ('City_Other Cities of Maharashtra', False, 71),\n",
       " ('City_Other Metro Cities', False, 59),\n",
       " ('City_Thane & Outskirts', False, 99),\n",
       " ('City_Tier II Cities', False, 22),\n",
       " ('Last Activity_Approached upfront', False, 69),\n",
       " ('Last Activity_Converted to Lead', False, 52),\n",
       " ('Last Activity_Email Bounced', False, 51),\n",
       " ('Last Activity_Email Link Clicked', False, 41),\n",
       " ('Last Activity_Email Marked Spam', False, 94),\n",
       " ('Last Activity_Email Opened', False, 83),\n",
       " ('Last Activity_Email Received', False, 104),\n",
       " ('Last Activity_Form Submitted on Website', False, 40),\n",
       " ('Last Activity_Had a Phone Conversation', False, 10),\n",
       " ('Last Activity_Olark Chat Conversation', False, 32),\n",
       " ('Last Activity_Page Visited on Website', False, 53),\n",
       " ('Last Activity_Resubscribed to emails', False, 123),\n",
       " ('Last Activity_SMS Sent', True, 1),\n",
       " ('Last Activity_Unreachable', False, 109),\n",
       " ('Last Activity_Unsubscribed', False, 13),\n",
       " ('Last Activity_View in browser link Clicked', False, 107),\n",
       " ('Last Activity_Visited Booth in Tradeshow', False, 118)]"
      ]
     },
     "execution_count": 1146,
     "metadata": {},
     "output_type": "execute_result"
    }
   ],
   "source": [
    "list(zip(X_train.columns, rfe.support_, rfe.ranking_))"
   ]
  },
  {
   "cell_type": "code",
   "execution_count": 1147,
   "metadata": {},
   "outputs": [
    {
     "data": {
      "text/plain": [
       "Index(['Lead Source_Welingak Website', 'Lead Quality_Worst',\n",
       "       'Asymmetrique Activity Index_03.Low', 'Tags_Already a student',\n",
       "       'Tags_Closed by Horizzon', 'Tags_Interested in other courses',\n",
       "       'Tags_Lost to EINS', 'Tags_Not doing further education', 'Tags_Ringing',\n",
       "       'Tags_Will revert after reading the email', 'Tags_invalid number',\n",
       "       'Tags_number not provided', 'Tags_switched off',\n",
       "       'Tags_wrong number given', 'Last Activity_SMS Sent'],\n",
       "      dtype='object')"
      ]
     },
     "execution_count": 1147,
     "metadata": {},
     "output_type": "execute_result"
    }
   ],
   "source": [
    "col = X_train.columns[rfe.support_]\n",
    "col"
   ]
  },
  {
   "cell_type": "code",
   "execution_count": 1148,
   "metadata": {},
   "outputs": [
    {
     "data": {
      "text/plain": [
       "Index(['Do Not Email', 'Do Not Call', 'TotalVisits',\n",
       "       'Total Time Spent on Website', 'Page Views Per Visit', 'Search',\n",
       "       'Newspaper Article', 'X Education Forums', 'Newspaper',\n",
       "       'Digital Advertisement',\n",
       "       ...\n",
       "       'Last Activity_Email Received',\n",
       "       'Last Activity_Form Submitted on Website',\n",
       "       'Last Activity_Had a Phone Conversation',\n",
       "       'Last Activity_Olark Chat Conversation',\n",
       "       'Last Activity_Page Visited on Website',\n",
       "       'Last Activity_Resubscribed to emails', 'Last Activity_Unreachable',\n",
       "       'Last Activity_Unsubscribed',\n",
       "       'Last Activity_View in browser link Clicked',\n",
       "       'Last Activity_Visited Booth in Tradeshow'],\n",
       "      dtype='object', length=126)"
      ]
     },
     "execution_count": 1148,
     "metadata": {},
     "output_type": "execute_result"
    }
   ],
   "source": [
    "X_train.columns[~rfe.support_]"
   ]
  },
  {
   "cell_type": "markdown",
   "metadata": {},
   "source": [
    "**Analyzing the model with StatsModels**"
   ]
  },
  {
   "cell_type": "code",
   "execution_count": 1149,
   "metadata": {},
   "outputs": [
    {
     "data": {
      "text/html": [
       "<table class=\"simpletable\">\n",
       "<caption>Generalized Linear Model Regression Results</caption>\n",
       "<tr>\n",
       "  <th>Dep. Variable:</th>      <td>Converted</td>    <th>  No. Observations:  </th>  <td>  6002</td>  \n",
       "</tr>\n",
       "<tr>\n",
       "  <th>Model:</th>                 <td>GLM</td>       <th>  Df Residuals:      </th>  <td>  5986</td>  \n",
       "</tr>\n",
       "<tr>\n",
       "  <th>Model Family:</th>       <td>Binomial</td>     <th>  Df Model:          </th>  <td>    15</td>  \n",
       "</tr>\n",
       "<tr>\n",
       "  <th>Link Function:</th>        <td>logit</td>      <th>  Scale:             </th> <td>  1.0000</td> \n",
       "</tr>\n",
       "<tr>\n",
       "  <th>Method:</th>               <td>IRLS</td>       <th>  Log-Likelihood:    </th> <td> -1434.0</td> \n",
       "</tr>\n",
       "<tr>\n",
       "  <th>Date:</th>           <td>Mon, 26 Aug 2019</td> <th>  Deviance:          </th> <td>  2868.1</td> \n",
       "</tr>\n",
       "<tr>\n",
       "  <th>Time:</th>               <td>21:46:44</td>     <th>  Pearson chi2:      </th> <td>7.88e+03</td> \n",
       "</tr>\n",
       "<tr>\n",
       "  <th>No. Iterations:</th>        <td>23</td>        <th>  Covariance Type:   </th> <td>nonrobust</td>\n",
       "</tr>\n",
       "</table>\n",
       "<table class=\"simpletable\">\n",
       "<tr>\n",
       "                      <td></td>                        <th>coef</th>     <th>std err</th>      <th>z</th>      <th>P>|z|</th>  <th>[0.025</th>    <th>0.975]</th>  \n",
       "</tr>\n",
       "<tr>\n",
       "  <th>const</th>                                    <td>   -1.9159</td> <td>    0.070</td> <td>  -27.351</td> <td> 0.000</td> <td>   -2.053</td> <td>   -1.779</td>\n",
       "</tr>\n",
       "<tr>\n",
       "  <th>Lead Source_Welingak Website</th>             <td>    4.6724</td> <td>    0.728</td> <td>    6.417</td> <td> 0.000</td> <td>    3.245</td> <td>    6.099</td>\n",
       "</tr>\n",
       "<tr>\n",
       "  <th>Lead Quality_Worst</th>                       <td>   -2.4108</td> <td>    0.717</td> <td>   -3.364</td> <td> 0.001</td> <td>   -3.815</td> <td>   -1.006</td>\n",
       "</tr>\n",
       "<tr>\n",
       "  <th>Asymmetrique Activity Index_03.Low</th>       <td>   -1.9529</td> <td>    0.379</td> <td>   -5.151</td> <td> 0.000</td> <td>   -2.696</td> <td>   -1.210</td>\n",
       "</tr>\n",
       "<tr>\n",
       "  <th>Tags_Already a student</th>                   <td>   -2.4803</td> <td>    0.725</td> <td>   -3.422</td> <td> 0.001</td> <td>   -3.901</td> <td>   -1.060</td>\n",
       "</tr>\n",
       "<tr>\n",
       "  <th>Tags_Closed by Horizzon</th>                  <td>    6.4898</td> <td>    0.714</td> <td>    9.088</td> <td> 0.000</td> <td>    5.090</td> <td>    7.889</td>\n",
       "</tr>\n",
       "<tr>\n",
       "  <th>Tags_Interested in other courses</th>         <td>   -1.6373</td> <td>    0.321</td> <td>   -5.107</td> <td> 0.000</td> <td>   -2.266</td> <td>   -1.009</td>\n",
       "</tr>\n",
       "<tr>\n",
       "  <th>Tags_Lost to EINS</th>                        <td>    6.5116</td> <td>    0.825</td> <td>    7.897</td> <td> 0.000</td> <td>    4.896</td> <td>    8.128</td>\n",
       "</tr>\n",
       "<tr>\n",
       "  <th>Tags_Not doing further education</th>         <td>   -2.3638</td> <td>    1.031</td> <td>   -2.293</td> <td> 0.022</td> <td>   -4.384</td> <td>   -0.344</td>\n",
       "</tr>\n",
       "<tr>\n",
       "  <th>Tags_Ringing</th>                             <td>   -2.8608</td> <td>    0.234</td> <td>  -12.223</td> <td> 0.000</td> <td>   -3.320</td> <td>   -2.402</td>\n",
       "</tr>\n",
       "<tr>\n",
       "  <th>Tags_Will revert after reading the email</th> <td>    4.7678</td> <td>    0.174</td> <td>   27.439</td> <td> 0.000</td> <td>    4.427</td> <td>    5.108</td>\n",
       "</tr>\n",
       "<tr>\n",
       "  <th>Tags_invalid number</th>                      <td>  -23.2957</td> <td> 1.63e+04</td> <td>   -0.001</td> <td> 0.999</td> <td> -3.2e+04</td> <td> 3.19e+04</td>\n",
       "</tr>\n",
       "<tr>\n",
       "  <th>Tags_number not provided</th>                 <td>  -23.5788</td> <td> 2.73e+04</td> <td>   -0.001</td> <td> 0.999</td> <td>-5.35e+04</td> <td> 5.34e+04</td>\n",
       "</tr>\n",
       "<tr>\n",
       "  <th>Tags_switched off</th>                        <td>   -3.7641</td> <td>    0.719</td> <td>   -5.234</td> <td> 0.000</td> <td>   -5.174</td> <td>   -2.354</td>\n",
       "</tr>\n",
       "<tr>\n",
       "  <th>Tags_wrong number given</th>                  <td>  -23.7094</td> <td>  2.1e+04</td> <td>   -0.001</td> <td> 0.999</td> <td>-4.13e+04</td> <td> 4.12e+04</td>\n",
       "</tr>\n",
       "<tr>\n",
       "  <th>Last Activity_SMS Sent</th>                   <td>    2.1410</td> <td>    0.102</td> <td>   20.891</td> <td> 0.000</td> <td>    1.940</td> <td>    2.342</td>\n",
       "</tr>\n",
       "</table>"
      ],
      "text/plain": [
       "<class 'statsmodels.iolib.summary.Summary'>\n",
       "\"\"\"\n",
       "                 Generalized Linear Model Regression Results                  \n",
       "==============================================================================\n",
       "Dep. Variable:              Converted   No. Observations:                 6002\n",
       "Model:                            GLM   Df Residuals:                     5986\n",
       "Model Family:                Binomial   Df Model:                           15\n",
       "Link Function:                  logit   Scale:                          1.0000\n",
       "Method:                          IRLS   Log-Likelihood:                -1434.0\n",
       "Date:                Mon, 26 Aug 2019   Deviance:                       2868.1\n",
       "Time:                        21:46:44   Pearson chi2:                 7.88e+03\n",
       "No. Iterations:                    23   Covariance Type:             nonrobust\n",
       "============================================================================================================\n",
       "                                               coef    std err          z      P>|z|      [0.025      0.975]\n",
       "------------------------------------------------------------------------------------------------------------\n",
       "const                                       -1.9159      0.070    -27.351      0.000      -2.053      -1.779\n",
       "Lead Source_Welingak Website                 4.6724      0.728      6.417      0.000       3.245       6.099\n",
       "Lead Quality_Worst                          -2.4108      0.717     -3.364      0.001      -3.815      -1.006\n",
       "Asymmetrique Activity Index_03.Low          -1.9529      0.379     -5.151      0.000      -2.696      -1.210\n",
       "Tags_Already a student                      -2.4803      0.725     -3.422      0.001      -3.901      -1.060\n",
       "Tags_Closed by Horizzon                      6.4898      0.714      9.088      0.000       5.090       7.889\n",
       "Tags_Interested in other courses            -1.6373      0.321     -5.107      0.000      -2.266      -1.009\n",
       "Tags_Lost to EINS                            6.5116      0.825      7.897      0.000       4.896       8.128\n",
       "Tags_Not doing further education            -2.3638      1.031     -2.293      0.022      -4.384      -0.344\n",
       "Tags_Ringing                                -2.8608      0.234    -12.223      0.000      -3.320      -2.402\n",
       "Tags_Will revert after reading the email     4.7678      0.174     27.439      0.000       4.427       5.108\n",
       "Tags_invalid number                        -23.2957   1.63e+04     -0.001      0.999    -3.2e+04    3.19e+04\n",
       "Tags_number not provided                   -23.5788   2.73e+04     -0.001      0.999   -5.35e+04    5.34e+04\n",
       "Tags_switched off                           -3.7641      0.719     -5.234      0.000      -5.174      -2.354\n",
       "Tags_wrong number given                    -23.7094    2.1e+04     -0.001      0.999   -4.13e+04    4.12e+04\n",
       "Last Activity_SMS Sent                       2.1410      0.102     20.891      0.000       1.940       2.342\n",
       "============================================================================================================\n",
       "\"\"\""
      ]
     },
     "execution_count": 1149,
     "metadata": {},
     "output_type": "execute_result"
    }
   ],
   "source": [
    "X_train_sm = sm.add_constant(X_train[col])\n",
    "logm2 = sm.GLM(y_train,X_train_sm, family = sm.families.Binomial())\n",
    "res = logm2.fit()\n",
    "res.summary()"
   ]
  },
  {
   "cell_type": "code",
   "execution_count": 1150,
   "metadata": {},
   "outputs": [
    {
     "data": {
      "text/plain": [
       "8529   0.07\n",
       "7331   0.01\n",
       "7688   0.56\n",
       "92     0.13\n",
       "4908   0.13\n",
       "451    0.01\n",
       "4945   0.01\n",
       "2844   0.99\n",
       "4355   0.13\n",
       "7251   0.00\n",
       "dtype: float64"
      ]
     },
     "execution_count": 1150,
     "metadata": {},
     "output_type": "execute_result"
    }
   ],
   "source": [
    "# Getting the predicted values on the train set\n",
    "y_train_pred = res.predict(X_train_sm)\n",
    "y_train_pred[:10]"
   ]
  },
  {
   "cell_type": "code",
   "execution_count": 1151,
   "metadata": {},
   "outputs": [
    {
     "data": {
      "text/plain": [
       "array([0.06687694, 0.00835322, 0.5560449 , 0.12831818, 0.12831818,\n",
       "       0.00835322, 0.00835322, 0.99325983, 0.12831818, 0.00110475])"
      ]
     },
     "execution_count": 1151,
     "metadata": {},
     "output_type": "execute_result"
    }
   ],
   "source": [
    "# reshaping the numpy array containing predicted values\n",
    "y_train_pred = y_train_pred.values.reshape(-1)\n",
    "y_train_pred[:10]"
   ]
  },
  {
   "cell_type": "markdown",
   "metadata": {},
   "source": [
    "#### Creating a dataframe with the LeadID and the predicted probabilities"
   ]
  },
  {
   "cell_type": "code",
   "execution_count": 1152,
   "metadata": {},
   "outputs": [
    {
     "data": {
      "text/html": [
       "<div>\n",
       "<style scoped>\n",
       "    .dataframe tbody tr th:only-of-type {\n",
       "        vertical-align: middle;\n",
       "    }\n",
       "\n",
       "    .dataframe tbody tr th {\n",
       "        vertical-align: top;\n",
       "    }\n",
       "\n",
       "    .dataframe thead th {\n",
       "        text-align: right;\n",
       "    }\n",
       "</style>\n",
       "<table border=\"1\" class=\"dataframe\">\n",
       "  <thead>\n",
       "    <tr style=\"text-align: right;\">\n",
       "      <th></th>\n",
       "      <th>Converted</th>\n",
       "      <th>Conversion_Prob</th>\n",
       "      <th>LeadID</th>\n",
       "    </tr>\n",
       "  </thead>\n",
       "  <tbody>\n",
       "    <tr>\n",
       "      <th>0</th>\n",
       "      <td>0</td>\n",
       "      <td>0.07</td>\n",
       "      <td>8529</td>\n",
       "    </tr>\n",
       "    <tr>\n",
       "      <th>1</th>\n",
       "      <td>0</td>\n",
       "      <td>0.01</td>\n",
       "      <td>7331</td>\n",
       "    </tr>\n",
       "    <tr>\n",
       "      <th>2</th>\n",
       "      <td>1</td>\n",
       "      <td>0.56</td>\n",
       "      <td>7688</td>\n",
       "    </tr>\n",
       "    <tr>\n",
       "      <th>3</th>\n",
       "      <td>0</td>\n",
       "      <td>0.13</td>\n",
       "      <td>92</td>\n",
       "    </tr>\n",
       "    <tr>\n",
       "      <th>4</th>\n",
       "      <td>0</td>\n",
       "      <td>0.13</td>\n",
       "      <td>4908</td>\n",
       "    </tr>\n",
       "  </tbody>\n",
       "</table>\n",
       "</div>"
      ],
      "text/plain": [
       "   Converted  Conversion_Prob  LeadID\n",
       "0          0             0.07    8529\n",
       "1          0             0.01    7331\n",
       "2          1             0.56    7688\n",
       "3          0             0.13      92\n",
       "4          0             0.13    4908"
      ]
     },
     "execution_count": 1152,
     "metadata": {},
     "output_type": "execute_result"
    }
   ],
   "source": [
    "y_train_pred_final = pd.DataFrame({'Converted':y_train.values, 'Conversion_Prob':y_train_pred})\n",
    "y_train_pred_final['LeadID'] = y_train.index\n",
    "y_train_pred_final.head()"
   ]
  },
  {
   "cell_type": "markdown",
   "metadata": {},
   "source": [
    "**Creating new column 'predicted' with 1 if Converion_Prob > 0.5 else 0**"
   ]
  },
  {
   "cell_type": "code",
   "execution_count": 1153,
   "metadata": {},
   "outputs": [
    {
     "data": {
      "text/html": [
       "<div>\n",
       "<style scoped>\n",
       "    .dataframe tbody tr th:only-of-type {\n",
       "        vertical-align: middle;\n",
       "    }\n",
       "\n",
       "    .dataframe tbody tr th {\n",
       "        vertical-align: top;\n",
       "    }\n",
       "\n",
       "    .dataframe thead th {\n",
       "        text-align: right;\n",
       "    }\n",
       "</style>\n",
       "<table border=\"1\" class=\"dataframe\">\n",
       "  <thead>\n",
       "    <tr style=\"text-align: right;\">\n",
       "      <th></th>\n",
       "      <th>Converted</th>\n",
       "      <th>Conversion_Prob</th>\n",
       "      <th>LeadID</th>\n",
       "      <th>predicted</th>\n",
       "    </tr>\n",
       "  </thead>\n",
       "  <tbody>\n",
       "    <tr>\n",
       "      <th>0</th>\n",
       "      <td>0</td>\n",
       "      <td>0.07</td>\n",
       "      <td>8529</td>\n",
       "      <td>0</td>\n",
       "    </tr>\n",
       "    <tr>\n",
       "      <th>1</th>\n",
       "      <td>0</td>\n",
       "      <td>0.01</td>\n",
       "      <td>7331</td>\n",
       "      <td>0</td>\n",
       "    </tr>\n",
       "    <tr>\n",
       "      <th>2</th>\n",
       "      <td>1</td>\n",
       "      <td>0.56</td>\n",
       "      <td>7688</td>\n",
       "      <td>1</td>\n",
       "    </tr>\n",
       "    <tr>\n",
       "      <th>3</th>\n",
       "      <td>0</td>\n",
       "      <td>0.13</td>\n",
       "      <td>92</td>\n",
       "      <td>0</td>\n",
       "    </tr>\n",
       "    <tr>\n",
       "      <th>4</th>\n",
       "      <td>0</td>\n",
       "      <td>0.13</td>\n",
       "      <td>4908</td>\n",
       "      <td>0</td>\n",
       "    </tr>\n",
       "  </tbody>\n",
       "</table>\n",
       "</div>"
      ],
      "text/plain": [
       "   Converted  Conversion_Prob  LeadID  predicted\n",
       "0          0             0.07    8529          0\n",
       "1          0             0.01    7331          0\n",
       "2          1             0.56    7688          1\n",
       "3          0             0.13      92          0\n",
       "4          0             0.13    4908          0"
      ]
     },
     "execution_count": 1153,
     "metadata": {},
     "output_type": "execute_result"
    }
   ],
   "source": [
    "y_train_pred_final['predicted'] = y_train_pred_final.Conversion_Prob.map(lambda x: 1 if x > 0.5 else 0)\n",
    "y_train_pred_final.head()"
   ]
  },
  {
   "cell_type": "markdown",
   "metadata": {},
   "source": [
    "#### Creating Confusion Metrics"
   ]
  },
  {
   "cell_type": "code",
   "execution_count": 1154,
   "metadata": {},
   "outputs": [],
   "source": [
    "from sklearn import metrics"
   ]
  },
  {
   "cell_type": "code",
   "execution_count": 1155,
   "metadata": {},
   "outputs": [
    {
     "name": "stdout",
     "output_type": "stream",
     "text": [
      "[[3433  303]\n",
      " [ 255 2011]]\n"
     ]
    }
   ],
   "source": [
    "# Confusion matrix \n",
    "confusion = metrics.confusion_matrix(y_train_pred_final.Converted, y_train_pred_final.predicted )\n",
    "print(confusion)"
   ]
  },
  {
   "cell_type": "markdown",
   "metadata": {},
   "source": [
    "**Accuracy of the Model**"
   ]
  },
  {
   "cell_type": "code",
   "execution_count": 1156,
   "metadata": {},
   "outputs": [
    {
     "name": "stdout",
     "output_type": "stream",
     "text": [
      "0.90703098967011\n"
     ]
    }
   ],
   "source": [
    "print(metrics.accuracy_score(y_train_pred_final.Converted, y_train_pred_final.predicted))"
   ]
  },
  {
   "cell_type": "markdown",
   "metadata": {},
   "source": [
    "**Checking Variation Inflation Factors**"
   ]
  },
  {
   "cell_type": "code",
   "execution_count": 1157,
   "metadata": {},
   "outputs": [],
   "source": [
    "# Check for the VIF values of the feature variables. \n",
    "from statsmodels.stats.outliers_influence import variance_inflation_factor"
   ]
  },
  {
   "cell_type": "code",
   "execution_count": 1158,
   "metadata": {},
   "outputs": [
    {
     "data": {
      "text/html": [
       "<div>\n",
       "<style scoped>\n",
       "    .dataframe tbody tr th:only-of-type {\n",
       "        vertical-align: middle;\n",
       "    }\n",
       "\n",
       "    .dataframe tbody tr th {\n",
       "        vertical-align: top;\n",
       "    }\n",
       "\n",
       "    .dataframe thead th {\n",
       "        text-align: right;\n",
       "    }\n",
       "</style>\n",
       "<table border=\"1\" class=\"dataframe\">\n",
       "  <thead>\n",
       "    <tr style=\"text-align: right;\">\n",
       "      <th></th>\n",
       "      <th>Features</th>\n",
       "      <th>VIF</th>\n",
       "    </tr>\n",
       "  </thead>\n",
       "  <tbody>\n",
       "    <tr>\n",
       "      <th>7</th>\n",
       "      <td>Tags_Not doing further education</td>\n",
       "      <td>1.14</td>\n",
       "    </tr>\n",
       "    <tr>\n",
       "      <th>0</th>\n",
       "      <td>Lead Source_Welingak Website</td>\n",
       "      <td>1.03</td>\n",
       "    </tr>\n",
       "    <tr>\n",
       "      <th>2</th>\n",
       "      <td>Asymmetrique Activity Index_03.Low</td>\n",
       "      <td>1.02</td>\n",
       "    </tr>\n",
       "    <tr>\n",
       "      <th>12</th>\n",
       "      <td>Tags_switched off</td>\n",
       "      <td>1.02</td>\n",
       "    </tr>\n",
       "    <tr>\n",
       "      <th>4</th>\n",
       "      <td>Tags_Closed by Horizzon</td>\n",
       "      <td>1.01</td>\n",
       "    </tr>\n",
       "    <tr>\n",
       "      <th>6</th>\n",
       "      <td>Tags_Lost to EINS</td>\n",
       "      <td>1.01</td>\n",
       "    </tr>\n",
       "    <tr>\n",
       "      <th>10</th>\n",
       "      <td>Tags_invalid number</td>\n",
       "      <td>1.01</td>\n",
       "    </tr>\n",
       "    <tr>\n",
       "      <th>11</th>\n",
       "      <td>Tags_number not provided</td>\n",
       "      <td>1.01</td>\n",
       "    </tr>\n",
       "    <tr>\n",
       "      <th>13</th>\n",
       "      <td>Tags_wrong number given</td>\n",
       "      <td>1.00</td>\n",
       "    </tr>\n",
       "    <tr>\n",
       "      <th>1</th>\n",
       "      <td>Lead Quality_Worst</td>\n",
       "      <td>0.66</td>\n",
       "    </tr>\n",
       "    <tr>\n",
       "      <th>8</th>\n",
       "      <td>Tags_Ringing</td>\n",
       "      <td>0.34</td>\n",
       "    </tr>\n",
       "    <tr>\n",
       "      <th>3</th>\n",
       "      <td>Tags_Already a student</td>\n",
       "      <td>0.32</td>\n",
       "    </tr>\n",
       "    <tr>\n",
       "      <th>5</th>\n",
       "      <td>Tags_Interested in other courses</td>\n",
       "      <td>0.29</td>\n",
       "    </tr>\n",
       "    <tr>\n",
       "      <th>9</th>\n",
       "      <td>Tags_Will revert after reading the email</td>\n",
       "      <td>0.04</td>\n",
       "    </tr>\n",
       "    <tr>\n",
       "      <th>14</th>\n",
       "      <td>Last Activity_SMS Sent</td>\n",
       "      <td>0.00</td>\n",
       "    </tr>\n",
       "  </tbody>\n",
       "</table>\n",
       "</div>"
      ],
      "text/plain": [
       "                                    Features  VIF\n",
       "7           Tags_Not doing further education 1.14\n",
       "0               Lead Source_Welingak Website 1.03\n",
       "2         Asymmetrique Activity Index_03.Low 1.02\n",
       "12                         Tags_switched off 1.02\n",
       "4                    Tags_Closed by Horizzon 1.01\n",
       "6                          Tags_Lost to EINS 1.01\n",
       "10                       Tags_invalid number 1.01\n",
       "11                  Tags_number not provided 1.01\n",
       "13                   Tags_wrong number given 1.00\n",
       "1                         Lead Quality_Worst 0.66\n",
       "8                               Tags_Ringing 0.34\n",
       "3                     Tags_Already a student 0.32\n",
       "5           Tags_Interested in other courses 0.29\n",
       "9   Tags_Will revert after reading the email 0.04\n",
       "14                    Last Activity_SMS Sent 0.00"
      ]
     },
     "execution_count": 1158,
     "metadata": {},
     "output_type": "execute_result"
    }
   ],
   "source": [
    "# Create a dataframe that will contain the names of all the feature variables and their respective VIFs\n",
    "vif = pd.DataFrame()\n",
    "vif['Features'] = X_train[col].columns\n",
    "vif['VIF'] = [variance_inflation_factor(X_train[col].values, i) for i in range(X_train[col].shape[1])]\n",
    "vif['VIF'] = round(vif['VIF'], 2)\n",
    "vif = vif.sort_values(by = \"VIF\", ascending = False)\n",
    "vif"
   ]
  },
  {
   "cell_type": "markdown",
   "metadata": {},
   "source": [
    "**Since VIF <5 Clearly  it shows that there is not much multicollinearity present in our model among the selected features** "
   ]
  },
  {
   "cell_type": "code",
   "execution_count": 1159,
   "metadata": {},
   "outputs": [
    {
     "data": {
      "image/png": "[encoded data removed]",
      "text/plain": [
       "<Figure size 1600x1200 with 2 Axes>"
      ]
     },
     "metadata": {},
     "output_type": "display_data"
    }
   ],
   "source": [
    "# Slightly alter the figure size to make it more horizontal.\n",
    "plt.figure(figsize=(20,15), dpi=80, facecolor='w', edgecolor='k', frameon='True')\n",
    "\n",
    "cor = X_train[col].corr()\n",
    "sns.heatmap(cor, annot=True, cmap=\"Blues\")\n",
    "\n",
    "plt.tight_layout()\n",
    "plt.show()"
   ]
  },
  {
   "cell_type": "markdown",
   "metadata": {},
   "source": [
    "Our new model have the following charcteristics:\n",
    "1. All variables have p-value < 0.05.\n",
    "2. All the features have very low VIF values, meaning, there is hardly any muliticollinearity among the features. \n",
    "3. The overall accuracy of 0.90 at a probability threshold of 0.05 is also very acceptable."
   ]
  },
  {
   "cell_type": "markdown",
   "metadata": {},
   "source": [
    "## Step 8: Calculating other Metrics"
   ]
  },
  {
   "cell_type": "code",
   "execution_count": 1160,
   "metadata": {},
   "outputs": [],
   "source": [
    "TP = confusion[1,1] # true positive \n",
    "TN = confusion[0,0] # true negatives\n",
    "FP = confusion[0,1] # false positives\n",
    "FN = confusion[1,0] # false negatives"
   ]
  },
  {
   "cell_type": "code",
   "execution_count": 1161,
   "metadata": {},
   "outputs": [
    {
     "data": {
      "text/plain": [
       "0.8874669020300088"
      ]
     },
     "execution_count": 1161,
     "metadata": {},
     "output_type": "execute_result"
    }
   ],
   "source": [
    "# Let's see the sensitivity of our logistic regression model\n",
    "TP / float(TP+FN)"
   ]
  },
  {
   "cell_type": "code",
   "execution_count": 1162,
   "metadata": {},
   "outputs": [
    {
     "data": {
      "text/plain": [
       "0.9188972162740899"
      ]
     },
     "execution_count": 1162,
     "metadata": {},
     "output_type": "execute_result"
    }
   ],
   "source": [
    "# Let us calculate specificity\n",
    "TN / float(TN+FP)"
   ]
  },
  {
   "cell_type": "code",
   "execution_count": 1163,
   "metadata": {},
   "outputs": [
    {
     "name": "stdout",
     "output_type": "stream",
     "text": [
      "0.08110278372591007\n"
     ]
    }
   ],
   "source": [
    "# Calculate false postive rate - predicting churn when customer does not have churned\n",
    "print(FP/ float(TN+FP))"
   ]
  },
  {
   "cell_type": "code",
   "execution_count": 1164,
   "metadata": {},
   "outputs": [
    {
     "name": "stdout",
     "output_type": "stream",
     "text": [
      "0.8690579083837511\n"
     ]
    }
   ],
   "source": [
    "# positive predictive value \n",
    "print (TP / float(TP+FP))"
   ]
  },
  {
   "cell_type": "code",
   "execution_count": 1165,
   "metadata": {},
   "outputs": [
    {
     "name": "stdout",
     "output_type": "stream",
     "text": [
      "0.9308568329718004\n"
     ]
    }
   ],
   "source": [
    "# Negative predictive value\n",
    "print (TN / float(TN+ FN))"
   ]
  },
  {
   "cell_type": "markdown",
   "metadata": {},
   "source": [
    "## Step 8: Plotting the ROC Curve"
   ]
  },
  {
   "cell_type": "code",
   "execution_count": 1166,
   "metadata": {},
   "outputs": [],
   "source": [
    "def draw_roc( actual, probs ):\n",
    "    fpr, tpr, thresholds = metrics.roc_curve( actual, probs,\n",
    "                                              drop_intermediate = False )\n",
    "    auc_score = metrics.roc_auc_score( actual, probs )\n",
    "    plt.figure(figsize=(5, 5))\n",
    "    plt.plot( fpr, tpr, label='ROC curve (area = %0.2f)' % auc_score )\n",
    "    plt.plot([0, 1], [0, 1], 'k--')\n",
    "    plt.xlim([0.0, 1.0])\n",
    "    plt.ylim([0.0, 1.05])\n",
    "    plt.xlabel('False Positive Rate or [1 - True Negative Rate]')\n",
    "    plt.ylabel('True Positive Rate')\n",
    "    plt.title('Receiver operating characteristic example')\n",
    "    plt.legend(loc=\"lower right\")\n",
    "    plt.show()\n",
    "\n",
    "    return fpr,tpr, thresholds"
   ]
  },
  {
   "cell_type": "code",
   "execution_count": 1167,
   "metadata": {},
   "outputs": [],
   "source": [
    "fpr, tpr, thresholds = metrics.roc_curve( y_train_pred_final.Converted, y_train_pred_final.Conversion_Prob, drop_intermediate = False )"
   ]
  },
  {
   "cell_type": "code",
   "execution_count": 1168,
   "metadata": {},
   "outputs": [
    {
     "data": {
      "image/png": "[encoded data removed]",
      "text/plain": [
       "<Figure size 360x360 with 1 Axes>"
      ]
     },
     "metadata": {
      "needs_background": "light"
     },
     "output_type": "display_data"
    },
    {
     "data": {
      "text/plain": [
       "(array([0.00000000e+00, 0.00000000e+00, 0.00000000e+00, 0.00000000e+00,\n",
       "        0.00000000e+00, 0.00000000e+00, 0.00000000e+00, 0.00000000e+00,\n",
       "        2.67665953e-04, 1.60599572e-03, 1.87366167e-03, 2.14132762e-03,\n",
       "        2.40899358e-03, 2.67665953e-03, 2.67665953e-03, 2.67665953e-03,\n",
       "        2.67665953e-03, 2.94432548e-03, 1.20449679e-02, 1.20449679e-02,\n",
       "        1.20449679e-02, 1.20449679e-02, 1.23126338e-02, 1.25802998e-02,\n",
       "        1.25802998e-02, 8.11027837e-02, 8.45824411e-02, 8.85974304e-02,\n",
       "        4.90631692e-01, 4.91702355e-01, 4.92237687e-01, 4.93040685e-01,\n",
       "        5.58083512e-01, 5.74143469e-01, 6.38918630e-01, 6.39453961e-01,\n",
       "        6.69967880e-01, 6.70503212e-01, 6.79603854e-01, 6.90310493e-01,\n",
       "        7.21359743e-01, 7.22162741e-01, 7.24036403e-01, 7.25910064e-01,\n",
       "        8.48768737e-01, 8.49304069e-01, 8.54657388e-01, 8.77141328e-01,\n",
       "        8.77408994e-01, 8.77676660e-01, 8.94004283e-01, 8.94271949e-01,\n",
       "        8.97751606e-01, 9.12205567e-01, 9.17291221e-01, 9.68950749e-01,\n",
       "        9.69218415e-01, 9.70824411e-01, 9.71359743e-01, 9.71627409e-01,\n",
       "        9.72162741e-01, 9.74839400e-01, 9.76445396e-01, 9.79389722e-01,\n",
       "        9.88490364e-01, 9.89828694e-01, 9.91434690e-01, 9.95985011e-01,\n",
       "        9.96252677e-01, 9.96520343e-01, 9.97323340e-01, 9.98126338e-01,\n",
       "        9.99464668e-01, 1.00000000e+00]),\n",
       " array([0.00000000e+00, 4.41306267e-04, 1.76522507e-03, 2.64783760e-03,\n",
       "        3.08914387e-03, 7.94351280e-03, 1.01500441e-02, 1.58870256e-02,\n",
       "        2.07413945e-02, 3.23477493e-01, 3.42894969e-01, 3.42894969e-01,\n",
       "        3.75551633e-01, 4.60282436e-01, 4.60723742e-01, 4.61165049e-01,\n",
       "        4.63371580e-01, 4.63371580e-01, 7.18446602e-01, 7.30361871e-01,\n",
       "        7.32127096e-01, 7.34333628e-01, 7.37422771e-01, 7.37422771e-01,\n",
       "        7.37864078e-01, 8.87466902e-01, 8.90556046e-01, 8.91879965e-01,\n",
       "        9.86760812e-01, 9.86760812e-01, 9.86760812e-01, 9.86760812e-01,\n",
       "        9.91615181e-01, 9.91615181e-01, 9.92497793e-01, 9.92497793e-01,\n",
       "        9.92497793e-01, 9.92497793e-01, 9.92939100e-01, 9.92939100e-01,\n",
       "        9.93821712e-01, 9.93821712e-01, 9.94263019e-01, 9.94263019e-01,\n",
       "        9.98234775e-01, 9.98234775e-01, 9.98676081e-01, 9.99558694e-01,\n",
       "        9.99558694e-01, 9.99558694e-01, 1.00000000e+00, 1.00000000e+00,\n",
       "        1.00000000e+00, 1.00000000e+00, 1.00000000e+00, 1.00000000e+00,\n",
       "        1.00000000e+00, 1.00000000e+00, 1.00000000e+00, 1.00000000e+00,\n",
       "        1.00000000e+00, 1.00000000e+00, 1.00000000e+00, 1.00000000e+00,\n",
       "        1.00000000e+00, 1.00000000e+00, 1.00000000e+00, 1.00000000e+00,\n",
       "        1.00000000e+00, 1.00000000e+00, 1.00000000e+00, 1.00000000e+00,\n",
       "        1.00000000e+00, 1.00000000e+00]),\n",
       " array([1.99998891e+00, 9.99988906e-01, 9.99988661e-01, 9.99936555e-01,\n",
       "        9.99905618e-01, 9.99903534e-01, 9.99460448e-01, 9.98814898e-01,\n",
       "        9.98788764e-01, 9.93259832e-01, 9.92590004e-01, 9.91705425e-01,\n",
       "        9.90005775e-01, 9.89787372e-01, 9.86951326e-01, 9.86667074e-01,\n",
       "        9.54348452e-01, 9.50006303e-01, 9.45415277e-01, 9.40276622e-01,\n",
       "        9.33565044e-01, 8.98885040e-01, 7.10734537e-01, 6.08512520e-01,\n",
       "        5.57736553e-01, 5.56044900e-01, 1.95888738e-01, 1.50870423e-01,\n",
       "        1.28318175e-01, 1.05398566e-01, 1.01043759e-01, 9.49030627e-02,\n",
       "        6.68769404e-02, 2.82236231e-02, 2.78350905e-02, 2.13944502e-02,\n",
       "        2.04556653e-02, 1.56949517e-02, 1.36581520e-02, 1.30385858e-02,\n",
       "        1.21737691e-02, 1.04625483e-02, 1.00647637e-02, 9.32218465e-03,\n",
       "        8.35321872e-03, 4.10317557e-03, 4.04530811e-03, 3.40193365e-03,\n",
       "        3.09177557e-03, 2.59965712e-03, 2.56293935e-03, 1.96052114e-03,\n",
       "        1.87058091e-03, 1.24115280e-03, 1.19354147e-03, 1.10475146e-03,\n",
       "        7.55385760e-04, 4.84010598e-04, 3.64379451e-04, 3.06247751e-04,\n",
       "        1.56868531e-04, 9.56234318e-11, 7.20464992e-11, 6.32294275e-11,\n",
       "        1.12388972e-11, 8.58152470e-12, 8.46783244e-12, 7.43153661e-12,\n",
       "        6.46566224e-12, 5.67439260e-12, 1.20124497e-12, 1.05423626e-12,\n",
       "        1.00861130e-12, 7.59927894e-13]))"
      ]
     },
     "execution_count": 1168,
     "metadata": {},
     "output_type": "execute_result"
    }
   ],
   "source": [
    "draw_roc(y_train_pred_final.Converted, y_train_pred_final.Conversion_Prob)"
   ]
  },
  {
   "cell_type": "markdown",
   "metadata": {},
   "source": [
    "### Calculating the area under the curve"
   ]
  },
  {
   "cell_type": "code",
   "execution_count": 1169,
   "metadata": {},
   "outputs": [],
   "source": [
    "def auc_val(fpr,tpr):\n",
    "    AreaUnderCurve = 0.\n",
    "    for i in range(len(fpr)-1):\n",
    "        AreaUnderCurve += (fpr[i+1]-fpr[i]) * (tpr[i+1]+tpr[i])\n",
    "    AreaUnderCurve *= 0.5\n",
    "    return AreaUnderCurve"
   ]
  },
  {
   "cell_type": "code",
   "execution_count": 1170,
   "metadata": {},
   "outputs": [
    {
     "data": {
      "text/plain": [
       "0.9533957666727776"
      ]
     },
     "execution_count": 1170,
     "metadata": {},
     "output_type": "execute_result"
    }
   ],
   "source": [
    "auc = auc_val(fpr,tpr)\n",
    "auc"
   ]
  },
  {
   "cell_type": "markdown",
   "metadata": {},
   "source": [
    "#### Step 9: Finding Optimal Cutoff Point"
   ]
  },
  {
   "cell_type": "code",
   "execution_count": 1171,
   "metadata": {},
   "outputs": [
    {
     "data": {
      "text/html": [
       "<div>\n",
       "<style scoped>\n",
       "    .dataframe tbody tr th:only-of-type {\n",
       "        vertical-align: middle;\n",
       "    }\n",
       "\n",
       "    .dataframe tbody tr th {\n",
       "        vertical-align: top;\n",
       "    }\n",
       "\n",
       "    .dataframe thead th {\n",
       "        text-align: right;\n",
       "    }\n",
       "</style>\n",
       "<table border=\"1\" class=\"dataframe\">\n",
       "  <thead>\n",
       "    <tr style=\"text-align: right;\">\n",
       "      <th></th>\n",
       "      <th>Converted</th>\n",
       "      <th>Conversion_Prob</th>\n",
       "      <th>LeadID</th>\n",
       "      <th>predicted</th>\n",
       "      <th>0.0</th>\n",
       "      <th>0.1</th>\n",
       "      <th>0.2</th>\n",
       "      <th>0.3</th>\n",
       "      <th>0.4</th>\n",
       "      <th>0.5</th>\n",
       "      <th>0.6</th>\n",
       "      <th>0.7</th>\n",
       "      <th>0.8</th>\n",
       "      <th>0.9</th>\n",
       "    </tr>\n",
       "  </thead>\n",
       "  <tbody>\n",
       "    <tr>\n",
       "      <th>0</th>\n",
       "      <td>0</td>\n",
       "      <td>0.07</td>\n",
       "      <td>8529</td>\n",
       "      <td>0</td>\n",
       "      <td>1</td>\n",
       "      <td>0</td>\n",
       "      <td>0</td>\n",
       "      <td>0</td>\n",
       "      <td>0</td>\n",
       "      <td>0</td>\n",
       "      <td>0</td>\n",
       "      <td>0</td>\n",
       "      <td>0</td>\n",
       "      <td>0</td>\n",
       "    </tr>\n",
       "    <tr>\n",
       "      <th>1</th>\n",
       "      <td>0</td>\n",
       "      <td>0.01</td>\n",
       "      <td>7331</td>\n",
       "      <td>0</td>\n",
       "      <td>1</td>\n",
       "      <td>0</td>\n",
       "      <td>0</td>\n",
       "      <td>0</td>\n",
       "      <td>0</td>\n",
       "      <td>0</td>\n",
       "      <td>0</td>\n",
       "      <td>0</td>\n",
       "      <td>0</td>\n",
       "      <td>0</td>\n",
       "    </tr>\n",
       "    <tr>\n",
       "      <th>2</th>\n",
       "      <td>1</td>\n",
       "      <td>0.56</td>\n",
       "      <td>7688</td>\n",
       "      <td>1</td>\n",
       "      <td>1</td>\n",
       "      <td>1</td>\n",
       "      <td>1</td>\n",
       "      <td>1</td>\n",
       "      <td>1</td>\n",
       "      <td>1</td>\n",
       "      <td>0</td>\n",
       "      <td>0</td>\n",
       "      <td>0</td>\n",
       "      <td>0</td>\n",
       "    </tr>\n",
       "    <tr>\n",
       "      <th>3</th>\n",
       "      <td>0</td>\n",
       "      <td>0.13</td>\n",
       "      <td>92</td>\n",
       "      <td>0</td>\n",
       "      <td>1</td>\n",
       "      <td>1</td>\n",
       "      <td>0</td>\n",
       "      <td>0</td>\n",
       "      <td>0</td>\n",
       "      <td>0</td>\n",
       "      <td>0</td>\n",
       "      <td>0</td>\n",
       "      <td>0</td>\n",
       "      <td>0</td>\n",
       "    </tr>\n",
       "    <tr>\n",
       "      <th>4</th>\n",
       "      <td>0</td>\n",
       "      <td>0.13</td>\n",
       "      <td>4908</td>\n",
       "      <td>0</td>\n",
       "      <td>1</td>\n",
       "      <td>1</td>\n",
       "      <td>0</td>\n",
       "      <td>0</td>\n",
       "      <td>0</td>\n",
       "      <td>0</td>\n",
       "      <td>0</td>\n",
       "      <td>0</td>\n",
       "      <td>0</td>\n",
       "      <td>0</td>\n",
       "    </tr>\n",
       "  </tbody>\n",
       "</table>\n",
       "</div>"
      ],
      "text/plain": [
       "   Converted  Conversion_Prob  LeadID  predicted  0.0  0.1  0.2  0.3  0.4  \\\n",
       "0          0             0.07    8529          0    1    0    0    0    0   \n",
       "1          0             0.01    7331          0    1    0    0    0    0   \n",
       "2          1             0.56    7688          1    1    1    1    1    1   \n",
       "3          0             0.13      92          0    1    1    0    0    0   \n",
       "4          0             0.13    4908          0    1    1    0    0    0   \n",
       "\n",
       "   0.5  0.6  0.7  0.8  0.9  \n",
       "0    0    0    0    0    0  \n",
       "1    0    0    0    0    0  \n",
       "2    1    0    0    0    0  \n",
       "3    0    0    0    0    0  \n",
       "4    0    0    0    0    0  "
      ]
     },
     "execution_count": 1171,
     "metadata": {},
     "output_type": "execute_result"
    }
   ],
   "source": [
    "# Let's create columns with different probability cutoffs \n",
    "numbers = [float(x)/10 for x in range(10)]\n",
    "for i in numbers:\n",
    "    y_train_pred_final[i]= y_train_pred_final.Conversion_Prob.map(lambda x: 1 if x > i else 0)\n",
    "y_train_pred_final.head()"
   ]
  },
  {
   "cell_type": "code",
   "execution_count": 1172,
   "metadata": {},
   "outputs": [
    {
     "name": "stdout",
     "output_type": "stream",
     "text": [
      "      prob  accuracy  sensi  speci\n",
      "0.00  0.00      0.38   1.00   0.00\n",
      "0.10  0.10      0.69   0.99   0.51\n",
      "0.20  0.20      0.91   0.89   0.92\n",
      "0.30  0.30      0.91   0.89   0.92\n",
      "0.40  0.40      0.91   0.89   0.92\n",
      "0.50  0.50      0.91   0.89   0.92\n",
      "0.60  0.60      0.89   0.74   0.99\n",
      "0.70  0.70      0.89   0.74   0.99\n",
      "0.80  0.80      0.89   0.73   0.99\n",
      "0.90  0.90      0.89   0.73   0.99\n"
     ]
    }
   ],
   "source": [
    "# Now let's calculate accuracy sensitivity and specificity for various probability cutoffs.\n",
    "cutoff_df = pd.DataFrame( columns = ['prob','accuracy','sensi','speci'])\n",
    "from sklearn.metrics import confusion_matrix\n",
    "\n",
    "# TP = confusion[1,1] # true positive \n",
    "# TN = confusion[0,0] # true negatives\n",
    "# FP = confusion[0,1] # false positives\n",
    "# FN = confusion[1,0] # false negatives\n",
    "\n",
    "num = [0.0,0.1,0.2,0.3,0.4,0.5,0.6,0.7,0.8,0.9]\n",
    "for i in num:\n",
    "    cm1 = metrics.confusion_matrix(y_train_pred_final.Converted, y_train_pred_final[i] )\n",
    "    total1=sum(sum(cm1))\n",
    "    accuracy = (cm1[0,0]+cm1[1,1])/total1\n",
    "    \n",
    "    speci = cm1[0,0]/(cm1[0,0]+cm1[0,1])\n",
    "    sensi = cm1[1,1]/(cm1[1,0]+cm1[1,1])\n",
    "    cutoff_df.loc[i] =[ i ,accuracy,sensi,speci]\n",
    "print(cutoff_df)"
   ]
  },
  {
   "cell_type": "markdown",
   "metadata": {},
   "source": [
    "###  plotting accuracy sensitivity and specificity for various probabilities"
   ]
  },
  {
   "cell_type": "code",
   "execution_count": 1173,
   "metadata": {},
   "outputs": [
    {
     "data": {
      "image/png": "[encoded data removed]",
      "text/plain": [
       "<Figure size 720x432 with 1 Axes>"
      ]
     },
     "metadata": {},
     "output_type": "display_data"
    }
   ],
   "source": [
    "# Slightly alter the figure size to make it more horizontal.\n",
    "\n",
    "#plt.figure(figsize=(10, 8), dpi=80, facecolor='w', edgecolor='k', frameon='True')\n",
    "sns.set_style(\"whitegrid\") # white/whitegrid/dark/ticks\n",
    "sns.set_context(\"paper\") # talk/poster\n",
    "cutoff_df.plot.line(x='prob', y=['accuracy','sensi','speci'], figsize=(10,6))\n",
    "# plot x axis limits\n",
    "plt.xticks(np.arange(0, 1, step=0.05), size = 12)\n",
    "plt.yticks(size = 12)\n",
    "plt.show()"
   ]
  },
  {
   "cell_type": "code",
   "execution_count": 1174,
   "metadata": {},
   "outputs": [
    {
     "data": {
      "text/html": [
       "<div>\n",
       "<style scoped>\n",
       "    .dataframe tbody tr th:only-of-type {\n",
       "        vertical-align: middle;\n",
       "    }\n",
       "\n",
       "    .dataframe tbody tr th {\n",
       "        vertical-align: top;\n",
       "    }\n",
       "\n",
       "    .dataframe thead th {\n",
       "        text-align: right;\n",
       "    }\n",
       "</style>\n",
       "<table border=\"1\" class=\"dataframe\">\n",
       "  <thead>\n",
       "    <tr style=\"text-align: right;\">\n",
       "      <th></th>\n",
       "      <th>Converted</th>\n",
       "      <th>Conversion_Prob</th>\n",
       "      <th>LeadID</th>\n",
       "      <th>predicted</th>\n",
       "      <th>0.0</th>\n",
       "      <th>0.1</th>\n",
       "      <th>0.2</th>\n",
       "      <th>0.3</th>\n",
       "      <th>0.4</th>\n",
       "      <th>0.5</th>\n",
       "      <th>0.6</th>\n",
       "      <th>0.7</th>\n",
       "      <th>0.8</th>\n",
       "      <th>0.9</th>\n",
       "      <th>final_predicted</th>\n",
       "    </tr>\n",
       "  </thead>\n",
       "  <tbody>\n",
       "    <tr>\n",
       "      <th>0</th>\n",
       "      <td>0</td>\n",
       "      <td>0.07</td>\n",
       "      <td>8529</td>\n",
       "      <td>0</td>\n",
       "      <td>1</td>\n",
       "      <td>0</td>\n",
       "      <td>0</td>\n",
       "      <td>0</td>\n",
       "      <td>0</td>\n",
       "      <td>0</td>\n",
       "      <td>0</td>\n",
       "      <td>0</td>\n",
       "      <td>0</td>\n",
       "      <td>0</td>\n",
       "      <td>0</td>\n",
       "    </tr>\n",
       "    <tr>\n",
       "      <th>1</th>\n",
       "      <td>0</td>\n",
       "      <td>0.01</td>\n",
       "      <td>7331</td>\n",
       "      <td>0</td>\n",
       "      <td>1</td>\n",
       "      <td>0</td>\n",
       "      <td>0</td>\n",
       "      <td>0</td>\n",
       "      <td>0</td>\n",
       "      <td>0</td>\n",
       "      <td>0</td>\n",
       "      <td>0</td>\n",
       "      <td>0</td>\n",
       "      <td>0</td>\n",
       "      <td>0</td>\n",
       "    </tr>\n",
       "    <tr>\n",
       "      <th>2</th>\n",
       "      <td>1</td>\n",
       "      <td>0.56</td>\n",
       "      <td>7688</td>\n",
       "      <td>1</td>\n",
       "      <td>1</td>\n",
       "      <td>1</td>\n",
       "      <td>1</td>\n",
       "      <td>1</td>\n",
       "      <td>1</td>\n",
       "      <td>1</td>\n",
       "      <td>0</td>\n",
       "      <td>0</td>\n",
       "      <td>0</td>\n",
       "      <td>0</td>\n",
       "      <td>1</td>\n",
       "    </tr>\n",
       "    <tr>\n",
       "      <th>3</th>\n",
       "      <td>0</td>\n",
       "      <td>0.13</td>\n",
       "      <td>92</td>\n",
       "      <td>0</td>\n",
       "      <td>1</td>\n",
       "      <td>1</td>\n",
       "      <td>0</td>\n",
       "      <td>0</td>\n",
       "      <td>0</td>\n",
       "      <td>0</td>\n",
       "      <td>0</td>\n",
       "      <td>0</td>\n",
       "      <td>0</td>\n",
       "      <td>0</td>\n",
       "      <td>0</td>\n",
       "    </tr>\n",
       "    <tr>\n",
       "      <th>4</th>\n",
       "      <td>0</td>\n",
       "      <td>0.13</td>\n",
       "      <td>4908</td>\n",
       "      <td>0</td>\n",
       "      <td>1</td>\n",
       "      <td>1</td>\n",
       "      <td>0</td>\n",
       "      <td>0</td>\n",
       "      <td>0</td>\n",
       "      <td>0</td>\n",
       "      <td>0</td>\n",
       "      <td>0</td>\n",
       "      <td>0</td>\n",
       "      <td>0</td>\n",
       "      <td>0</td>\n",
       "    </tr>\n",
       "  </tbody>\n",
       "</table>\n",
       "</div>"
      ],
      "text/plain": [
       "   Converted  Conversion_Prob  LeadID  predicted  0.0  0.1  0.2  0.3  0.4  \\\n",
       "0          0             0.07    8529          0    1    0    0    0    0   \n",
       "1          0             0.01    7331          0    1    0    0    0    0   \n",
       "2          1             0.56    7688          1    1    1    1    1    1   \n",
       "3          0             0.13      92          0    1    1    0    0    0   \n",
       "4          0             0.13    4908          0    1    1    0    0    0   \n",
       "\n",
       "   0.5  0.6  0.7  0.8  0.9  final_predicted  \n",
       "0    0    0    0    0    0                0  \n",
       "1    0    0    0    0    0                0  \n",
       "2    1    0    0    0    0                1  \n",
       "3    0    0    0    0    0                0  \n",
       "4    0    0    0    0    0                0  "
      ]
     },
     "execution_count": 1174,
     "metadata": {},
     "output_type": "execute_result"
    }
   ],
   "source": [
    "y_train_pred_final['final_predicted'] = y_train_pred_final.Conversion_Prob.map( lambda x: 1 if x > 0.19 else 0)\n",
    "\n",
    "y_train_pred_final.head()"
   ]
  },
  {
   "cell_type": "code",
   "execution_count": 1175,
   "metadata": {},
   "outputs": [
    {
     "data": {
      "text/plain": [
       "0.9060313228923692"
      ]
     },
     "execution_count": 1175,
     "metadata": {},
     "output_type": "execute_result"
    }
   ],
   "source": [
    "# Let's check the overall accuracy.\n",
    "metrics.accuracy_score(y_train_pred_final.Converted, y_train_pred_final.final_predicted)"
   ]
  },
  {
   "cell_type": "code",
   "execution_count": 1176,
   "metadata": {},
   "outputs": [
    {
     "data": {
      "text/plain": [
       "array([[3433,  303],\n",
       "       [ 255, 2011]], dtype=int64)"
      ]
     },
     "execution_count": 1176,
     "metadata": {},
     "output_type": "execute_result"
    }
   ],
   "source": [
    "confusion1 = metrics.confusion_matrix(y_train_pred_final.Converted, y_train_pred_final.final_predicted)\n",
    "confusion"
   ]
  },
  {
   "cell_type": "code",
   "execution_count": 1177,
   "metadata": {},
   "outputs": [],
   "source": [
    "TP = confusion1[1,1] # true positive \n",
    "TN = confusion1[0,0] # true negatives\n",
    "FP = confusion1[0,1] # false positives\n",
    "FN = confusion1[1,0] # false negatives"
   ]
  },
  {
   "cell_type": "code",
   "execution_count": 1178,
   "metadata": {},
   "outputs": [
    {
     "data": {
      "text/plain": [
       "0.8905560458958517"
      ]
     },
     "execution_count": 1178,
     "metadata": {},
     "output_type": "execute_result"
    }
   ],
   "source": [
    "# Let's see the sensitivity of our logistic regression model\n",
    "TP / float(TP+FN)"
   ]
  },
  {
   "cell_type": "code",
   "execution_count": 1179,
   "metadata": {},
   "outputs": [
    {
     "data": {
      "text/plain": [
       "0.9154175588865097"
      ]
     },
     "execution_count": 1179,
     "metadata": {},
     "output_type": "execute_result"
    }
   ],
   "source": [
    "# Let us calculate specificity\n",
    "TN / float(TN+FP)"
   ]
  },
  {
   "cell_type": "code",
   "execution_count": 1180,
   "metadata": {},
   "outputs": [
    {
     "name": "stdout",
     "output_type": "stream",
     "text": [
      "0.08458244111349036\n"
     ]
    }
   ],
   "source": [
    "# Calculate false postive rate - predicting churn when customer does not have churned\n",
    "print(FP/ float(TN+FP))"
   ]
  },
  {
   "cell_type": "code",
   "execution_count": 1181,
   "metadata": {},
   "outputs": [
    {
     "name": "stdout",
     "output_type": "stream",
     "text": [
      "0.8646101113967438\n"
     ]
    }
   ],
   "source": [
    "# Positive predictive value \n",
    "print (TP / float(TP+FP))"
   ]
  },
  {
   "cell_type": "code",
   "execution_count": 1182,
   "metadata": {},
   "outputs": [
    {
     "name": "stdout",
     "output_type": "stream",
     "text": [
      "0.9323882224645583\n"
     ]
    }
   ],
   "source": [
    "# Negative predictive value\n",
    "print (TN / float(TN+ FN))"
   ]
  },
  {
   "cell_type": "markdown",
   "metadata": {},
   "source": [
    "### Step 9: Calculating Precision and Recall"
   ]
  },
  {
   "cell_type": "code",
   "execution_count": 1183,
   "metadata": {},
   "outputs": [
    {
     "data": {
      "text/plain": [
       "0.8646101113967438"
      ]
     },
     "execution_count": 1183,
     "metadata": {},
     "output_type": "execute_result"
    }
   ],
   "source": [
    "precision = confusion1[1,1]/(confusion1[0,1]+confusion1[1,1])\n",
    "precision"
   ]
  },
  {
   "cell_type": "code",
   "execution_count": 1184,
   "metadata": {},
   "outputs": [
    {
     "data": {
      "text/plain": [
       "0.8905560458958517"
      ]
     },
     "execution_count": 1184,
     "metadata": {},
     "output_type": "execute_result"
    }
   ],
   "source": [
    "recall = confusion1[1,1]/(confusion1[1,0]+confusion1[1,1])\n",
    "recall"
   ]
  },
  {
   "cell_type": "code",
   "execution_count": null,
   "metadata": {},
   "outputs": [],
   "source": []
  },
  {
   "cell_type": "code",
   "execution_count": 1185,
   "metadata": {},
   "outputs": [],
   "source": [
    "from sklearn.metrics import precision_score, recall_score"
   ]
  },
  {
   "cell_type": "code",
   "execution_count": 1186,
   "metadata": {},
   "outputs": [
    {
     "data": {
      "text/plain": [
       "0.8646101113967438"
      ]
     },
     "execution_count": 1186,
     "metadata": {},
     "output_type": "execute_result"
    }
   ],
   "source": [
    "precision_score(y_train_pred_final.Converted, y_train_pred_final.final_predicted)"
   ]
  },
  {
   "cell_type": "code",
   "execution_count": 1187,
   "metadata": {},
   "outputs": [
    {
     "data": {
      "text/plain": [
       "0.8905560458958517"
      ]
     },
     "execution_count": 1187,
     "metadata": {},
     "output_type": "execute_result"
    }
   ],
   "source": [
    "recall_score(y_train_pred_final.Converted, y_train_pred_final.final_predicted)"
   ]
  },
  {
   "cell_type": "code",
   "execution_count": 1188,
   "metadata": {},
   "outputs": [],
   "source": [
    "from sklearn.metrics import precision_recall_curve"
   ]
  },
  {
   "cell_type": "code",
   "execution_count": 1189,
   "metadata": {},
   "outputs": [
    {
     "data": {
      "text/plain": [
       "(0       0\n",
       " 1       0\n",
       " 2       1\n",
       " 3       0\n",
       " 4       0\n",
       " 5       0\n",
       " 6       0\n",
       " 7       1\n",
       " 8       0\n",
       " 9       0\n",
       " 10      1\n",
       " 11      0\n",
       " 12      0\n",
       " 13      1\n",
       " 14      0\n",
       " 15      0\n",
       " 16      0\n",
       " 17      0\n",
       " 18      1\n",
       " 19      0\n",
       " 20      1\n",
       " 21      0\n",
       " 22      0\n",
       " 23      0\n",
       " 24      1\n",
       " 25      0\n",
       " 26      0\n",
       " 27      1\n",
       " 28      0\n",
       " 29      0\n",
       "        ..\n",
       " 5972    0\n",
       " 5973    0\n",
       " 5974    1\n",
       " 5975    1\n",
       " 5976    0\n",
       " 5977    0\n",
       " 5978    1\n",
       " 5979    1\n",
       " 5980    0\n",
       " 5981    0\n",
       " 5982    1\n",
       " 5983    0\n",
       " 5984    0\n",
       " 5985    0\n",
       " 5986    1\n",
       " 5987    0\n",
       " 5988    1\n",
       " 5989    1\n",
       " 5990    0\n",
       " 5991    1\n",
       " 5992    0\n",
       " 5993    0\n",
       " 5994    0\n",
       " 5995    0\n",
       " 5996    1\n",
       " 5997    0\n",
       " 5998    0\n",
       " 5999    0\n",
       " 6000    1\n",
       " 6001    0\n",
       " Name: Converted, Length: 6002, dtype: int64, 0       0\n",
       " 1       0\n",
       " 2       1\n",
       " 3       0\n",
       " 4       0\n",
       " 5       0\n",
       " 6       0\n",
       " 7       1\n",
       " 8       0\n",
       " 9       0\n",
       " 10      0\n",
       " 11      0\n",
       " 12      0\n",
       " 13      1\n",
       " 14      0\n",
       " 15      0\n",
       " 16      0\n",
       " 17      0\n",
       " 18      1\n",
       " 19      0\n",
       " 20      1\n",
       " 21      0\n",
       " 22      0\n",
       " 23      0\n",
       " 24      1\n",
       " 25      0\n",
       " 26      0\n",
       " 27      1\n",
       " 28      0\n",
       " 29      0\n",
       "        ..\n",
       " 5972    0\n",
       " 5973    0\n",
       " 5974    0\n",
       " 5975    1\n",
       " 5976    0\n",
       " 5977    0\n",
       " 5978    1\n",
       " 5979    1\n",
       " 5980    1\n",
       " 5981    0\n",
       " 5982    1\n",
       " 5983    0\n",
       " 5984    0\n",
       " 5985    0\n",
       " 5986    1\n",
       " 5987    0\n",
       " 5988    1\n",
       " 5989    1\n",
       " 5990    0\n",
       " 5991    1\n",
       " 5992    0\n",
       " 5993    0\n",
       " 5994    0\n",
       " 5995    0\n",
       " 5996    0\n",
       " 5997    0\n",
       " 5998    0\n",
       " 5999    0\n",
       " 6000    1\n",
       " 6001    0\n",
       " Name: final_predicted, Length: 6002, dtype: int64)"
      ]
     },
     "execution_count": 1189,
     "metadata": {},
     "output_type": "execute_result"
    }
   ],
   "source": [
    "y_train_pred_final.Converted, y_train_pred_final.final_predicted"
   ]
  },
  {
   "cell_type": "code",
   "execution_count": 1190,
   "metadata": {},
   "outputs": [],
   "source": [
    "p, r, thresholds = precision_recall_curve(y_train_pred_final.Converted, y_train_pred_final.Conversion_Prob)"
   ]
  },
  {
   "cell_type": "code",
   "execution_count": 1191,
   "metadata": {},
   "outputs": [
    {
     "data": {
      "image/png": "[encoded data removed]",
      "text/plain": [
       "<Figure size 800x400 with 1 Axes>"
      ]
     },
     "metadata": {},
     "output_type": "display_data"
    }
   ],
   "source": [
    "# Slightly alter the figure size to make it more horizontal.\n",
    "plt.figure(figsize=(8, 4), dpi=100, facecolor='w', edgecolor='k', frameon='True')\n",
    "plt.plot(thresholds, p[:-1], \"g-\")\n",
    "plt.plot(thresholds, r[:-1], \"r-\")\n",
    "plt.xticks(np.arange(0, 1, step=0.05))\n",
    "plt.show()"
   ]
  },
  {
   "cell_type": "markdown",
   "metadata": {},
   "source": [
    "#### From the precision-recall graph above, we get the optical threshold value as close to .57. However our business requirement here is to have Lead Conversion Rate around 80%. so we stick to the orginal threshold  \n"
   ]
  },
  {
   "cell_type": "markdown",
   "metadata": {},
   "source": [
    "### Calculating the F1 score"
   ]
  },
  {
   "cell_type": "code",
   "execution_count": 1192,
   "metadata": {},
   "outputs": [
    {
     "data": {
      "text/plain": [
       "0.8773913043478261"
      ]
     },
     "execution_count": 1192,
     "metadata": {},
     "output_type": "execute_result"
    }
   ],
   "source": [
    "F1 = 2*(precision*recall)/(precision+recall)\n",
    "F1"
   ]
  },
  {
   "cell_type": "markdown",
   "metadata": {},
   "source": [
    "### Step 10: Making predictions on the test set"
   ]
  },
  {
   "cell_type": "code",
   "execution_count": 1193,
   "metadata": {},
   "outputs": [
    {
     "data": {
      "text/html": [
       "<div>\n",
       "<style scoped>\n",
       "    .dataframe tbody tr th:only-of-type {\n",
       "        vertical-align: middle;\n",
       "    }\n",
       "\n",
       "    .dataframe tbody tr th {\n",
       "        vertical-align: top;\n",
       "    }\n",
       "\n",
       "    .dataframe thead th {\n",
       "        text-align: right;\n",
       "    }\n",
       "</style>\n",
       "<table border=\"1\" class=\"dataframe\">\n",
       "  <thead>\n",
       "    <tr style=\"text-align: right;\">\n",
       "      <th></th>\n",
       "      <th>Do Not Email</th>\n",
       "      <th>Do Not Call</th>\n",
       "      <th>TotalVisits</th>\n",
       "      <th>Total Time Spent on Website</th>\n",
       "      <th>Page Views Per Visit</th>\n",
       "      <th>Search</th>\n",
       "      <th>Newspaper Article</th>\n",
       "      <th>X Education Forums</th>\n",
       "      <th>Newspaper</th>\n",
       "      <th>Digital Advertisement</th>\n",
       "      <th>...</th>\n",
       "      <th>Last Activity_Form Submitted on Website</th>\n",
       "      <th>Last Activity_Had a Phone Conversation</th>\n",
       "      <th>Last Activity_Olark Chat Conversation</th>\n",
       "      <th>Last Activity_Page Visited on Website</th>\n",
       "      <th>Last Activity_Resubscribed to emails</th>\n",
       "      <th>Last Activity_SMS Sent</th>\n",
       "      <th>Last Activity_Unreachable</th>\n",
       "      <th>Last Activity_Unsubscribed</th>\n",
       "      <th>Last Activity_View in browser link Clicked</th>\n",
       "      <th>Last Activity_Visited Booth in Tradeshow</th>\n",
       "    </tr>\n",
       "  </thead>\n",
       "  <tbody>\n",
       "    <tr>\n",
       "      <th>6190</th>\n",
       "      <td>0</td>\n",
       "      <td>0</td>\n",
       "      <td>-1.20</td>\n",
       "      <td>-0.87</td>\n",
       "      <td>-1.27</td>\n",
       "      <td>0</td>\n",
       "      <td>0</td>\n",
       "      <td>0</td>\n",
       "      <td>0</td>\n",
       "      <td>0</td>\n",
       "      <td>...</td>\n",
       "      <td>0</td>\n",
       "      <td>0</td>\n",
       "      <td>1</td>\n",
       "      <td>0</td>\n",
       "      <td>0</td>\n",
       "      <td>0</td>\n",
       "      <td>0</td>\n",
       "      <td>0</td>\n",
       "      <td>0</td>\n",
       "      <td>0</td>\n",
       "    </tr>\n",
       "    <tr>\n",
       "      <th>7073</th>\n",
       "      <td>0</td>\n",
       "      <td>0</td>\n",
       "      <td>0.97</td>\n",
       "      <td>-0.62</td>\n",
       "      <td>1.79</td>\n",
       "      <td>0</td>\n",
       "      <td>0</td>\n",
       "      <td>0</td>\n",
       "      <td>0</td>\n",
       "      <td>0</td>\n",
       "      <td>...</td>\n",
       "      <td>0</td>\n",
       "      <td>0</td>\n",
       "      <td>0</td>\n",
       "      <td>0</td>\n",
       "      <td>0</td>\n",
       "      <td>0</td>\n",
       "      <td>0</td>\n",
       "      <td>0</td>\n",
       "      <td>0</td>\n",
       "      <td>0</td>\n",
       "    </tr>\n",
       "    <tr>\n",
       "      <th>4519</th>\n",
       "      <td>1</td>\n",
       "      <td>0</td>\n",
       "      <td>-1.20</td>\n",
       "      <td>-0.87</td>\n",
       "      <td>-1.27</td>\n",
       "      <td>0</td>\n",
       "      <td>0</td>\n",
       "      <td>0</td>\n",
       "      <td>0</td>\n",
       "      <td>0</td>\n",
       "      <td>...</td>\n",
       "      <td>0</td>\n",
       "      <td>0</td>\n",
       "      <td>0</td>\n",
       "      <td>0</td>\n",
       "      <td>0</td>\n",
       "      <td>0</td>\n",
       "      <td>0</td>\n",
       "      <td>0</td>\n",
       "      <td>0</td>\n",
       "      <td>0</td>\n",
       "    </tr>\n",
       "    <tr>\n",
       "      <th>607</th>\n",
       "      <td>0</td>\n",
       "      <td>0</td>\n",
       "      <td>-1.20</td>\n",
       "      <td>-0.87</td>\n",
       "      <td>-1.27</td>\n",
       "      <td>0</td>\n",
       "      <td>0</td>\n",
       "      <td>0</td>\n",
       "      <td>0</td>\n",
       "      <td>0</td>\n",
       "      <td>...</td>\n",
       "      <td>0</td>\n",
       "      <td>0</td>\n",
       "      <td>0</td>\n",
       "      <td>0</td>\n",
       "      <td>0</td>\n",
       "      <td>1</td>\n",
       "      <td>0</td>\n",
       "      <td>0</td>\n",
       "      <td>0</td>\n",
       "      <td>0</td>\n",
       "    </tr>\n",
       "    <tr>\n",
       "      <th>440</th>\n",
       "      <td>0</td>\n",
       "      <td>0</td>\n",
       "      <td>1.40</td>\n",
       "      <td>-0.09</td>\n",
       "      <td>0.56</td>\n",
       "      <td>0</td>\n",
       "      <td>0</td>\n",
       "      <td>0</td>\n",
       "      <td>0</td>\n",
       "      <td>0</td>\n",
       "      <td>...</td>\n",
       "      <td>0</td>\n",
       "      <td>0</td>\n",
       "      <td>0</td>\n",
       "      <td>0</td>\n",
       "      <td>0</td>\n",
       "      <td>0</td>\n",
       "      <td>0</td>\n",
       "      <td>0</td>\n",
       "      <td>0</td>\n",
       "      <td>0</td>\n",
       "    </tr>\n",
       "  </tbody>\n",
       "</table>\n",
       "<p>5 rows × 141 columns</p>\n",
       "</div>"
      ],
      "text/plain": [
       "      Do Not Email  Do Not Call  TotalVisits  Total Time Spent on Website  \\\n",
       "6190             0            0        -1.20                        -0.87   \n",
       "7073             0            0         0.97                        -0.62   \n",
       "4519             1            0        -1.20                        -0.87   \n",
       "607              0            0        -1.20                        -0.87   \n",
       "440              0            0         1.40                        -0.09   \n",
       "\n",
       "      Page Views Per Visit  Search  Newspaper Article  X Education Forums  \\\n",
       "6190                 -1.27       0                  0                   0   \n",
       "7073                  1.79       0                  0                   0   \n",
       "4519                 -1.27       0                  0                   0   \n",
       "607                  -1.27       0                  0                   0   \n",
       "440                   0.56       0                  0                   0   \n",
       "\n",
       "      Newspaper  Digital Advertisement  \\\n",
       "6190          0                      0   \n",
       "7073          0                      0   \n",
       "4519          0                      0   \n",
       "607           0                      0   \n",
       "440           0                      0   \n",
       "\n",
       "                        ...                     \\\n",
       "6190                    ...                      \n",
       "7073                    ...                      \n",
       "4519                    ...                      \n",
       "607                     ...                      \n",
       "440                     ...                      \n",
       "\n",
       "      Last Activity_Form Submitted on Website  \\\n",
       "6190                                        0   \n",
       "7073                                        0   \n",
       "4519                                        0   \n",
       "607                                         0   \n",
       "440                                         0   \n",
       "\n",
       "      Last Activity_Had a Phone Conversation  \\\n",
       "6190                                       0   \n",
       "7073                                       0   \n",
       "4519                                       0   \n",
       "607                                        0   \n",
       "440                                        0   \n",
       "\n",
       "      Last Activity_Olark Chat Conversation  \\\n",
       "6190                                      1   \n",
       "7073                                      0   \n",
       "4519                                      0   \n",
       "607                                       0   \n",
       "440                                       0   \n",
       "\n",
       "      Last Activity_Page Visited on Website  \\\n",
       "6190                                      0   \n",
       "7073                                      0   \n",
       "4519                                      0   \n",
       "607                                       0   \n",
       "440                                       0   \n",
       "\n",
       "      Last Activity_Resubscribed to emails  Last Activity_SMS Sent  \\\n",
       "6190                                     0                       0   \n",
       "7073                                     0                       0   \n",
       "4519                                     0                       0   \n",
       "607                                      0                       1   \n",
       "440                                      0                       0   \n",
       "\n",
       "      Last Activity_Unreachable  Last Activity_Unsubscribed  \\\n",
       "6190                          0                           0   \n",
       "7073                          0                           0   \n",
       "4519                          0                           0   \n",
       "607                           0                           0   \n",
       "440                           0                           0   \n",
       "\n",
       "      Last Activity_View in browser link Clicked  \\\n",
       "6190                                           0   \n",
       "7073                                           0   \n",
       "4519                                           0   \n",
       "607                                            0   \n",
       "440                                            0   \n",
       "\n",
       "      Last Activity_Visited Booth in Tradeshow  \n",
       "6190                                         0  \n",
       "7073                                         0  \n",
       "4519                                         0  \n",
       "607                                          0  \n",
       "440                                          0  \n",
       "\n",
       "[5 rows x 141 columns]"
      ]
     },
     "execution_count": 1193,
     "metadata": {},
     "output_type": "execute_result"
    }
   ],
   "source": [
    "X_test[['TotalVisits','Total Time Spent on Website','Page Views Per Visit']] = scaler.transform(X_test[['TotalVisits','Total Time Spent on Website','Page Views Per Visit']])\n",
    "X_test.head()"
   ]
  },
  {
   "cell_type": "code",
   "execution_count": 1194,
   "metadata": {},
   "outputs": [
    {
     "data": {
      "text/html": [
       "<div>\n",
       "<style scoped>\n",
       "    .dataframe tbody tr th:only-of-type {\n",
       "        vertical-align: middle;\n",
       "    }\n",
       "\n",
       "    .dataframe tbody tr th {\n",
       "        vertical-align: top;\n",
       "    }\n",
       "\n",
       "    .dataframe thead th {\n",
       "        text-align: right;\n",
       "    }\n",
       "</style>\n",
       "<table border=\"1\" class=\"dataframe\">\n",
       "  <thead>\n",
       "    <tr style=\"text-align: right;\">\n",
       "      <th></th>\n",
       "      <th>Lead Source_Welingak Website</th>\n",
       "      <th>Lead Quality_Worst</th>\n",
       "      <th>Asymmetrique Activity Index_03.Low</th>\n",
       "      <th>Tags_Already a student</th>\n",
       "      <th>Tags_Closed by Horizzon</th>\n",
       "      <th>Tags_Interested in other courses</th>\n",
       "      <th>Tags_Lost to EINS</th>\n",
       "      <th>Tags_Not doing further education</th>\n",
       "      <th>Tags_Ringing</th>\n",
       "      <th>Tags_Will revert after reading the email</th>\n",
       "      <th>Tags_invalid number</th>\n",
       "      <th>Tags_number not provided</th>\n",
       "      <th>Tags_switched off</th>\n",
       "      <th>Tags_wrong number given</th>\n",
       "      <th>Last Activity_SMS Sent</th>\n",
       "    </tr>\n",
       "  </thead>\n",
       "  <tbody>\n",
       "    <tr>\n",
       "      <th>6190</th>\n",
       "      <td>0</td>\n",
       "      <td>1</td>\n",
       "      <td>0</td>\n",
       "      <td>1</td>\n",
       "      <td>0</td>\n",
       "      <td>0</td>\n",
       "      <td>0</td>\n",
       "      <td>0</td>\n",
       "      <td>0</td>\n",
       "      <td>0</td>\n",
       "      <td>0</td>\n",
       "      <td>0</td>\n",
       "      <td>0</td>\n",
       "      <td>0</td>\n",
       "      <td>0</td>\n",
       "    </tr>\n",
       "    <tr>\n",
       "      <th>7073</th>\n",
       "      <td>0</td>\n",
       "      <td>0</td>\n",
       "      <td>0</td>\n",
       "      <td>0</td>\n",
       "      <td>0</td>\n",
       "      <td>0</td>\n",
       "      <td>0</td>\n",
       "      <td>0</td>\n",
       "      <td>0</td>\n",
       "      <td>0</td>\n",
       "      <td>0</td>\n",
       "      <td>0</td>\n",
       "      <td>0</td>\n",
       "      <td>0</td>\n",
       "      <td>0</td>\n",
       "    </tr>\n",
       "    <tr>\n",
       "      <th>4519</th>\n",
       "      <td>0</td>\n",
       "      <td>0</td>\n",
       "      <td>0</td>\n",
       "      <td>0</td>\n",
       "      <td>0</td>\n",
       "      <td>0</td>\n",
       "      <td>0</td>\n",
       "      <td>0</td>\n",
       "      <td>0</td>\n",
       "      <td>0</td>\n",
       "      <td>0</td>\n",
       "      <td>0</td>\n",
       "      <td>0</td>\n",
       "      <td>0</td>\n",
       "      <td>0</td>\n",
       "    </tr>\n",
       "    <tr>\n",
       "      <th>607</th>\n",
       "      <td>1</td>\n",
       "      <td>0</td>\n",
       "      <td>0</td>\n",
       "      <td>0</td>\n",
       "      <td>0</td>\n",
       "      <td>0</td>\n",
       "      <td>0</td>\n",
       "      <td>0</td>\n",
       "      <td>0</td>\n",
       "      <td>1</td>\n",
       "      <td>0</td>\n",
       "      <td>0</td>\n",
       "      <td>0</td>\n",
       "      <td>0</td>\n",
       "      <td>1</td>\n",
       "    </tr>\n",
       "    <tr>\n",
       "      <th>440</th>\n",
       "      <td>0</td>\n",
       "      <td>0</td>\n",
       "      <td>0</td>\n",
       "      <td>0</td>\n",
       "      <td>0</td>\n",
       "      <td>0</td>\n",
       "      <td>0</td>\n",
       "      <td>0</td>\n",
       "      <td>0</td>\n",
       "      <td>0</td>\n",
       "      <td>0</td>\n",
       "      <td>0</td>\n",
       "      <td>0</td>\n",
       "      <td>0</td>\n",
       "      <td>0</td>\n",
       "    </tr>\n",
       "  </tbody>\n",
       "</table>\n",
       "</div>"
      ],
      "text/plain": [
       "      Lead Source_Welingak Website  Lead Quality_Worst  \\\n",
       "6190                             0                   1   \n",
       "7073                             0                   0   \n",
       "4519                             0                   0   \n",
       "607                              1                   0   \n",
       "440                              0                   0   \n",
       "\n",
       "      Asymmetrique Activity Index_03.Low  Tags_Already a student  \\\n",
       "6190                                   0                       1   \n",
       "7073                                   0                       0   \n",
       "4519                                   0                       0   \n",
       "607                                    0                       0   \n",
       "440                                    0                       0   \n",
       "\n",
       "      Tags_Closed by Horizzon  Tags_Interested in other courses  \\\n",
       "6190                        0                                 0   \n",
       "7073                        0                                 0   \n",
       "4519                        0                                 0   \n",
       "607                         0                                 0   \n",
       "440                         0                                 0   \n",
       "\n",
       "      Tags_Lost to EINS  Tags_Not doing further education  Tags_Ringing  \\\n",
       "6190                  0                                 0             0   \n",
       "7073                  0                                 0             0   \n",
       "4519                  0                                 0             0   \n",
       "607                   0                                 0             0   \n",
       "440                   0                                 0             0   \n",
       "\n",
       "      Tags_Will revert after reading the email  Tags_invalid number  \\\n",
       "6190                                         0                    0   \n",
       "7073                                         0                    0   \n",
       "4519                                         0                    0   \n",
       "607                                          1                    0   \n",
       "440                                          0                    0   \n",
       "\n",
       "      Tags_number not provided  Tags_switched off  Tags_wrong number given  \\\n",
       "6190                         0                  0                        0   \n",
       "7073                         0                  0                        0   \n",
       "4519                         0                  0                        0   \n",
       "607                          0                  0                        0   \n",
       "440                          0                  0                        0   \n",
       "\n",
       "      Last Activity_SMS Sent  \n",
       "6190                       0  \n",
       "7073                       0  \n",
       "4519                       0  \n",
       "607                        1  \n",
       "440                        0  "
      ]
     },
     "execution_count": 1194,
     "metadata": {},
     "output_type": "execute_result"
    }
   ],
   "source": [
    "X_test = X_test[col]\n",
    "X_test.head()"
   ]
  },
  {
   "cell_type": "markdown",
   "metadata": {},
   "source": [
    "#### Adding the constant to avoid overfitting"
   ]
  },
  {
   "cell_type": "code",
   "execution_count": 1195,
   "metadata": {},
   "outputs": [],
   "source": [
    "X_test_sm = sm.add_constant(X_test)"
   ]
  },
  {
   "cell_type": "markdown",
   "metadata": {},
   "source": [
    "#### Making predictions on the test set"
   ]
  },
  {
   "cell_type": "code",
   "execution_count": 1196,
   "metadata": {},
   "outputs": [],
   "source": [
    "y_test_pred = res.predict(X_test_sm)"
   ]
  },
  {
   "cell_type": "code",
   "execution_count": 1197,
   "metadata": {},
   "outputs": [
    {
     "data": {
      "text/plain": [
       "6190   0.00\n",
       "7073   0.13\n",
       "4519   0.13\n",
       "607    1.00\n",
       "440    0.13\n",
       "4247   0.13\n",
       "7431   0.02\n",
       "726    0.56\n",
       "7300   0.02\n",
       "4046   0.13\n",
       "dtype: float64"
      ]
     },
     "execution_count": 1197,
     "metadata": {},
     "output_type": "execute_result"
    }
   ],
   "source": [
    "y_test_pred[:10]"
   ]
  },
  {
   "cell_type": "code",
   "execution_count": 1198,
   "metadata": {},
   "outputs": [],
   "source": [
    "# Converting y_pred to a dataframe which is an array\n",
    "y_pred_1 = pd.DataFrame(y_test_pred)"
   ]
  },
  {
   "cell_type": "code",
   "execution_count": 1199,
   "metadata": {},
   "outputs": [
    {
     "data": {
      "text/html": [
       "<div>\n",
       "<style scoped>\n",
       "    .dataframe tbody tr th:only-of-type {\n",
       "        vertical-align: middle;\n",
       "    }\n",
       "\n",
       "    .dataframe tbody tr th {\n",
       "        vertical-align: top;\n",
       "    }\n",
       "\n",
       "    .dataframe thead th {\n",
       "        text-align: right;\n",
       "    }\n",
       "</style>\n",
       "<table border=\"1\" class=\"dataframe\">\n",
       "  <thead>\n",
       "    <tr style=\"text-align: right;\">\n",
       "      <th></th>\n",
       "      <th>0</th>\n",
       "    </tr>\n",
       "  </thead>\n",
       "  <tbody>\n",
       "    <tr>\n",
       "      <th>6190</th>\n",
       "      <td>0.00</td>\n",
       "    </tr>\n",
       "    <tr>\n",
       "      <th>7073</th>\n",
       "      <td>0.13</td>\n",
       "    </tr>\n",
       "    <tr>\n",
       "      <th>4519</th>\n",
       "      <td>0.13</td>\n",
       "    </tr>\n",
       "    <tr>\n",
       "      <th>607</th>\n",
       "      <td>1.00</td>\n",
       "    </tr>\n",
       "    <tr>\n",
       "      <th>440</th>\n",
       "      <td>0.13</td>\n",
       "    </tr>\n",
       "  </tbody>\n",
       "</table>\n",
       "</div>"
      ],
      "text/plain": [
       "        0\n",
       "6190 0.00\n",
       "7073 0.13\n",
       "4519 0.13\n",
       "607  1.00\n",
       "440  0.13"
      ]
     },
     "execution_count": 1199,
     "metadata": {},
     "output_type": "execute_result"
    }
   ],
   "source": [
    "y_pred_1.head()"
   ]
  },
  {
   "cell_type": "code",
   "execution_count": 1200,
   "metadata": {},
   "outputs": [],
   "source": [
    "# Converting y_test to dataframe\n",
    "y_test_df = pd.DataFrame(y_test)"
   ]
  },
  {
   "cell_type": "code",
   "execution_count": 1201,
   "metadata": {},
   "outputs": [],
   "source": [
    "# Putting CustID to index\n",
    "y_test_df['LeadID'] = y_test_df.index"
   ]
  },
  {
   "cell_type": "code",
   "execution_count": 1202,
   "metadata": {},
   "outputs": [],
   "source": [
    "# Removing index for both dataframes to append them side by side \n",
    "y_pred_1.reset_index(drop=True, inplace=True)\n",
    "y_test_df.reset_index(drop=True, inplace=True)"
   ]
  },
  {
   "cell_type": "code",
   "execution_count": 1203,
   "metadata": {},
   "outputs": [],
   "source": [
    "# Appending y_test_df and y_pred_1\n",
    "y_pred_final = pd.concat([y_test_df, y_pred_1],axis=1)"
   ]
  },
  {
   "cell_type": "code",
   "execution_count": 1204,
   "metadata": {},
   "outputs": [
    {
     "data": {
      "text/html": [
       "<div>\n",
       "<style scoped>\n",
       "    .dataframe tbody tr th:only-of-type {\n",
       "        vertical-align: middle;\n",
       "    }\n",
       "\n",
       "    .dataframe tbody tr th {\n",
       "        vertical-align: top;\n",
       "    }\n",
       "\n",
       "    .dataframe thead th {\n",
       "        text-align: right;\n",
       "    }\n",
       "</style>\n",
       "<table border=\"1\" class=\"dataframe\">\n",
       "  <thead>\n",
       "    <tr style=\"text-align: right;\">\n",
       "      <th></th>\n",
       "      <th>Converted</th>\n",
       "      <th>LeadID</th>\n",
       "      <th>0</th>\n",
       "    </tr>\n",
       "  </thead>\n",
       "  <tbody>\n",
       "    <tr>\n",
       "      <th>0</th>\n",
       "      <td>0</td>\n",
       "      <td>6190</td>\n",
       "      <td>0.00</td>\n",
       "    </tr>\n",
       "    <tr>\n",
       "      <th>1</th>\n",
       "      <td>0</td>\n",
       "      <td>7073</td>\n",
       "      <td>0.13</td>\n",
       "    </tr>\n",
       "    <tr>\n",
       "      <th>2</th>\n",
       "      <td>0</td>\n",
       "      <td>4519</td>\n",
       "      <td>0.13</td>\n",
       "    </tr>\n",
       "    <tr>\n",
       "      <th>3</th>\n",
       "      <td>1</td>\n",
       "      <td>607</td>\n",
       "      <td>1.00</td>\n",
       "    </tr>\n",
       "    <tr>\n",
       "      <th>4</th>\n",
       "      <td>0</td>\n",
       "      <td>440</td>\n",
       "      <td>0.13</td>\n",
       "    </tr>\n",
       "  </tbody>\n",
       "</table>\n",
       "</div>"
      ],
      "text/plain": [
       "   Converted  LeadID    0\n",
       "0          0    6190 0.00\n",
       "1          0    7073 0.13\n",
       "2          0    4519 0.13\n",
       "3          1     607 1.00\n",
       "4          0     440 0.13"
      ]
     },
     "execution_count": 1204,
     "metadata": {},
     "output_type": "execute_result"
    }
   ],
   "source": [
    "y_pred_final.head()"
   ]
  },
  {
   "cell_type": "code",
   "execution_count": 1205,
   "metadata": {},
   "outputs": [],
   "source": [
    "# Renaming the column \n",
    "y_pred_final= y_pred_final.rename(columns={ 0 : 'Conversion_Prob'})"
   ]
  },
  {
   "cell_type": "code",
   "execution_count": 1206,
   "metadata": {},
   "outputs": [],
   "source": [
    "# Rearranging the columns\n",
    "y_pred_final = y_pred_final.reindex_axis(['LeadID','Converted','Conversion_Prob'], axis=1)"
   ]
  },
  {
   "cell_type": "code",
   "execution_count": 1207,
   "metadata": {},
   "outputs": [
    {
     "data": {
      "text/html": [
       "<div>\n",
       "<style scoped>\n",
       "    .dataframe tbody tr th:only-of-type {\n",
       "        vertical-align: middle;\n",
       "    }\n",
       "\n",
       "    .dataframe tbody tr th {\n",
       "        vertical-align: top;\n",
       "    }\n",
       "\n",
       "    .dataframe thead th {\n",
       "        text-align: right;\n",
       "    }\n",
       "</style>\n",
       "<table border=\"1\" class=\"dataframe\">\n",
       "  <thead>\n",
       "    <tr style=\"text-align: right;\">\n",
       "      <th></th>\n",
       "      <th>LeadID</th>\n",
       "      <th>Converted</th>\n",
       "      <th>Conversion_Prob</th>\n",
       "    </tr>\n",
       "  </thead>\n",
       "  <tbody>\n",
       "    <tr>\n",
       "      <th>0</th>\n",
       "      <td>6190</td>\n",
       "      <td>0</td>\n",
       "      <td>0.00</td>\n",
       "    </tr>\n",
       "    <tr>\n",
       "      <th>1</th>\n",
       "      <td>7073</td>\n",
       "      <td>0</td>\n",
       "      <td>0.13</td>\n",
       "    </tr>\n",
       "    <tr>\n",
       "      <th>2</th>\n",
       "      <td>4519</td>\n",
       "      <td>0</td>\n",
       "      <td>0.13</td>\n",
       "    </tr>\n",
       "    <tr>\n",
       "      <th>3</th>\n",
       "      <td>607</td>\n",
       "      <td>1</td>\n",
       "      <td>1.00</td>\n",
       "    </tr>\n",
       "    <tr>\n",
       "      <th>4</th>\n",
       "      <td>440</td>\n",
       "      <td>0</td>\n",
       "      <td>0.13</td>\n",
       "    </tr>\n",
       "  </tbody>\n",
       "</table>\n",
       "</div>"
      ],
      "text/plain": [
       "   LeadID  Converted  Conversion_Prob\n",
       "0    6190          0             0.00\n",
       "1    7073          0             0.13\n",
       "2    4519          0             0.13\n",
       "3     607          1             1.00\n",
       "4     440          0             0.13"
      ]
     },
     "execution_count": 1207,
     "metadata": {},
     "output_type": "execute_result"
    }
   ],
   "source": [
    "y_pred_final.head()"
   ]
  },
  {
   "cell_type": "code",
   "execution_count": 1208,
   "metadata": {},
   "outputs": [
    {
     "data": {
      "text/plain": [
       "(2573, 3)"
      ]
     },
     "execution_count": 1208,
     "metadata": {},
     "output_type": "execute_result"
    }
   ],
   "source": [
    "y_pred_final.shape"
   ]
  },
  {
   "cell_type": "markdown",
   "metadata": {},
   "source": [
    "#### Using the probability threshold value 0f 0.19 on the test dataset to predict if a lead will convert"
   ]
  },
  {
   "cell_type": "code",
   "execution_count": 1209,
   "metadata": {},
   "outputs": [],
   "source": [
    "y_pred_final['final_predicted'] = y_pred_final.Conversion_Prob.map(lambda x: 1 if x > 0.19 else 0)"
   ]
  },
  {
   "cell_type": "code",
   "execution_count": 1210,
   "metadata": {},
   "outputs": [
    {
     "data": {
      "text/html": [
       "<div>\n",
       "<style scoped>\n",
       "    .dataframe tbody tr th:only-of-type {\n",
       "        vertical-align: middle;\n",
       "    }\n",
       "\n",
       "    .dataframe tbody tr th {\n",
       "        vertical-align: top;\n",
       "    }\n",
       "\n",
       "    .dataframe thead th {\n",
       "        text-align: right;\n",
       "    }\n",
       "</style>\n",
       "<table border=\"1\" class=\"dataframe\">\n",
       "  <thead>\n",
       "    <tr style=\"text-align: right;\">\n",
       "      <th></th>\n",
       "      <th>LeadID</th>\n",
       "      <th>Converted</th>\n",
       "      <th>Conversion_Prob</th>\n",
       "      <th>final_predicted</th>\n",
       "    </tr>\n",
       "  </thead>\n",
       "  <tbody>\n",
       "    <tr>\n",
       "      <th>0</th>\n",
       "      <td>6190</td>\n",
       "      <td>0</td>\n",
       "      <td>0.00</td>\n",
       "      <td>0</td>\n",
       "    </tr>\n",
       "    <tr>\n",
       "      <th>1</th>\n",
       "      <td>7073</td>\n",
       "      <td>0</td>\n",
       "      <td>0.13</td>\n",
       "      <td>0</td>\n",
       "    </tr>\n",
       "    <tr>\n",
       "      <th>2</th>\n",
       "      <td>4519</td>\n",
       "      <td>0</td>\n",
       "      <td>0.13</td>\n",
       "      <td>0</td>\n",
       "    </tr>\n",
       "    <tr>\n",
       "      <th>3</th>\n",
       "      <td>607</td>\n",
       "      <td>1</td>\n",
       "      <td>1.00</td>\n",
       "      <td>1</td>\n",
       "    </tr>\n",
       "    <tr>\n",
       "      <th>4</th>\n",
       "      <td>440</td>\n",
       "      <td>0</td>\n",
       "      <td>0.13</td>\n",
       "      <td>0</td>\n",
       "    </tr>\n",
       "  </tbody>\n",
       "</table>\n",
       "</div>"
      ],
      "text/plain": [
       "   LeadID  Converted  Conversion_Prob  final_predicted\n",
       "0    6190          0             0.00                0\n",
       "1    7073          0             0.13                0\n",
       "2    4519          0             0.13                0\n",
       "3     607          1             1.00                1\n",
       "4     440          0             0.13                0"
      ]
     },
     "execution_count": 1210,
     "metadata": {},
     "output_type": "execute_result"
    }
   ],
   "source": [
    "y_pred_final.head()"
   ]
  },
  {
   "cell_type": "code",
   "execution_count": 1211,
   "metadata": {},
   "outputs": [
    {
     "data": {
      "text/plain": [
       "0.9086669257675865"
      ]
     },
     "execution_count": 1211,
     "metadata": {},
     "output_type": "execute_result"
    }
   ],
   "source": [
    "# Let's check the overall accuracy.\n",
    "acc_score=metrics.accuracy_score(y_pred_final.Converted, y_pred_final.final_predicted)\n",
    "acc_score"
   ]
  },
  {
   "cell_type": "code",
   "execution_count": 1212,
   "metadata": {},
   "outputs": [
    {
     "name": "stdout",
     "output_type": "stream",
     "text": [
      "[[1452  125]\n",
      " [ 110  886]]\n"
     ]
    }
   ],
   "source": [
    "confusion_test = metrics.confusion_matrix(y_pred_final.Converted, y_pred_final.final_predicted )\n",
    "print(confusion_test)"
   ]
  },
  {
   "cell_type": "markdown",
   "metadata": {},
   "source": [
    "**Confusion Matrix**"
   ]
  },
  {
   "cell_type": "code",
   "execution_count": 1213,
   "metadata": {},
   "outputs": [],
   "source": [
    "import matplotlib.pyplot as plt\n",
    "import seaborn as sns\n",
    "from sklearn import metrics"
   ]
  },
  {
   "cell_type": "code",
   "execution_count": 1214,
   "metadata": {},
   "outputs": [],
   "source": [
    "TP = confusion_test[1,1] # true positive \n",
    "TN = confusion_test[0,0] # true negatives\n",
    "FP = confusion_test[0,1] # false positives\n",
    "FN = confusion_test[1,0] # false negatives"
   ]
  },
  {
   "cell_type": "code",
   "execution_count": 1215,
   "metadata": {},
   "outputs": [
    {
     "data": {
      "text/plain": [
       "0.8895582329317269"
      ]
     },
     "execution_count": 1215,
     "metadata": {},
     "output_type": "execute_result"
    }
   ],
   "source": [
    "# Calculating sensitivity of our logistic regression model\n",
    "TP / float(TP+FN)"
   ]
  },
  {
   "cell_type": "code",
   "execution_count": 1216,
   "metadata": {},
   "outputs": [
    {
     "data": {
      "text/plain": [
       "0.9207355738744452"
      ]
     },
     "execution_count": 1216,
     "metadata": {},
     "output_type": "execute_result"
    }
   ],
   "source": [
    "# calculating specificity\n",
    "TN / float(TN+FP)"
   ]
  },
  {
   "cell_type": "code",
   "execution_count": 1217,
   "metadata": {},
   "outputs": [
    {
     "name": "stdout",
     "output_type": "stream",
     "text": [
      "0.07926442612555486\n"
     ]
    }
   ],
   "source": [
    "# Calculating false postive rate - predicting churn when customer does not have churned\n",
    "print(FP/ float(TN+FP))"
   ]
  },
  {
   "cell_type": "code",
   "execution_count": 1218,
   "metadata": {},
   "outputs": [
    {
     "name": "stdout",
     "output_type": "stream",
     "text": [
      "0.8763600395647874\n"
     ]
    }
   ],
   "source": [
    "# Positive predictive value \n",
    "print (TP / float(TP+FP))"
   ]
  },
  {
   "cell_type": "code",
   "execution_count": 1219,
   "metadata": {},
   "outputs": [
    {
     "name": "stdout",
     "output_type": "stream",
     "text": [
      "0.9295774647887324\n"
     ]
    }
   ],
   "source": [
    "# Negative predictive value\n",
    "print (TN / float(TN+ FN))"
   ]
  },
  {
   "cell_type": "code",
   "execution_count": 1220,
   "metadata": {},
   "outputs": [
    {
     "data": {
      "text/plain": [
       "0.8763600395647874"
      ]
     },
     "execution_count": 1220,
     "metadata": {},
     "output_type": "execute_result"
    }
   ],
   "source": [
    "Precision = confusion_test[1,1]/(confusion_test[0,1]+confusion_test[1,1])\n",
    "Precision"
   ]
  },
  {
   "cell_type": "code",
   "execution_count": 1221,
   "metadata": {},
   "outputs": [
    {
     "data": {
      "text/plain": [
       "0.8895582329317269"
      ]
     },
     "execution_count": 1221,
     "metadata": {},
     "output_type": "execute_result"
    }
   ],
   "source": [
    "Recall = confusion_test[1,1]/(confusion_test[1,0]+confusion_test[1,1])\n",
    "Recall"
   ]
  },
  {
   "cell_type": "markdown",
   "metadata": {},
   "source": [
    "**Calcualating F1 score**"
   ]
  },
  {
   "cell_type": "code",
   "execution_count": 1222,
   "metadata": {},
   "outputs": [
    {
     "data": {
      "text/plain": [
       "0.8829098156452416"
      ]
     },
     "execution_count": 1222,
     "metadata": {},
     "output_type": "execute_result"
    }
   ],
   "source": [
    "F1 = 2*(Precision*Recall)/(Precision+Recall)\n",
    "F1"
   ]
  },
  {
   "cell_type": "markdown",
   "metadata": {},
   "source": [
    "### Classification Report"
   ]
  },
  {
   "cell_type": "code",
   "execution_count": 1223,
   "metadata": {},
   "outputs": [
    {
     "name": "stdout",
     "output_type": "stream",
     "text": [
      "              precision    recall  f1-score   support\n",
      "\n",
      "           0       0.93      0.92      0.93      1577\n",
      "           1       0.88      0.89      0.88       996\n",
      "\n",
      "   micro avg       0.91      0.91      0.91      2573\n",
      "   macro avg       0.90      0.91      0.90      2573\n",
      "weighted avg       0.91      0.91      0.91      2573\n",
      "\n"
     ]
    }
   ],
   "source": [
    "from sklearn.metrics import classification_report\n",
    "print(classification_report(y_pred_final.Converted, y_pred_final.final_predicted))"
   ]
  },
  {
   "cell_type": "code",
   "execution_count": 1224,
   "metadata": {},
   "outputs": [
    {
     "name": "stdout",
     "output_type": "stream",
     "text": [
      "[0.84364061 0.89731622 0.90898483 0.91248541 0.91501746 0.92424242\n",
      " 0.92532089 0.92898719 0.92998833 0.9369895 ]\n",
      "0.9122972868451112\n"
     ]
    }
   ],
   "source": [
    "from sklearn.model_selection import cross_val_score\n",
    "\n",
    "lr = LogisticRegression(solver = 'lbfgs')\n",
    "scores = cross_val_score(lr, X, y, cv=10)\n",
    "scores.sort()\n",
    "accuracy = scores.mean()\n",
    "\n",
    "print(scores)\n",
    "print(accuracy)"
   ]
  },
  {
   "cell_type": "markdown",
   "metadata": {},
   "source": [
    "### Plotting the ROC Curve for Test Dataset"
   ]
  },
  {
   "cell_type": "code",
   "execution_count": 1225,
   "metadata": {},
   "outputs": [],
   "source": [
    "def draw_roc( actual, probs ):\n",
    "    fpr, tpr, thresholds = metrics.roc_curve( actual, probs,\n",
    "                                              drop_intermediate = False )\n",
    "    auc_score = metrics.roc_auc_score( actual, probs )\n",
    "    plt.figure(figsize=(5, 5))\n",
    "    plt.plot( fpr, tpr, label='ROC curve (area = %0.2f)' % auc_score )\n",
    "    plt.plot([0, 1], [0, 1], 'k--')\n",
    "    plt.xlim([0.0, 1.0])\n",
    "    plt.ylim([0.0, 1.05])\n",
    "    plt.xlabel('False Positive Rate or [1 - True Negative Rate]')\n",
    "    plt.ylabel('True Positive Rate')\n",
    "    plt.title('Receiver operating characteristic example')\n",
    "    plt.legend(loc=\"lower right\")\n",
    "    plt.show()\n",
    "\n",
    "    return fpr,tpr, thresholds"
   ]
  },
  {
   "cell_type": "code",
   "execution_count": 1226,
   "metadata": {},
   "outputs": [],
   "source": [
    "fpr, tpr, thresholds = metrics.roc_curve( y_pred_final.Converted, y_pred_final.Conversion_Prob, drop_intermediate = False )"
   ]
  },
  {
   "cell_type": "code",
   "execution_count": 1227,
   "metadata": {},
   "outputs": [
    {
     "data": {
      "image/png": "[encoded data removed]",
      "text/plain": [
       "<Figure size 360x360 with 1 Axes>"
      ]
     },
     "metadata": {},
     "output_type": "display_data"
    },
    {
     "data": {
      "text/plain": [
       "(array([0.        , 0.        , 0.        , 0.        , 0.        ,\n",
       "        0.        , 0.        , 0.        , 0.        , 0.00253646,\n",
       "        0.00253646, 0.00253646, 0.00253646, 0.00317058, 0.01268231,\n",
       "        0.01268231, 0.01395054, 0.01395054, 0.01395054, 0.01395054,\n",
       "        0.07736208, 0.07926443, 0.08053266, 0.49651237, 0.4977806 ,\n",
       "        0.49841471, 0.50031706, 0.57006975, 0.5884591 , 0.64870006,\n",
       "        0.64933418, 0.67977172, 0.6873811 , 0.70196576, 0.72606214,\n",
       "        0.72986684, 0.73050095, 0.86239696, 0.86366519, 0.87000634,\n",
       "        0.8890298 , 0.88966392, 0.90171211, 0.90298034, 0.90488269,\n",
       "        0.9055168 , 0.917565  , 0.92517438, 0.97400127, 0.97463538,\n",
       "        0.97844008, 0.97907419, 0.97970831, 0.98034242, 0.983513  ,\n",
       "        0.98478123, 0.98668358, 0.98985415, 0.99112238, 0.99429296,\n",
       "        0.99556119, 0.99682942, 0.99746354, 0.99936588, 1.        ]),\n",
       " array([0.        , 0.00200803, 0.0060241 , 0.00803213, 0.00903614,\n",
       "        0.01305221, 0.01506024, 0.02610442, 0.03614458, 0.312249  ,\n",
       "        0.33032129, 0.37148594, 0.45481928, 0.45481928, 0.72791165,\n",
       "        0.73995984, 0.74196787, 0.74297189, 0.74497992, 0.74899598,\n",
       "        0.88855422, 0.88955823, 0.89056225, 0.98694779, 0.98694779,\n",
       "        0.98694779, 0.98694779, 0.9939759 , 0.99497992, 0.99497992,\n",
       "        0.99497992, 0.99598394, 0.99598394, 0.99598394, 0.99698795,\n",
       "        0.99698795, 0.99698795, 0.99899598, 0.99899598, 0.99899598,\n",
       "        0.99899598, 0.99899598, 0.99899598, 0.99899598, 0.99899598,\n",
       "        0.99899598, 0.99899598, 0.99899598, 0.99899598, 0.99899598,\n",
       "        0.99899598, 0.99899598, 0.99899598, 0.99899598, 0.99899598,\n",
       "        0.99899598, 0.99899598, 0.99899598, 1.        , 1.        ,\n",
       "        1.        , 1.        , 1.        , 1.        , 1.        ]),\n",
       " array([1.99998891e+00, 9.99988906e-01, 9.99988661e-01, 9.99936555e-01,\n",
       "        9.99905618e-01, 9.99903534e-01, 9.99460448e-01, 9.98814898e-01,\n",
       "        9.98788764e-01, 9.93259832e-01, 9.92590004e-01, 9.90005775e-01,\n",
       "        9.89787372e-01, 9.54348452e-01, 9.45415277e-01, 9.40276622e-01,\n",
       "        9.33565044e-01, 9.32197721e-01, 8.98885040e-01, 7.10734537e-01,\n",
       "        5.56044900e-01, 1.95888738e-01, 1.50870423e-01, 1.28318175e-01,\n",
       "        1.05398566e-01, 1.01043759e-01, 9.49030627e-02, 6.68769404e-02,\n",
       "        2.82236231e-02, 2.78350905e-02, 2.13944502e-02, 2.04556653e-02,\n",
       "        1.36581520e-02, 1.30385858e-02, 1.21737691e-02, 1.00647637e-02,\n",
       "        9.32218465e-03, 8.35321872e-03, 4.10317557e-03, 4.04530811e-03,\n",
       "        3.40193365e-03, 2.59965712e-03, 2.56293935e-03, 1.96052114e-03,\n",
       "        1.87058091e-03, 1.74520014e-03, 1.24115280e-03, 1.19354147e-03,\n",
       "        1.10475146e-03, 7.55385760e-04, 4.84010598e-04, 3.64379451e-04,\n",
       "        1.76257411e-04, 1.56868531e-04, 9.56234318e-11, 7.20464992e-11,\n",
       "        6.32294275e-11, 1.12388972e-11, 8.58152470e-12, 8.46783244e-12,\n",
       "        7.43153661e-12, 5.67439260e-12, 1.59434765e-12, 1.00861130e-12,\n",
       "        6.66927695e-13]))"
      ]
     },
     "execution_count": 1227,
     "metadata": {},
     "output_type": "execute_result"
    }
   ],
   "source": [
    "draw_roc(y_pred_final.Converted, y_pred_final.Conversion_Prob)"
   ]
  },
  {
   "cell_type": "markdown",
   "metadata": {},
   "source": [
    "### Calculating the Area Under the Curve(GINI)"
   ]
  },
  {
   "cell_type": "code",
   "execution_count": 1228,
   "metadata": {},
   "outputs": [],
   "source": [
    "def auc_val(fpr,tpr):\n",
    "    AreaUnderCurve = 0.0\n",
    "    for i in range(len(fpr)-1):\n",
    "        AreaUnderCurve += (fpr[i+1]-fpr[i]) * (tpr[i+1]+tpr[i])\n",
    "    AreaUnderCurve *= 0.5\n",
    "    return AreaUnderCurve"
   ]
  },
  {
   "cell_type": "code",
   "execution_count": 1229,
   "metadata": {},
   "outputs": [
    {
     "data": {
      "text/plain": [
       "0.9541851616994298"
      ]
     },
     "execution_count": 1229,
     "metadata": {},
     "output_type": "execute_result"
    }
   ],
   "source": [
    "auc = auc_val(fpr,tpr)\n",
    "auc"
   ]
  },
  {
   "cell_type": "markdown",
   "metadata": {},
   "source": [
    "**Since Area under Curve is approx 95% ,the model is best fit model**"
   ]
  },
  {
   "cell_type": "markdown",
   "metadata": {},
   "source": [
    "### Step 11 Lead Score Calcualtion"
   ]
  },
  {
   "cell_type": "markdown",
   "metadata": {},
   "source": [
    "### Lead Score = 100 * ConversionProbability\n",
    "####  calculated for all the leads from the original dataset "
   ]
  },
  {
   "cell_type": "code",
   "execution_count": 1230,
   "metadata": {},
   "outputs": [
    {
     "data": {
      "text/html": [
       "<div>\n",
       "<style scoped>\n",
       "    .dataframe tbody tr th:only-of-type {\n",
       "        vertical-align: middle;\n",
       "    }\n",
       "\n",
       "    .dataframe tbody tr th {\n",
       "        vertical-align: top;\n",
       "    }\n",
       "\n",
       "    .dataframe thead th {\n",
       "        text-align: right;\n",
       "    }\n",
       "</style>\n",
       "<table border=\"1\" class=\"dataframe\">\n",
       "  <thead>\n",
       "    <tr style=\"text-align: right;\">\n",
       "      <th></th>\n",
       "      <th>LeadID</th>\n",
       "      <th>Converted</th>\n",
       "      <th>Conversion_Prob</th>\n",
       "      <th>final_predicted</th>\n",
       "    </tr>\n",
       "  </thead>\n",
       "  <tbody>\n",
       "    <tr>\n",
       "      <th>0</th>\n",
       "      <td>6190</td>\n",
       "      <td>0</td>\n",
       "      <td>0.00</td>\n",
       "      <td>0</td>\n",
       "    </tr>\n",
       "    <tr>\n",
       "      <th>1</th>\n",
       "      <td>7073</td>\n",
       "      <td>0</td>\n",
       "      <td>0.13</td>\n",
       "      <td>0</td>\n",
       "    </tr>\n",
       "    <tr>\n",
       "      <th>2</th>\n",
       "      <td>4519</td>\n",
       "      <td>0</td>\n",
       "      <td>0.13</td>\n",
       "      <td>0</td>\n",
       "    </tr>\n",
       "    <tr>\n",
       "      <th>3</th>\n",
       "      <td>607</td>\n",
       "      <td>1</td>\n",
       "      <td>1.00</td>\n",
       "      <td>1</td>\n",
       "    </tr>\n",
       "    <tr>\n",
       "      <th>4</th>\n",
       "      <td>440</td>\n",
       "      <td>0</td>\n",
       "      <td>0.13</td>\n",
       "      <td>0</td>\n",
       "    </tr>\n",
       "  </tbody>\n",
       "</table>\n",
       "</div>"
      ],
      "text/plain": [
       "   LeadID  Converted  Conversion_Prob  final_predicted\n",
       "0    6190          0             0.00                0\n",
       "1    7073          0             0.13                0\n",
       "2    4519          0             0.13                0\n",
       "3     607          1             1.00                1\n",
       "4     440          0             0.13                0"
      ]
     },
     "execution_count": 1230,
     "metadata": {},
     "output_type": "execute_result"
    }
   ],
   "source": [
    "# Selecting the test dataset along with the Conversion Probability and final predicted value for 'Converted'\n",
    "leads_test_pred = y_pred_final.copy()\n",
    "leads_test_pred.head()"
   ]
  },
  {
   "cell_type": "code",
   "execution_count": 1231,
   "metadata": {},
   "outputs": [
    {
     "data": {
      "text/html": [
       "<div>\n",
       "<style scoped>\n",
       "    .dataframe tbody tr th:only-of-type {\n",
       "        vertical-align: middle;\n",
       "    }\n",
       "\n",
       "    .dataframe tbody tr th {\n",
       "        vertical-align: top;\n",
       "    }\n",
       "\n",
       "    .dataframe thead th {\n",
       "        text-align: right;\n",
       "    }\n",
       "</style>\n",
       "<table border=\"1\" class=\"dataframe\">\n",
       "  <thead>\n",
       "    <tr style=\"text-align: right;\">\n",
       "      <th></th>\n",
       "      <th>Converted</th>\n",
       "      <th>Conversion_Prob</th>\n",
       "      <th>LeadID</th>\n",
       "      <th>predicted</th>\n",
       "      <th>0.0</th>\n",
       "      <th>0.1</th>\n",
       "      <th>0.2</th>\n",
       "      <th>0.3</th>\n",
       "      <th>0.4</th>\n",
       "      <th>0.5</th>\n",
       "      <th>0.6</th>\n",
       "      <th>0.7</th>\n",
       "      <th>0.8</th>\n",
       "      <th>0.9</th>\n",
       "      <th>final_predicted</th>\n",
       "    </tr>\n",
       "  </thead>\n",
       "  <tbody>\n",
       "    <tr>\n",
       "      <th>0</th>\n",
       "      <td>0</td>\n",
       "      <td>0.07</td>\n",
       "      <td>8529</td>\n",
       "      <td>0</td>\n",
       "      <td>1</td>\n",
       "      <td>0</td>\n",
       "      <td>0</td>\n",
       "      <td>0</td>\n",
       "      <td>0</td>\n",
       "      <td>0</td>\n",
       "      <td>0</td>\n",
       "      <td>0</td>\n",
       "      <td>0</td>\n",
       "      <td>0</td>\n",
       "      <td>0</td>\n",
       "    </tr>\n",
       "    <tr>\n",
       "      <th>1</th>\n",
       "      <td>0</td>\n",
       "      <td>0.01</td>\n",
       "      <td>7331</td>\n",
       "      <td>0</td>\n",
       "      <td>1</td>\n",
       "      <td>0</td>\n",
       "      <td>0</td>\n",
       "      <td>0</td>\n",
       "      <td>0</td>\n",
       "      <td>0</td>\n",
       "      <td>0</td>\n",
       "      <td>0</td>\n",
       "      <td>0</td>\n",
       "      <td>0</td>\n",
       "      <td>0</td>\n",
       "    </tr>\n",
       "    <tr>\n",
       "      <th>2</th>\n",
       "      <td>1</td>\n",
       "      <td>0.56</td>\n",
       "      <td>7688</td>\n",
       "      <td>1</td>\n",
       "      <td>1</td>\n",
       "      <td>1</td>\n",
       "      <td>1</td>\n",
       "      <td>1</td>\n",
       "      <td>1</td>\n",
       "      <td>1</td>\n",
       "      <td>0</td>\n",
       "      <td>0</td>\n",
       "      <td>0</td>\n",
       "      <td>0</td>\n",
       "      <td>1</td>\n",
       "    </tr>\n",
       "    <tr>\n",
       "      <th>3</th>\n",
       "      <td>0</td>\n",
       "      <td>0.13</td>\n",
       "      <td>92</td>\n",
       "      <td>0</td>\n",
       "      <td>1</td>\n",
       "      <td>1</td>\n",
       "      <td>0</td>\n",
       "      <td>0</td>\n",
       "      <td>0</td>\n",
       "      <td>0</td>\n",
       "      <td>0</td>\n",
       "      <td>0</td>\n",
       "      <td>0</td>\n",
       "      <td>0</td>\n",
       "      <td>0</td>\n",
       "    </tr>\n",
       "    <tr>\n",
       "      <th>4</th>\n",
       "      <td>0</td>\n",
       "      <td>0.13</td>\n",
       "      <td>4908</td>\n",
       "      <td>0</td>\n",
       "      <td>1</td>\n",
       "      <td>1</td>\n",
       "      <td>0</td>\n",
       "      <td>0</td>\n",
       "      <td>0</td>\n",
       "      <td>0</td>\n",
       "      <td>0</td>\n",
       "      <td>0</td>\n",
       "      <td>0</td>\n",
       "      <td>0</td>\n",
       "      <td>0</td>\n",
       "    </tr>\n",
       "  </tbody>\n",
       "</table>\n",
       "</div>"
      ],
      "text/plain": [
       "   Converted  Conversion_Prob  LeadID  predicted  0.0  0.1  0.2  0.3  0.4  \\\n",
       "0          0             0.07    8529          0    1    0    0    0    0   \n",
       "1          0             0.01    7331          0    1    0    0    0    0   \n",
       "2          1             0.56    7688          1    1    1    1    1    1   \n",
       "3          0             0.13      92          0    1    1    0    0    0   \n",
       "4          0             0.13    4908          0    1    1    0    0    0   \n",
       "\n",
       "   0.5  0.6  0.7  0.8  0.9  final_predicted  \n",
       "0    0    0    0    0    0                0  \n",
       "1    0    0    0    0    0                0  \n",
       "2    1    0    0    0    0                1  \n",
       "3    0    0    0    0    0                0  \n",
       "4    0    0    0    0    0                0  "
      ]
     },
     "execution_count": 1231,
     "metadata": {},
     "output_type": "execute_result"
    }
   ],
   "source": [
    "# Selecting the train dataset along with the Conversion Probability and final predicted value for 'Converted'\n",
    "leads_train_pred = y_train_pred_final.copy()\n",
    "leads_train_pred.head()"
   ]
  },
  {
   "cell_type": "code",
   "execution_count": 1232,
   "metadata": {},
   "outputs": [
    {
     "data": {
      "text/html": [
       "<div>\n",
       "<style scoped>\n",
       "    .dataframe tbody tr th:only-of-type {\n",
       "        vertical-align: middle;\n",
       "    }\n",
       "\n",
       "    .dataframe tbody tr th {\n",
       "        vertical-align: top;\n",
       "    }\n",
       "\n",
       "    .dataframe thead th {\n",
       "        text-align: right;\n",
       "    }\n",
       "</style>\n",
       "<table border=\"1\" class=\"dataframe\">\n",
       "  <thead>\n",
       "    <tr style=\"text-align: right;\">\n",
       "      <th></th>\n",
       "      <th>LeadID</th>\n",
       "      <th>Converted</th>\n",
       "      <th>Conversion_Prob</th>\n",
       "      <th>final_predicted</th>\n",
       "    </tr>\n",
       "  </thead>\n",
       "  <tbody>\n",
       "    <tr>\n",
       "      <th>0</th>\n",
       "      <td>8529</td>\n",
       "      <td>0</td>\n",
       "      <td>0.07</td>\n",
       "      <td>0</td>\n",
       "    </tr>\n",
       "    <tr>\n",
       "      <th>1</th>\n",
       "      <td>7331</td>\n",
       "      <td>0</td>\n",
       "      <td>0.01</td>\n",
       "      <td>0</td>\n",
       "    </tr>\n",
       "    <tr>\n",
       "      <th>2</th>\n",
       "      <td>7688</td>\n",
       "      <td>1</td>\n",
       "      <td>0.56</td>\n",
       "      <td>1</td>\n",
       "    </tr>\n",
       "    <tr>\n",
       "      <th>3</th>\n",
       "      <td>92</td>\n",
       "      <td>0</td>\n",
       "      <td>0.13</td>\n",
       "      <td>0</td>\n",
       "    </tr>\n",
       "    <tr>\n",
       "      <th>4</th>\n",
       "      <td>4908</td>\n",
       "      <td>0</td>\n",
       "      <td>0.13</td>\n",
       "      <td>0</td>\n",
       "    </tr>\n",
       "  </tbody>\n",
       "</table>\n",
       "</div>"
      ],
      "text/plain": [
       "   LeadID  Converted  Conversion_Prob  final_predicted\n",
       "0    8529          0             0.07                0\n",
       "1    7331          0             0.01                0\n",
       "2    7688          1             0.56                1\n",
       "3      92          0             0.13                0\n",
       "4    4908          0             0.13                0"
      ]
     },
     "execution_count": 1232,
     "metadata": {},
     "output_type": "execute_result"
    }
   ],
   "source": [
    "# Dropping unnecessary columns from train dataset\n",
    "leads_train_pred = leads_train_pred[['LeadID','Converted','Conversion_Prob','final_predicted']]\n",
    "leads_train_pred.head()"
   ]
  },
  {
   "cell_type": "markdown",
   "metadata": {},
   "source": [
    "### Concatenating the train and the test dataset with the Conversion Probabilities"
   ]
  },
  {
   "cell_type": "code",
   "execution_count": 1233,
   "metadata": {},
   "outputs": [
    {
     "data": {
      "text/html": [
       "<div>\n",
       "<style scoped>\n",
       "    .dataframe tbody tr th:only-of-type {\n",
       "        vertical-align: middle;\n",
       "    }\n",
       "\n",
       "    .dataframe tbody tr th {\n",
       "        vertical-align: top;\n",
       "    }\n",
       "\n",
       "    .dataframe thead th {\n",
       "        text-align: right;\n",
       "    }\n",
       "</style>\n",
       "<table border=\"1\" class=\"dataframe\">\n",
       "  <thead>\n",
       "    <tr style=\"text-align: right;\">\n",
       "      <th></th>\n",
       "      <th>LeadID</th>\n",
       "      <th>Converted</th>\n",
       "      <th>Conversion_Prob</th>\n",
       "      <th>final_predicted</th>\n",
       "    </tr>\n",
       "  </thead>\n",
       "  <tbody>\n",
       "    <tr>\n",
       "      <th>0</th>\n",
       "      <td>8529</td>\n",
       "      <td>0</td>\n",
       "      <td>0.07</td>\n",
       "      <td>0</td>\n",
       "    </tr>\n",
       "    <tr>\n",
       "      <th>1</th>\n",
       "      <td>7331</td>\n",
       "      <td>0</td>\n",
       "      <td>0.01</td>\n",
       "      <td>0</td>\n",
       "    </tr>\n",
       "    <tr>\n",
       "      <th>2</th>\n",
       "      <td>7688</td>\n",
       "      <td>1</td>\n",
       "      <td>0.56</td>\n",
       "      <td>1</td>\n",
       "    </tr>\n",
       "    <tr>\n",
       "      <th>3</th>\n",
       "      <td>92</td>\n",
       "      <td>0</td>\n",
       "      <td>0.13</td>\n",
       "      <td>0</td>\n",
       "    </tr>\n",
       "    <tr>\n",
       "      <th>4</th>\n",
       "      <td>4908</td>\n",
       "      <td>0</td>\n",
       "      <td>0.13</td>\n",
       "      <td>0</td>\n",
       "    </tr>\n",
       "  </tbody>\n",
       "</table>\n",
       "</div>"
      ],
      "text/plain": [
       "   LeadID  Converted  Conversion_Prob  final_predicted\n",
       "0    8529          0             0.07                0\n",
       "1    7331          0             0.01                0\n",
       "2    7688          1             0.56                1\n",
       "3      92          0             0.13                0\n",
       "4    4908          0             0.13                0"
      ]
     },
     "execution_count": 1233,
     "metadata": {},
     "output_type": "execute_result"
    }
   ],
   "source": [
    "# Concatenating the 2 dataframes train and test along the rows with the append() function\n",
    "lead_full_pred = leads_train_pred.append(leads_test_pred)\n",
    "lead_full_pred.head()"
   ]
  },
  {
   "cell_type": "code",
   "execution_count": 1234,
   "metadata": {},
   "outputs": [
    {
     "name": "stdout",
     "output_type": "stream",
     "text": [
      "(6002, 4)\n",
      "(2573, 4)\n",
      "(8575, 4)\n"
     ]
    }
   ],
   "source": [
    "# Inspecting the shape of the final dataframe and the test and train dataframes\n",
    "print(leads_train_pred.shape)\n",
    "print(leads_test_pred.shape)\n",
    "print(lead_full_pred.shape)"
   ]
  },
  {
   "cell_type": "code",
   "execution_count": 1235,
   "metadata": {},
   "outputs": [
    {
     "data": {
      "text/plain": [
       "8575"
      ]
     },
     "execution_count": 1235,
     "metadata": {},
     "output_type": "execute_result"
    }
   ],
   "source": [
    "# Ensuring the LeadIDs are unique for each lead in the finl dataframe\n",
    "len(lead_full_pred['LeadID'].unique().tolist())"
   ]
  },
  {
   "cell_type": "code",
   "execution_count": 1236,
   "metadata": {},
   "outputs": [
    {
     "data": {
      "text/html": [
       "<div>\n",
       "<style scoped>\n",
       "    .dataframe tbody tr th:only-of-type {\n",
       "        vertical-align: middle;\n",
       "    }\n",
       "\n",
       "    .dataframe tbody tr th {\n",
       "        vertical-align: top;\n",
       "    }\n",
       "\n",
       "    .dataframe thead th {\n",
       "        text-align: right;\n",
       "    }\n",
       "</style>\n",
       "<table border=\"1\" class=\"dataframe\">\n",
       "  <thead>\n",
       "    <tr style=\"text-align: right;\">\n",
       "      <th></th>\n",
       "      <th>LeadID</th>\n",
       "      <th>Converted</th>\n",
       "      <th>Conversion_Prob</th>\n",
       "      <th>final_predicted</th>\n",
       "      <th>Lead_Score</th>\n",
       "    </tr>\n",
       "  </thead>\n",
       "  <tbody>\n",
       "    <tr>\n",
       "      <th>0</th>\n",
       "      <td>8529</td>\n",
       "      <td>0</td>\n",
       "      <td>0.07</td>\n",
       "      <td>0</td>\n",
       "      <td>7</td>\n",
       "    </tr>\n",
       "    <tr>\n",
       "      <th>1</th>\n",
       "      <td>7331</td>\n",
       "      <td>0</td>\n",
       "      <td>0.01</td>\n",
       "      <td>0</td>\n",
       "      <td>1</td>\n",
       "    </tr>\n",
       "    <tr>\n",
       "      <th>2</th>\n",
       "      <td>7688</td>\n",
       "      <td>1</td>\n",
       "      <td>0.56</td>\n",
       "      <td>1</td>\n",
       "      <td>56</td>\n",
       "    </tr>\n",
       "    <tr>\n",
       "      <th>3</th>\n",
       "      <td>92</td>\n",
       "      <td>0</td>\n",
       "      <td>0.13</td>\n",
       "      <td>0</td>\n",
       "      <td>13</td>\n",
       "    </tr>\n",
       "    <tr>\n",
       "      <th>4</th>\n",
       "      <td>4908</td>\n",
       "      <td>0</td>\n",
       "      <td>0.13</td>\n",
       "      <td>0</td>\n",
       "      <td>13</td>\n",
       "    </tr>\n",
       "  </tbody>\n",
       "</table>\n",
       "</div>"
      ],
      "text/plain": [
       "   LeadID  Converted  Conversion_Prob  final_predicted  Lead_Score\n",
       "0    8529          0             0.07                0           7\n",
       "1    7331          0             0.01                0           1\n",
       "2    7688          1             0.56                1          56\n",
       "3      92          0             0.13                0          13\n",
       "4    4908          0             0.13                0          13"
      ]
     },
     "execution_count": 1236,
     "metadata": {},
     "output_type": "execute_result"
    }
   ],
   "source": [
    "# Calculating the Lead Score value\n",
    "# Lead Score = 100 * Conversion_Prob\n",
    "lead_full_pred['Lead_Score'] = lead_full_pred['Conversion_Prob'].apply(lambda x : round(x*100))\n",
    "lead_full_pred.head()"
   ]
  },
  {
   "cell_type": "code",
   "execution_count": 1237,
   "metadata": {},
   "outputs": [
    {
     "data": {
      "text/plain": [
       "9239"
      ]
     },
     "execution_count": 1237,
     "metadata": {},
     "output_type": "execute_result"
    }
   ],
   "source": [
    "# Inspecing the max LeadID\n",
    "lead_full_pred.LeadID.max()"
   ]
  },
  {
   "cell_type": "code",
   "execution_count": 1238,
   "metadata": {},
   "outputs": [
    {
     "data": {
      "text/html": [
       "<div>\n",
       "<style scoped>\n",
       "    .dataframe tbody tr th:only-of-type {\n",
       "        vertical-align: middle;\n",
       "    }\n",
       "\n",
       "    .dataframe tbody tr th {\n",
       "        vertical-align: top;\n",
       "    }\n",
       "\n",
       "    .dataframe thead th {\n",
       "        text-align: right;\n",
       "    }\n",
       "</style>\n",
       "<table border=\"1\" class=\"dataframe\">\n",
       "  <thead>\n",
       "    <tr style=\"text-align: right;\">\n",
       "      <th></th>\n",
       "      <th>Converted</th>\n",
       "      <th>Conversion_Prob</th>\n",
       "      <th>final_predicted</th>\n",
       "      <th>Lead_Score</th>\n",
       "    </tr>\n",
       "    <tr>\n",
       "      <th>LeadID</th>\n",
       "      <th></th>\n",
       "      <th></th>\n",
       "      <th></th>\n",
       "      <th></th>\n",
       "    </tr>\n",
       "  </thead>\n",
       "  <tbody>\n",
       "    <tr>\n",
       "      <th>0</th>\n",
       "      <td>0</td>\n",
       "      <td>0.03</td>\n",
       "      <td>0</td>\n",
       "      <td>3</td>\n",
       "    </tr>\n",
       "    <tr>\n",
       "      <th>1</th>\n",
       "      <td>0</td>\n",
       "      <td>0.01</td>\n",
       "      <td>0</td>\n",
       "      <td>1</td>\n",
       "    </tr>\n",
       "    <tr>\n",
       "      <th>2</th>\n",
       "      <td>1</td>\n",
       "      <td>0.95</td>\n",
       "      <td>1</td>\n",
       "      <td>95</td>\n",
       "    </tr>\n",
       "    <tr>\n",
       "      <th>3</th>\n",
       "      <td>0</td>\n",
       "      <td>0.01</td>\n",
       "      <td>0</td>\n",
       "      <td>1</td>\n",
       "    </tr>\n",
       "    <tr>\n",
       "      <th>4</th>\n",
       "      <td>1</td>\n",
       "      <td>0.95</td>\n",
       "      <td>1</td>\n",
       "      <td>95</td>\n",
       "    </tr>\n",
       "  </tbody>\n",
       "</table>\n",
       "</div>"
      ],
      "text/plain": [
       "        Converted  Conversion_Prob  final_predicted  Lead_Score\n",
       "LeadID                                                         \n",
       "0               0             0.03                0           3\n",
       "1               0             0.01                0           1\n",
       "2               1             0.95                1          95\n",
       "3               0             0.01                0           1\n",
       "4               1             0.95                1          95"
      ]
     },
     "execution_count": 1238,
     "metadata": {},
     "output_type": "execute_result"
    }
   ],
   "source": [
    "# Making the LeadID column as index\n",
    "# We willlater join it with the original_leads dataframe based on index\n",
    "lead_full_pred = lead_full_pred.set_index('LeadID').sort_index(axis = 0, ascending = True)\n",
    "lead_full_pred.head()"
   ]
  },
  {
   "cell_type": "code",
   "execution_count": 1239,
   "metadata": {},
   "outputs": [
    {
     "data": {
      "text/html": [
       "<div>\n",
       "<style scoped>\n",
       "    .dataframe tbody tr th:only-of-type {\n",
       "        vertical-align: middle;\n",
       "    }\n",
       "\n",
       "    .dataframe tbody tr th {\n",
       "        vertical-align: top;\n",
       "    }\n",
       "\n",
       "    .dataframe thead th {\n",
       "        text-align: right;\n",
       "    }\n",
       "</style>\n",
       "<table border=\"1\" class=\"dataframe\">\n",
       "  <thead>\n",
       "    <tr style=\"text-align: right;\">\n",
       "      <th></th>\n",
       "      <th>Lead Number</th>\n",
       "    </tr>\n",
       "  </thead>\n",
       "  <tbody>\n",
       "    <tr>\n",
       "      <th>0</th>\n",
       "      <td>660737</td>\n",
       "    </tr>\n",
       "    <tr>\n",
       "      <th>1</th>\n",
       "      <td>660728</td>\n",
       "    </tr>\n",
       "    <tr>\n",
       "      <th>2</th>\n",
       "      <td>660727</td>\n",
       "    </tr>\n",
       "    <tr>\n",
       "      <th>3</th>\n",
       "      <td>660719</td>\n",
       "    </tr>\n",
       "    <tr>\n",
       "      <th>4</th>\n",
       "      <td>660681</td>\n",
       "    </tr>\n",
       "  </tbody>\n",
       "</table>\n",
       "</div>"
      ],
      "text/plain": [
       "   Lead Number\n",
       "0       660737\n",
       "1       660728\n",
       "2       660727\n",
       "3       660719\n",
       "4       660681"
      ]
     },
     "execution_count": 1239,
     "metadata": {},
     "output_type": "execute_result"
    }
   ],
   "source": [
    "# Slicing the Lead Number column from original_leads dataframe\n",
    "original_leads = original_leads[['Lead Number']]\n",
    "original_leads.head()"
   ]
  },
  {
   "cell_type": "code",
   "execution_count": 1240,
   "metadata": {},
   "outputs": [
    {
     "data": {
      "text/html": [
       "<div>\n",
       "<style scoped>\n",
       "    .dataframe tbody tr th:only-of-type {\n",
       "        vertical-align: middle;\n",
       "    }\n",
       "\n",
       "    .dataframe tbody tr th {\n",
       "        vertical-align: top;\n",
       "    }\n",
       "\n",
       "    .dataframe thead th {\n",
       "        text-align: right;\n",
       "    }\n",
       "</style>\n",
       "<table border=\"1\" class=\"dataframe\">\n",
       "  <thead>\n",
       "    <tr style=\"text-align: right;\">\n",
       "      <th></th>\n",
       "      <th>Lead Number</th>\n",
       "      <th>Converted</th>\n",
       "      <th>Conversion_Prob</th>\n",
       "      <th>final_predicted</th>\n",
       "      <th>Lead_Score</th>\n",
       "    </tr>\n",
       "    <tr>\n",
       "      <th>LeadID</th>\n",
       "      <th></th>\n",
       "      <th></th>\n",
       "      <th></th>\n",
       "      <th></th>\n",
       "      <th></th>\n",
       "    </tr>\n",
       "  </thead>\n",
       "  <tbody>\n",
       "    <tr>\n",
       "      <th>0</th>\n",
       "      <td>660737</td>\n",
       "      <td>0</td>\n",
       "      <td>0.03</td>\n",
       "      <td>0</td>\n",
       "      <td>3</td>\n",
       "    </tr>\n",
       "    <tr>\n",
       "      <th>1</th>\n",
       "      <td>660728</td>\n",
       "      <td>0</td>\n",
       "      <td>0.01</td>\n",
       "      <td>0</td>\n",
       "      <td>1</td>\n",
       "    </tr>\n",
       "    <tr>\n",
       "      <th>2</th>\n",
       "      <td>660727</td>\n",
       "      <td>1</td>\n",
       "      <td>0.95</td>\n",
       "      <td>1</td>\n",
       "      <td>95</td>\n",
       "    </tr>\n",
       "    <tr>\n",
       "      <th>3</th>\n",
       "      <td>660719</td>\n",
       "      <td>0</td>\n",
       "      <td>0.01</td>\n",
       "      <td>0</td>\n",
       "      <td>1</td>\n",
       "    </tr>\n",
       "    <tr>\n",
       "      <th>4</th>\n",
       "      <td>660681</td>\n",
       "      <td>1</td>\n",
       "      <td>0.95</td>\n",
       "      <td>1</td>\n",
       "      <td>95</td>\n",
       "    </tr>\n",
       "    <tr>\n",
       "      <th>5</th>\n",
       "      <td>660680</td>\n",
       "      <td>0</td>\n",
       "      <td>0.13</td>\n",
       "      <td>0</td>\n",
       "      <td>13</td>\n",
       "    </tr>\n",
       "    <tr>\n",
       "      <th>6</th>\n",
       "      <td>660673</td>\n",
       "      <td>1</td>\n",
       "      <td>0.95</td>\n",
       "      <td>1</td>\n",
       "      <td>95</td>\n",
       "    </tr>\n",
       "    <tr>\n",
       "      <th>7</th>\n",
       "      <td>660664</td>\n",
       "      <td>0</td>\n",
       "      <td>0.13</td>\n",
       "      <td>0</td>\n",
       "      <td>13</td>\n",
       "    </tr>\n",
       "    <tr>\n",
       "      <th>8</th>\n",
       "      <td>660624</td>\n",
       "      <td>0</td>\n",
       "      <td>0.13</td>\n",
       "      <td>0</td>\n",
       "      <td>13</td>\n",
       "    </tr>\n",
       "    <tr>\n",
       "      <th>9</th>\n",
       "      <td>660616</td>\n",
       "      <td>0</td>\n",
       "      <td>0.13</td>\n",
       "      <td>0</td>\n",
       "      <td>13</td>\n",
       "    </tr>\n",
       "  </tbody>\n",
       "</table>\n",
       "</div>"
      ],
      "text/plain": [
       "        Lead Number  Converted  Conversion_Prob  final_predicted  Lead_Score\n",
       "LeadID                                                                      \n",
       "0            660737          0             0.03                0           3\n",
       "1            660728          0             0.01                0           1\n",
       "2            660727          1             0.95                1          95\n",
       "3            660719          0             0.01                0           1\n",
       "4            660681          1             0.95                1          95\n",
       "5            660680          0             0.13                0          13\n",
       "6            660673          1             0.95                1          95\n",
       "7            660664          0             0.13                0          13\n",
       "8            660624          0             0.13                0          13\n",
       "9            660616          0             0.13                0          13"
      ]
     },
     "execution_count": 1240,
     "metadata": {},
     "output_type": "execute_result"
    }
   ],
   "source": [
    "# Concatenating the 2 dataframes based on index and displaying the top 10 rows\n",
    "# This is done son that Lead Score is associated to the Lead Number of each Lead. This will help in quick identification of the lead.\n",
    "leads_with_score = pd.concat([original_leads, lead_full_pred], axis=1)\n",
    "leads_with_score.head(10)"
   ]
  },
  {
   "cell_type": "code",
   "execution_count": 1241,
   "metadata": {},
   "outputs": [
    {
     "data": {
      "text/plain": [
       "(8575, 5)"
      ]
     },
     "execution_count": 1241,
     "metadata": {},
     "output_type": "execute_result"
    }
   ],
   "source": [
    "# Inspecting the dataframe shape\n",
    "leads_with_score.shape"
   ]
  },
  {
   "cell_type": "code",
   "execution_count": 1242,
   "metadata": {},
   "outputs": [
    {
     "data": {
      "text/html": [
       "<div>\n",
       "<style scoped>\n",
       "    .dataframe tbody tr th:only-of-type {\n",
       "        vertical-align: middle;\n",
       "    }\n",
       "\n",
       "    .dataframe tbody tr th {\n",
       "        vertical-align: top;\n",
       "    }\n",
       "\n",
       "    .dataframe thead th {\n",
       "        text-align: right;\n",
       "    }\n",
       "</style>\n",
       "<table border=\"1\" class=\"dataframe\">\n",
       "  <thead>\n",
       "    <tr style=\"text-align: right;\">\n",
       "      <th></th>\n",
       "      <th>Total</th>\n",
       "      <th>Percentage</th>\n",
       "    </tr>\n",
       "  </thead>\n",
       "  <tbody>\n",
       "    <tr>\n",
       "      <th>Lead_Score</th>\n",
       "      <td>0</td>\n",
       "      <td>0.00</td>\n",
       "    </tr>\n",
       "    <tr>\n",
       "      <th>final_predicted</th>\n",
       "      <td>0</td>\n",
       "      <td>0.00</td>\n",
       "    </tr>\n",
       "    <tr>\n",
       "      <th>Conversion_Prob</th>\n",
       "      <td>0</td>\n",
       "      <td>0.00</td>\n",
       "    </tr>\n",
       "    <tr>\n",
       "      <th>Converted</th>\n",
       "      <td>0</td>\n",
       "      <td>0.00</td>\n",
       "    </tr>\n",
       "    <tr>\n",
       "      <th>Lead Number</th>\n",
       "      <td>0</td>\n",
       "      <td>0.00</td>\n",
       "    </tr>\n",
       "  </tbody>\n",
       "</table>\n",
       "</div>"
      ],
      "text/plain": [
       "                 Total  Percentage\n",
       "Lead_Score           0        0.00\n",
       "final_predicted      0        0.00\n",
       "Conversion_Prob      0        0.00\n",
       "Converted            0        0.00\n",
       "Lead Number          0        0.00"
      ]
     },
     "execution_count": 1242,
     "metadata": {},
     "output_type": "execute_result"
    }
   ],
   "source": [
    "# Inspectin if the final dataframe has any null values\n",
    "\n",
    "total = pd.DataFrame(leads_with_score.isnull().sum().sort_values(ascending=False), columns=['Total'])\n",
    "percentage = pd.DataFrame(round(100*(leads_with_score.isnull().sum()/leads_with_score.shape[0]),2).sort_values(ascending=False)\\\n",
    "                          ,columns=['Percentage'])\n",
    "pd.concat([total, percentage], axis = 1)"
   ]
  },
  {
   "cell_type": "markdown",
   "metadata": {},
   "source": [
    "### Step 12: Determining Feature Importance"
   ]
  },
  {
   "cell_type": "code",
   "execution_count": 1243,
   "metadata": {},
   "outputs": [
    {
     "data": {
      "text/plain": [
       "Lead Source_Welingak Website                 4.67\n",
       "Lead Quality_Worst                          -2.41\n",
       "Asymmetrique Activity Index_03.Low          -1.95\n",
       "Tags_Already a student                      -2.48\n",
       "Tags_Closed by Horizzon                      6.49\n",
       "Tags_Interested in other courses            -1.64\n",
       "Tags_Lost to EINS                            6.51\n",
       "Tags_Not doing further education            -2.36\n",
       "Tags_Ringing                                -2.86\n",
       "Tags_Will revert after reading the email     4.77\n",
       "Tags_invalid number                        -23.30\n",
       "Tags_number not provided                   -23.58\n",
       "Tags_switched off                           -3.76\n",
       "Tags_wrong number given                    -23.71\n",
       "Last Activity_SMS Sent                       2.14\n",
       "dtype: float64"
      ]
     },
     "execution_count": 1243,
     "metadata": {},
     "output_type": "execute_result"
    }
   ],
   "source": [
    "pd.options.display.float_format = '{:.2f}'.format\n",
    "new_params = res.params[1:]\n",
    "new_params"
   ]
  },
  {
   "cell_type": "code",
   "execution_count": 1244,
   "metadata": {},
   "outputs": [
    {
     "data": {
      "text/plain": [
       "Lead Source_Welingak Website                 71.75\n",
       "Lead Quality_Worst                          -37.02\n",
       "Asymmetrique Activity Index_03.Low          -29.99\n",
       "Tags_Already a student                      -38.09\n",
       "Tags_Closed by Horizzon                      99.66\n",
       "Tags_Interested in other courses            -25.14\n",
       "Tags_Lost to EINS                           100.00\n",
       "Tags_Not doing further education            -36.30\n",
       "Tags_Ringing                                -43.93\n",
       "Tags_Will revert after reading the email     73.22\n",
       "Tags_invalid number                        -357.76\n",
       "Tags_number not provided                   -362.10\n",
       "Tags_switched off                           -57.81\n",
       "Tags_wrong number given                    -364.11\n",
       "Last Activity_SMS Sent                       32.88\n",
       "dtype: float64"
      ]
     },
     "execution_count": 1244,
     "metadata": {},
     "output_type": "execute_result"
    }
   ],
   "source": [
    "#feature_importance = abs(new_params)\n",
    "feature_importance = new_params\n",
    "feature_importance = 100.0 * (feature_importance / feature_importance.max())\n",
    "feature_importance"
   ]
  },
  {
   "cell_type": "code",
   "execution_count": 1245,
   "metadata": {},
   "outputs": [
    {
     "data": {
      "text/plain": [
       "Lead Source_Welingak Website                13\n",
       "Lead Quality_Worst                          11\n",
       "Asymmetrique Activity Index_03.Low          10\n",
       "Tags_Already a student                      12\n",
       "Tags_Closed by Horizzon                      8\n",
       "Tags_Interested in other courses             3\n",
       "Tags_Lost to EINS                            1\n",
       "Tags_Not doing further education             7\n",
       "Tags_Ringing                                 2\n",
       "Tags_Will revert after reading the email     5\n",
       "Tags_invalid number                         14\n",
       "Tags_number not provided                     0\n",
       "Tags_switched off                            9\n",
       "Tags_wrong number given                      4\n",
       "Last Activity_SMS Sent                       6\n",
       "dtype: int64"
      ]
     },
     "execution_count": 1245,
     "metadata": {},
     "output_type": "execute_result"
    }
   ],
   "source": [
    "sorted_idx = np.argsort(feature_importance,kind='quicksort',order='list of str')\n",
    "sorted_idx"
   ]
  },
  {
   "cell_type": "markdown",
   "metadata": {},
   "source": [
    "#### Plot showing the feature variables based on their relative coefficient values"
   ]
  },
  {
   "cell_type": "code",
   "execution_count": 1246,
   "metadata": {},
   "outputs": [
    {
     "data": {
      "image/png": "[encoded data removed]",
      "text/plain": [
       "<Figure size 720x432 with 1 Axes>"
      ]
     },
     "metadata": {},
     "output_type": "display_data"
    }
   ],
   "source": [
    "pos = np.arange(sorted_idx.shape[0]) + .5\n",
    "\n",
    "featfig = plt.figure(figsize=(10,6))\n",
    "featax = featfig.add_subplot(1, 1, 1)\n",
    "featax.barh(pos, feature_importance[sorted_idx], align='center', color = 'tab:red',alpha=0.8)\n",
    "featax.set_yticks(pos)\n",
    "featax.set_yticklabels(np.array(X_train[col].columns)[sorted_idx], fontsize=12)\n",
    "featax.set_xlabel('Relative Feature Importance', fontsize=14)\n",
    "\n",
    "plt.tight_layout()   \n",
    "plt.show()"
   ]
  },
  {
   "cell_type": "markdown",
   "metadata": {},
   "source": [
    "##### **Selecting Top 4 features which contribute most towards the probability of a lead getting converted**"
   ]
  },
  {
   "cell_type": "code",
   "execution_count": 1247,
   "metadata": {},
   "outputs": [
    {
     "data": {
      "text/html": [
       "<div>\n",
       "<style scoped>\n",
       "    .dataframe tbody tr th:only-of-type {\n",
       "        vertical-align: middle;\n",
       "    }\n",
       "\n",
       "    .dataframe tbody tr th {\n",
       "        vertical-align: top;\n",
       "    }\n",
       "\n",
       "    .dataframe thead th {\n",
       "        text-align: right;\n",
       "    }\n",
       "</style>\n",
       "<table border=\"1\" class=\"dataframe\">\n",
       "  <thead>\n",
       "    <tr style=\"text-align: right;\">\n",
       "      <th></th>\n",
       "      <th>index</th>\n",
       "      <th>0</th>\n",
       "    </tr>\n",
       "  </thead>\n",
       "  <tbody>\n",
       "    <tr>\n",
       "      <th>6</th>\n",
       "      <td>Tags_Lost to EINS</td>\n",
       "      <td>100.00</td>\n",
       "    </tr>\n",
       "    <tr>\n",
       "      <th>4</th>\n",
       "      <td>Tags_Closed by Horizzon</td>\n",
       "      <td>99.66</td>\n",
       "    </tr>\n",
       "    <tr>\n",
       "      <th>9</th>\n",
       "      <td>Tags_Will revert after reading the email</td>\n",
       "      <td>73.22</td>\n",
       "    </tr>\n",
       "    <tr>\n",
       "      <th>0</th>\n",
       "      <td>Lead Source_Welingak Website</td>\n",
       "      <td>71.75</td>\n",
       "    </tr>\n",
       "  </tbody>\n",
       "</table>\n",
       "</div>"
      ],
      "text/plain": [
       "                                      index      0\n",
       "6                         Tags_Lost to EINS 100.00\n",
       "4                   Tags_Closed by Horizzon  99.66\n",
       "9  Tags_Will revert after reading the email  73.22\n",
       "0              Lead Source_Welingak Website  71.75"
      ]
     },
     "execution_count": 1247,
     "metadata": {},
     "output_type": "execute_result"
    }
   ],
   "source": [
    "pd.DataFrame(feature_importance).reset_index().sort_values(by=0,ascending=False).head(4)"
   ]
  },
  {
   "cell_type": "markdown",
   "metadata": {},
   "source": [
    "## Step 13: Conclusion and Results"
   ]
  },
  {
   "cell_type": "markdown",
   "metadata": {},
   "source": [
    "The Top 4  feature hot leads which likely be converted are \n",
    "1. Tags_Lost to EINS\n",
    "2. Tags_Closed by Horizzon\n",
    "3. Tags_Will revert after reading the email\n",
    "4. Lead Source_Welingak Website"
   ]
  },
  {
   "cell_type": "code",
   "execution_count": null,
   "metadata": {},
   "outputs": [],
   "source": []
  }
 ],
 "metadata": {
  "kernelspec": {
   "display_name": "Python 3",
   "language": "python",
   "name": "python3"
  },
  "language_info": {
   "codemirror_mode": {
    "name": "ipython",
    "version": 3
   },
   "file_extension": ".py",
   "mimetype": "text/x-python",
   "name": "python",
   "nbconvert_exporter": "python",
   "pygments_lexer": "ipython3",
   "version": "3.7.1"
  }
 },
 "nbformat": 4,
 "nbformat_minor": 2
}
